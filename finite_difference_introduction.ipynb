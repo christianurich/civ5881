{
 "cells": [
  {
   "cell_type": "markdown",
   "metadata": {},
   "source": [
    "# Finite difference modeling\n",
    "\n",
    "*Prof. dr.ir.T.N.Olsthoorn*\n",
    "\n",
    "*Heemstede, Sept. 2016, 24 May 2017*\n",
    "\n",
    "*Modified by Christian Urich*\n",
    "\n",
    "*Melbourne, 27 March 2018*"
   ]
  },
  {
   "cell_type": "markdown",
   "metadata": {},
   "source": [
    "## Approach\n",
    "\n",
    "In this notebook we set-up a 3D steady-state finite difference model from scratch. We do this by computing a numerical groundwater problem step by step, by hand, using finite difference, building up the pieces of the model, which we will assemble in the next chapter."
   ]
  },
  {
   "cell_type": "markdown",
   "metadata": {},
   "source": [
    "## Setup of the model by specifying its dimensions"
   ]
  },
  {
   "cell_type": "markdown",
   "metadata": {},
   "source": [
    "The 3D steady state FDM will be based on a regular grid consisting of rows an columns and layers. The column widths and the row heigts are constant on a per column and per row basis, but the layer thickness can vary on a cell by cell basis. The grid of a full 3D model will thus be specified in general by a vector of x cell boundary coordinates, a vector y row boundary coordinates and a full 3D array of cell top and bottom coordinates.\n",
    "\n",
    "Notice that the arrays are interpreted as [z, y, x] or [layer row col]. This is a convenience in Python where when Phi is a 3D array of the shape of the grid [Nz, Ny, Nz] we have\n",
    "\n",
    "Phi[k].shape is [Ny, Nx], the entire layer number i.\n",
    "Phi[k][j] = Nx, the entire row j of layer i.\n",
    "Phi[k][j][i] = the head in cell [k, j, i] which is the same as Phi[k, j, i]"
   ]
  },
  {
   "cell_type": "code",
   "execution_count": 2,
   "metadata": {
    "collapsed": true
   },
   "outputs": [],
   "source": [
    "import numpy as np\n",
    "\n",
    "# specify a rectangular grid\n",
    "x = np.arange(-50., 50.1, 25.)\n",
    "y = np.arange(-50., 50.1, 25.) # backward, i.e. first row grid line has highest y\n",
    "z = np.arange(-25.01, 0., 20.)  # backward, i.e. from top to bottom"
   ]
  },
  {
   "cell_type": "markdown",
   "metadata": {},
   "source": [
    "From these coordinates we obtain the number of cells along each axis and the cell sizes and"
   ]
  },
  {
   "cell_type": "code",
   "execution_count": 3,
   "metadata": {
    "collapsed": true
   },
   "outputs": [],
   "source": [
    "# as well as the number of cells along the three axes\n",
    "Nx = len(x)-1\n",
    "Ny = len(y)-1\n",
    "Nz = len(z)-1\n",
    "\n",
    "sz = (Nz,Ny,Nx)  # the shape of the model\n",
    "Nod = np.prod(sz) # total number of cells in the model\n",
    "\n",
    "# from this we have the width of columns, rows and layers\n",
    "dx = np.diff(x).reshape(1, 1, Nx)\n",
    "dy = np.diff(y).reshape(1, Ny,1)\n",
    "dz = np.abs(np.diff(z)).reshape(Nz, 1,1)"
   ]
  },
  {
   "cell_type": "markdown",
   "metadata": {},
   "source": [
    "## IBOUND array - telling which cells are active and which have a prescribed head"
   ]
  },
  {
   "cell_type": "markdown",
   "metadata": {},
   "source": [
    "Let's first specify which of the cells have their head prescrided and which cells are inactive. We have to tackle inactive cells early to make sure their conductance is made zero (in case there conductivities might be specified as non-zeros).\n",
    "\n",
    "We do that my means of a so-called boundary array IBOUND (MODFLOW terminology), which is an integer array of the shape of the model grid that tells which cells have a prescribed head, which cells are inactive (i.e. which cells does not take part of the computation, such as cells that represent impermeable rock) and for which cells the head should be computed.\n",
    "\n",
    "* IBOUND > 0,  means heads will be computed\n",
    "* IBOUND == 0, means  cells are inactive\n",
    "* IBOUND <0 ,  means heads prescribed\n",
    "\n",
    "In this particular example we specify that the vertical zx plane at the last row of the model will have prescribed heads equal to zero."
   ]
  },
  {
   "cell_type": "code",
   "execution_count": 5,
   "metadata": {},
   "outputs": [],
   "source": [
    "IBOUND = np.ones(sz)\n",
    "IBOUND[:,-1,:] = -1  # last row of model heads are prescribed\n",
    "IBOUND[:,1,:] = -1  # first row of model heads are prescribed\n",
    "# IBOUND[:, 40:45, 20:70]=0 # these cells are inactive"
   ]
  },
  {
   "cell_type": "markdown",
   "metadata": {},
   "source": [
    "This boundary array makes it easy telling which cells cells are active (head computed), inactive, and fixed-head."
   ]
  },
  {
   "cell_type": "code",
   "execution_count": 6,
   "metadata": {
    "collapsed": true
   },
   "outputs": [],
   "source": [
    "active = (IBOUND>0).reshape(Nod)  # active is now a vector of booleans of length Nod\n",
    "inact  = (IBOUND==0).reshape(Nod) # dito for inact\n",
    "fxhd   = (IBOUND<0).reshape(Nod)  # dito for fxhd"
   ]
  },
  {
   "cell_type": "markdown",
   "metadata": {},
   "source": [
    "## Cell conductancies: defining the ease of flow between adjacent cells"
   ]
  },
  {
   "cell_type": "markdown",
   "metadata": {},
   "source": [
    "The first thing to define based on the properties of the cells is the flow resistance of each cell in the 3 grid directions, `x`, `y` and `z`. For that we need the cell sizes from the coordinates and the hydraulic conductivities in the `x`, `y` and `z` direction. The latter are given as full 3D arrays `kx`, `ky`, `kz` whose shapes correspond to that of the model mesh."
   ]
  },
  {
   "cell_type": "code",
   "execution_count": 7,
   "metadata": {
    "collapsed": true
   },
   "outputs": [],
   "source": [
    "k = 10.0 # m/d uniform conductivity\n",
    "kx = k * np.ones(sz) # [L/T] 3D kx array\n",
    "ky = k * np.ones(sz) # [L/T] 3D ky array with same values as kx \n",
    "kz = k * np.ones(sz) # [L/T] 3D kz array with same values as kx"
   ]
  },
  {
   "cell_type": "markdown",
   "metadata": {},
   "source": [
    "The flow resistances for each cell is the head loss across opposite cell faces due to a unit flux through the cell along the axis perperndicular to them. These resistances are cell properties that can immediately be computed for the entire grid of the model. Because we always need the resistance between the cell center and its outer faces, we use the factor 0.5 (flow over half the lenght of the cell in each direction)"
   ]
  },
  {
   "cell_type": "code",
   "execution_count": 8,
   "metadata": {
    "collapsed": true
   },
   "outputs": [],
   "source": [
    "# half cell flow resistances\n",
    "Rx = 0.5 * dx / (dy * dz) / kx  # [T/L2], flow resistance half cell in x-direction\n",
    "Ry = 0.5 * dy / (dz * dx) / ky  # same in y-direction\n",
    "Rz = 0.5 * dz / (dx * dy) / kz  # same in z-direction"
   ]
  },
  {
   "cell_type": "markdown",
   "metadata": {},
   "source": [
    "Make inactive cells inactive by setting their resistance to np.Inf (infinite):"
   ]
  },
  {
   "cell_type": "code",
   "execution_count": 9,
   "metadata": {
    "collapsed": true
   },
   "outputs": [],
   "source": [
    "Rx = Rx.reshape(Nod,); Rx[inact] = np.Inf; Rx=Rx.reshape(sz)\n",
    "Ry = Ry.reshape(Nod,); Ry[inact] = np.Inf; Ry=Ry.reshape(sz)\n",
    "Rz = Rz.reshape(Nod,); Rz[inact] = np.Inf; Rz=Rz.reshape(sz)"
   ]
  },
  {
   "cell_type": "markdown",
   "metadata": {},
   "source": [
    "From this we compute the conductance between each pair of adjacent cells across their connecting cell face. The conductance is just the reverse of the resistance of the two connected half cells. This resistance is the sum of the resistances of the two connected half cells because these resistances are placed in series with respect to the flow."
   ]
  },
  {
   "cell_type": "code",
   "execution_count": 10,
   "metadata": {
    "collapsed": true
   },
   "outputs": [],
   "source": [
    "# conductances between adjacent cells\n",
    "Cx = 1 / (Rx[:, :, :-1] + Rx[:, :,1:]) # [L2/T] in x-direction\n",
    "Cy = 1 / (Ry[:, :-1,:] + Ry[:, 1:,:]) # idem in y-direction\n",
    "Cz = 1 / (Rz[:-1,:,:] + Rz[1:,:,:]) # idem in z-direction"
   ]
  },
  {
   "cell_type": "markdown",
   "metadata": {},
   "source": [
    "## Setting up the system matrix - set of water balance equations"
   ]
  },
  {
   "cell_type": "markdown",
   "metadata": {},
   "source": [
    "The system matrix has size of (`Nod`, `Nod`) allowing a connection between each pair of cells. Of course only cells that share their cell face are connected in reality. In a 3D model this means that each cell is connected to its 6 neighbors instead of to all other cells in the model. This means that most of the matrix entries will be zero.\n",
    "\n",
    "To be able to indentify adjacent cells we generate cell numbers in an array that has the size of the model grid:"
   ]
  },
  {
   "cell_type": "code",
   "execution_count": 11,
   "metadata": {
    "collapsed": true
   },
   "outputs": [],
   "source": [
    "NOD = np.arange(Nod).reshape(sz) # this is a full 3D array of node numbers (cell numbers)"
   ]
  },
  {
   "cell_type": "markdown",
   "metadata": {},
   "source": [
    "With this array it's easy to identify adjacent cells by their cell number. Thus we generate arrays with the cel numbers of right hand neigbor of the cells (east neighbor), the left hand neighbor (the west neigbor), the north neighbor, south neighbor, the top neighbor and the bottom neighbor as follows"
   ]
  },
  {
   "cell_type": "code",
   "execution_count": 12,
   "metadata": {
    "collapsed": true
   },
   "outputs": [],
   "source": [
    "IE = NOD[:, :, 1:] # numbers of the eastern neighbors of each cell\n",
    "IW = NOD[:, :, :-1] # same western neighbors\n",
    "IN = NOD[:, :-1,:] # same northern neighbors\n",
    "IS = NOD[:, 1:,:] # southern neighbors\n",
    "IT = NOD[:-1,:,:] # top neighbors\n",
    "IB = NOD[1:,:,:] # bottom neighbors"
   ]
  },
  {
   "cell_type": "markdown",
   "metadata": {},
   "source": [
    "Notice that the shape of the `IE` and `IW` is the same as that of `Cx`, the size of `IN` and `IS` is the same as that of `Cy` and the size of `IT` and `IB` is the same as that of `Cx`.\n",
    "\n",
    "To put the conductances into the system matrix we need their row and column indices together with their value, so that we can say `a`[`j`,`i`] = `value`. Because we have the numbers of adjacent cells in the arrays `IE`, `IW` etc, we can immediately place all the system matrix coefficiencts at the place into a sparse matrix."
   ]
  },
  {
   "cell_type": "code",
   "execution_count": 13,
   "metadata": {
    "collapsed": true,
    "scrolled": false
   },
   "outputs": [],
   "source": [
    "import scipy.sparse as sp\n",
    "\n",
    "R = lambda x : x.ravel() # define short hand for x.ravel()\n",
    "\n",
    "# notice the call signature:\n",
    "#      csc_matrix( (data, (row_index, col_index) ), (M,N)); This is a tuple within tuple.\n",
    "A = sp.csc_matrix(( np.concatenate(( R(Cx), R(Cx), R(Cy), R(Cy), R(Cz), R(Cz)) ),\\\n",
    "                   (np.concatenate(( R(IE), R(IW), R(IN), R(IS), R(IB), R(IT)) ),\\\n",
    "                    np.concatenate(( R(IW), R(IE), R(IS), R(IN), R(IT), R(IB)) ),\\\n",
    "                  )),(Nod,Nod))"
   ]
  },
  {
   "cell_type": "markdown",
   "metadata": {},
   "source": [
    "We now have to define the diagonal elements of the system matrix `A`, i.e. the values `a`[`i`,`i`] for `i`=[0:`Nod`].\n",
    "\n",
    "These are just the negative sum of the row coefficients. Hence we sum `A` over the second axis (`axis`=1) to get them in a [`Nod`,1] sized vector. (Notice stat sparace matrix derived vectors keep their orientation, contrary to vectors obained from numpy arrays, which produce dimensionless vectors).\n",
    "\n",
    "Generate the diagonal values:"
   ]
  },
  {
   "cell_type": "code",
   "execution_count": 31,
   "metadata": {
    "collapsed": true
   },
   "outputs": [],
   "source": [
    "# to use the vector of diagonal values int a call of sp.diags() we need to have it aa a \n",
    "# standard nondimensional numpy vector.\n",
    "# To get this:\n",
    "# - first turn the matrix obtained by A.sum(axis=1) into a np.array by np.array( .. )\n",
    "# - then take the whole column to loose the array orientation (to get a dimensionless numpy vector)\n",
    "adiag = np.array(-A.sum(axis=1))[:,0]"
   ]
  },
  {
   "cell_type": "markdown",
   "metadata": {},
   "source": [
    "Then generate a diagonal array from these values, that we can add it to `A`, to complete `A`."
   ]
  },
  {
   "cell_type": "code",
   "execution_count": 32,
   "metadata": {
    "collapsed": true
   },
   "outputs": [],
   "source": [
    "Adiag = sp.diags(adiag)"
   ]
  },
  {
   "cell_type": "markdown",
   "metadata": {},
   "source": [
    "More complex alternative: Generate diagonal array by calling the csr_matrix constructor:\n",
    "\n",
    "Adiag = sp.csr_matrix((adiag,(np.arange(Nod),np.arange(Nod))),(Nod,Nod))"
   ]
  },
  {
   "cell_type": "markdown",
   "metadata": {},
   "source": [
    "## Boundary conditions\n",
    "\n",
    "For this chapter we only use fixed flow and fixed head boundary conditions."
   ]
  },
  {
   "cell_type": "markdown",
   "metadata": {},
   "source": [
    "### Fixed flows"
   ]
  },
  {
   "cell_type": "markdown",
   "metadata": {},
   "source": [
    "Fixed flow boundary conditions are specified by an 3D array of the size of the grid. Each values specifies the inflow for the corresponding cell (injections are positive). Cells without a specified flow are, in fact, cells where the specified flow is zero. Hence the fixed-flows array is a full 3D array with flow values that are zero where no flow enters or leaves the cells and have non-zero values elsewhere.\n",
    "\n",
    "For this example, we specify a single extraction of Q=-1200 m3/d in cell [30,25,2]:"
   ]
  },
  {
   "cell_type": "code",
   "execution_count": 33,
   "metadata": {
    "collapsed": true
   },
   "outputs": [],
   "source": [
    "FQ = np.zeros(sz)    # all flows zero. Note sz is the shape of the model grid\n",
    "#FQ[2, 30, 25] = -1200  # [m3/d] extraction in this cell"
   ]
  },
  {
   "cell_type": "markdown",
   "metadata": {},
   "source": [
    "The righ-hand size of the matrix equation to be solved, the vector RHS, contains the flows. So we can generate it by assignment of `FQ` and converting it to a numpy vector"
   ]
  },
  {
   "cell_type": "code",
   "execution_count": 34,
   "metadata": {
    "collapsed": true
   },
   "outputs": [],
   "source": [
    "RHS = FQ.reshape(Nod)"
   ]
  },
  {
   "cell_type": "markdown",
   "metadata": {},
   "source": [
    "See further down how we use `RHS` for only the active and non-fixed head rows.\n",
    "\n",
    "The next step is to add fixed head boundary conditions."
   ]
  },
  {
   "cell_type": "markdown",
   "metadata": {},
   "source": [
    "### Fixed heads"
   ]
  },
  {
   "cell_type": "markdown",
   "metadata": {},
   "source": [
    "Fixed heads are known heads. This implies that in the set of equations that represent the model, i.e\n",
    "\n",
    "$A \\times Phi = RHS$\n",
    "\n",
    "Some of the Phis are prescribed and should not be computed as defined by `IBOUND` and contained in the boolean vectors `active`, `fxhd` and `inact` specified and computed above."
   ]
  },
  {
   "cell_type": "markdown",
   "metadata": {},
   "source": [
    "Now that we know which cell have fixed heads, we can multiply out these heads with the corresponding columns of the system matrix, which yields a vector of constant values with dimension flow [m3/d] that can be added to the fixed flow vector in the `RHS` vector. The `RHS` vector is now the sum of the `FQ` and the contribution from the fixed heads.\n",
    "\n",
    "Notice that the fixed heads will be obtained from the given array `HI` of the initial heads, where the head in the cells where `IBOUND`>0 correspond with the fixed heads."
   ]
  },
  {
   "cell_type": "code",
   "execution_count": 35,
   "metadata": {
    "collapsed": true
   },
   "outputs": [],
   "source": [
    "HI = np.zeros(sz)\n",
    "HI[:,-1,:] = 3\n",
    "HI[:,1,:] = 1"
   ]
  },
  {
   "cell_type": "markdown",
   "metadata": {},
   "source": [
    "We reshape `FQ` and `HI` to a column vector to allow matrix multiplication"
   ]
  },
  {
   "cell_type": "code",
   "execution_count": 36,
   "metadata": {
    "collapsed": true
   },
   "outputs": [],
   "source": [
    "RHS = FQ.reshape(Nod,1) - A[:,fxhd].dot(HI.reshape(Nod,1)[fxhd])"
   ]
  },
  {
   "cell_type": "markdown",
   "metadata": {},
   "source": [
    "We have now the complete `RHS` of the matrix equation to solve:\n",
    "\n",
    "$A \\times Phi = RHS$"
   ]
  },
  {
   "cell_type": "markdown",
   "metadata": {},
   "source": [
    "## Solving the matrix equation for the unknown heads"
   ]
  },
  {
   "cell_type": "markdown",
   "metadata": {},
   "source": [
    "We use the sparse matrix solver in module `scipy.sparse.linalg` to compute the unknown heads."
   ]
  },
  {
   "cell_type": "code",
   "execution_count": 37,
   "metadata": {
    "collapsed": true
   },
   "outputs": [],
   "source": [
    "from scipy.sparse.linalg import spsolve # import with from to use its short name"
   ]
  },
  {
   "cell_type": "markdown",
   "metadata": {},
   "source": [
    "Of course we only need the active rows and columns of `A` and the active rows from `RHS`.\n",
    "\n",
    "But first allocate a full-fledged vector of heads to store the result."
   ]
  },
  {
   "cell_type": "code",
   "execution_count": 38,
   "metadata": {
    "collapsed": true
   },
   "outputs": [],
   "source": [
    "Phi = HI.flatten() "
   ]
  },
  {
   "cell_type": "markdown",
   "metadata": {},
   "source": [
    "Then compute the unknown heads (i.e. the active cels only).\n",
    "\n",
    "Remark: If we want to select a submatrix from `A` defiend by a given vectors of row and column indices, we can do so in sequence: Rows (I) first, columns (J) next, like so:\n",
    "\n",
    "$A[I][:,J]$\n",
    "\n",
    "which we apply in the next line"
   ]
  },
  {
   "cell_type": "code",
   "execution_count": 39,
   "metadata": {},
   "outputs": [],
   "source": [
    "Phi[active] = spsolve( (A+Adiag)[active][:,active] ,RHS[active] )\n",
    "#Phi[active] = spsolve( (A)[active][:,active] ,RHS[active] )"
   ]
  },
  {
   "cell_type": "markdown",
   "metadata": {},
   "source": [
    "At this point we solved the problem and now have the heads for all cells in the vector Phi.\n",
    "\n",
    "We didn't touch the rows and columns that are inactive. So the heads of these inactive cells whatever they are in `HI` are know still in `Phi`. Just to make sure we detect them and won't use them, set them to `NaN` (Not a Number)."
   ]
  },
  {
   "cell_type": "code",
   "execution_count": 40,
   "metadata": {
    "collapsed": true
   },
   "outputs": [],
   "source": [
    "Phi[inact] = np.NaN"
   ]
  },
  {
   "cell_type": "markdown",
   "metadata": {},
   "source": [
    "Finally we reshape the head vector to that of the model grid."
   ]
  },
  {
   "cell_type": "code",
   "execution_count": 41,
   "metadata": {
    "collapsed": true
   },
   "outputs": [],
   "source": [
    "Phi=Phi.reshape(sz) # reshape vector Phi to 3D shape of the grid"
   ]
  },
  {
   "cell_type": "code",
   "execution_count": 42,
   "metadata": {},
   "outputs": [
    {
     "data": {
      "text/plain": [
       "array([[[ 1.,  1.,  1.,  1.],\n",
       "        [ 1.,  1.,  1.,  1.],\n",
       "        [ 2.,  2.,  2.,  2.],\n",
       "        [ 3.,  3.,  3.,  3.]]])"
      ]
     },
     "execution_count": 42,
     "metadata": {},
     "output_type": "execute_result"
    }
   ],
   "source": [
    "Phi # show Phi"
   ]
  },
  {
   "cell_type": "markdown",
   "metadata": {},
   "source": [
    "## Plotting the heads as contours"
   ]
  },
  {
   "cell_type": "markdown",
   "metadata": {},
   "source": [
    "Import the required plotting module and setup the plot."
   ]
  },
  {
   "cell_type": "code",
   "execution_count": 43,
   "metadata": {
    "collapsed": true
   },
   "outputs": [],
   "source": [
    "%matplotlib notebook\n",
    "import matplotlib.pyplot as plt # combines namespace of numpy and pyplot"
   ]
  },
  {
   "cell_type": "markdown",
   "metadata": {},
   "source": [
    "For coordinates of the cells use their centers."
   ]
  },
  {
   "cell_type": "code",
   "execution_count": 44,
   "metadata": {
    "collapsed": true
   },
   "outputs": [],
   "source": [
    "xm = 0.5 * (x[:-1] + x[1:]) # [L] coordinates of column centers\n",
    "ym = 0.5 * (y[:-1] + y[1:]) # [L] coordinates of row centers\n",
    "layer = 0 # contours for this layer\n",
    "# nc = 50   # number of contours in total"
   ]
  },
  {
   "cell_type": "markdown",
   "metadata": {},
   "source": [
    "Plot the results using plt functions like in Matlab"
   ]
  },
  {
   "cell_type": "code",
   "execution_count": 45,
   "metadata": {},
   "outputs": [
    {
     "data": {
      "application/javascript": [
       "/* Put everything inside the global mpl namespace */\n",
       "window.mpl = {};\n",
       "\n",
       "\n",
       "mpl.get_websocket_type = function() {\n",
       "    if (typeof(WebSocket) !== 'undefined') {\n",
       "        return WebSocket;\n",
       "    } else if (typeof(MozWebSocket) !== 'undefined') {\n",
       "        return MozWebSocket;\n",
       "    } else {\n",
       "        alert('Your browser does not have WebSocket support.' +\n",
       "              'Please try Chrome, Safari or Firefox ≥ 6. ' +\n",
       "              'Firefox 4 and 5 are also supported but you ' +\n",
       "              'have to enable WebSockets in about:config.');\n",
       "    };\n",
       "}\n",
       "\n",
       "mpl.figure = function(figure_id, websocket, ondownload, parent_element) {\n",
       "    this.id = figure_id;\n",
       "\n",
       "    this.ws = websocket;\n",
       "\n",
       "    this.supports_binary = (this.ws.binaryType != undefined);\n",
       "\n",
       "    if (!this.supports_binary) {\n",
       "        var warnings = document.getElementById(\"mpl-warnings\");\n",
       "        if (warnings) {\n",
       "            warnings.style.display = 'block';\n",
       "            warnings.textContent = (\n",
       "                \"This browser does not support binary websocket messages. \" +\n",
       "                    \"Performance may be slow.\");\n",
       "        }\n",
       "    }\n",
       "\n",
       "    this.imageObj = new Image();\n",
       "\n",
       "    this.context = undefined;\n",
       "    this.message = undefined;\n",
       "    this.canvas = undefined;\n",
       "    this.rubberband_canvas = undefined;\n",
       "    this.rubberband_context = undefined;\n",
       "    this.format_dropdown = undefined;\n",
       "\n",
       "    this.image_mode = 'full';\n",
       "\n",
       "    this.root = $('<div/>');\n",
       "    this._root_extra_style(this.root)\n",
       "    this.root.attr('style', 'display: inline-block');\n",
       "\n",
       "    $(parent_element).append(this.root);\n",
       "\n",
       "    this._init_header(this);\n",
       "    this._init_canvas(this);\n",
       "    this._init_toolbar(this);\n",
       "\n",
       "    var fig = this;\n",
       "\n",
       "    this.waiting = false;\n",
       "\n",
       "    this.ws.onopen =  function () {\n",
       "            fig.send_message(\"supports_binary\", {value: fig.supports_binary});\n",
       "            fig.send_message(\"send_image_mode\", {});\n",
       "            if (mpl.ratio != 1) {\n",
       "                fig.send_message(\"set_dpi_ratio\", {'dpi_ratio': mpl.ratio});\n",
       "            }\n",
       "            fig.send_message(\"refresh\", {});\n",
       "        }\n",
       "\n",
       "    this.imageObj.onload = function() {\n",
       "            if (fig.image_mode == 'full') {\n",
       "                // Full images could contain transparency (where diff images\n",
       "                // almost always do), so we need to clear the canvas so that\n",
       "                // there is no ghosting.\n",
       "                fig.context.clearRect(0, 0, fig.canvas.width, fig.canvas.height);\n",
       "            }\n",
       "            fig.context.drawImage(fig.imageObj, 0, 0);\n",
       "        };\n",
       "\n",
       "    this.imageObj.onunload = function() {\n",
       "        this.ws.close();\n",
       "    }\n",
       "\n",
       "    this.ws.onmessage = this._make_on_message_function(this);\n",
       "\n",
       "    this.ondownload = ondownload;\n",
       "}\n",
       "\n",
       "mpl.figure.prototype._init_header = function() {\n",
       "    var titlebar = $(\n",
       "        '<div class=\"ui-dialog-titlebar ui-widget-header ui-corner-all ' +\n",
       "        'ui-helper-clearfix\"/>');\n",
       "    var titletext = $(\n",
       "        '<div class=\"ui-dialog-title\" style=\"width: 100%; ' +\n",
       "        'text-align: center; padding: 3px;\"/>');\n",
       "    titlebar.append(titletext)\n",
       "    this.root.append(titlebar);\n",
       "    this.header = titletext[0];\n",
       "}\n",
       "\n",
       "\n",
       "\n",
       "mpl.figure.prototype._canvas_extra_style = function(canvas_div) {\n",
       "\n",
       "}\n",
       "\n",
       "\n",
       "mpl.figure.prototype._root_extra_style = function(canvas_div) {\n",
       "\n",
       "}\n",
       "\n",
       "mpl.figure.prototype._init_canvas = function() {\n",
       "    var fig = this;\n",
       "\n",
       "    var canvas_div = $('<div/>');\n",
       "\n",
       "    canvas_div.attr('style', 'position: relative; clear: both; outline: 0');\n",
       "\n",
       "    function canvas_keyboard_event(event) {\n",
       "        return fig.key_event(event, event['data']);\n",
       "    }\n",
       "\n",
       "    canvas_div.keydown('key_press', canvas_keyboard_event);\n",
       "    canvas_div.keyup('key_release', canvas_keyboard_event);\n",
       "    this.canvas_div = canvas_div\n",
       "    this._canvas_extra_style(canvas_div)\n",
       "    this.root.append(canvas_div);\n",
       "\n",
       "    var canvas = $('<canvas/>');\n",
       "    canvas.addClass('mpl-canvas');\n",
       "    canvas.attr('style', \"left: 0; top: 0; z-index: 0; outline: 0\")\n",
       "\n",
       "    this.canvas = canvas[0];\n",
       "    this.context = canvas[0].getContext(\"2d\");\n",
       "\n",
       "    var backingStore = this.context.backingStorePixelRatio ||\n",
       "\tthis.context.webkitBackingStorePixelRatio ||\n",
       "\tthis.context.mozBackingStorePixelRatio ||\n",
       "\tthis.context.msBackingStorePixelRatio ||\n",
       "\tthis.context.oBackingStorePixelRatio ||\n",
       "\tthis.context.backingStorePixelRatio || 1;\n",
       "\n",
       "    mpl.ratio = (window.devicePixelRatio || 1) / backingStore;\n",
       "\n",
       "    var rubberband = $('<canvas/>');\n",
       "    rubberband.attr('style', \"position: absolute; left: 0; top: 0; z-index: 1;\")\n",
       "\n",
       "    var pass_mouse_events = true;\n",
       "\n",
       "    canvas_div.resizable({\n",
       "        start: function(event, ui) {\n",
       "            pass_mouse_events = false;\n",
       "        },\n",
       "        resize: function(event, ui) {\n",
       "            fig.request_resize(ui.size.width, ui.size.height);\n",
       "        },\n",
       "        stop: function(event, ui) {\n",
       "            pass_mouse_events = true;\n",
       "            fig.request_resize(ui.size.width, ui.size.height);\n",
       "        },\n",
       "    });\n",
       "\n",
       "    function mouse_event_fn(event) {\n",
       "        if (pass_mouse_events)\n",
       "            return fig.mouse_event(event, event['data']);\n",
       "    }\n",
       "\n",
       "    rubberband.mousedown('button_press', mouse_event_fn);\n",
       "    rubberband.mouseup('button_release', mouse_event_fn);\n",
       "    // Throttle sequential mouse events to 1 every 20ms.\n",
       "    rubberband.mousemove('motion_notify', mouse_event_fn);\n",
       "\n",
       "    rubberband.mouseenter('figure_enter', mouse_event_fn);\n",
       "    rubberband.mouseleave('figure_leave', mouse_event_fn);\n",
       "\n",
       "    canvas_div.on(\"wheel\", function (event) {\n",
       "        event = event.originalEvent;\n",
       "        event['data'] = 'scroll'\n",
       "        if (event.deltaY < 0) {\n",
       "            event.step = 1;\n",
       "        } else {\n",
       "            event.step = -1;\n",
       "        }\n",
       "        mouse_event_fn(event);\n",
       "    });\n",
       "\n",
       "    canvas_div.append(canvas);\n",
       "    canvas_div.append(rubberband);\n",
       "\n",
       "    this.rubberband = rubberband;\n",
       "    this.rubberband_canvas = rubberband[0];\n",
       "    this.rubberband_context = rubberband[0].getContext(\"2d\");\n",
       "    this.rubberband_context.strokeStyle = \"#000000\";\n",
       "\n",
       "    this._resize_canvas = function(width, height) {\n",
       "        // Keep the size of the canvas, canvas container, and rubber band\n",
       "        // canvas in synch.\n",
       "        canvas_div.css('width', width)\n",
       "        canvas_div.css('height', height)\n",
       "\n",
       "        canvas.attr('width', width * mpl.ratio);\n",
       "        canvas.attr('height', height * mpl.ratio);\n",
       "        canvas.attr('style', 'width: ' + width + 'px; height: ' + height + 'px;');\n",
       "\n",
       "        rubberband.attr('width', width);\n",
       "        rubberband.attr('height', height);\n",
       "    }\n",
       "\n",
       "    // Set the figure to an initial 600x600px, this will subsequently be updated\n",
       "    // upon first draw.\n",
       "    this._resize_canvas(600, 600);\n",
       "\n",
       "    // Disable right mouse context menu.\n",
       "    $(this.rubberband_canvas).bind(\"contextmenu\",function(e){\n",
       "        return false;\n",
       "    });\n",
       "\n",
       "    function set_focus () {\n",
       "        canvas.focus();\n",
       "        canvas_div.focus();\n",
       "    }\n",
       "\n",
       "    window.setTimeout(set_focus, 100);\n",
       "}\n",
       "\n",
       "mpl.figure.prototype._init_toolbar = function() {\n",
       "    var fig = this;\n",
       "\n",
       "    var nav_element = $('<div/>')\n",
       "    nav_element.attr('style', 'width: 100%');\n",
       "    this.root.append(nav_element);\n",
       "\n",
       "    // Define a callback function for later on.\n",
       "    function toolbar_event(event) {\n",
       "        return fig.toolbar_button_onclick(event['data']);\n",
       "    }\n",
       "    function toolbar_mouse_event(event) {\n",
       "        return fig.toolbar_button_onmouseover(event['data']);\n",
       "    }\n",
       "\n",
       "    for(var toolbar_ind in mpl.toolbar_items) {\n",
       "        var name = mpl.toolbar_items[toolbar_ind][0];\n",
       "        var tooltip = mpl.toolbar_items[toolbar_ind][1];\n",
       "        var image = mpl.toolbar_items[toolbar_ind][2];\n",
       "        var method_name = mpl.toolbar_items[toolbar_ind][3];\n",
       "\n",
       "        if (!name) {\n",
       "            // put a spacer in here.\n",
       "            continue;\n",
       "        }\n",
       "        var button = $('<button/>');\n",
       "        button.addClass('ui-button ui-widget ui-state-default ui-corner-all ' +\n",
       "                        'ui-button-icon-only');\n",
       "        button.attr('role', 'button');\n",
       "        button.attr('aria-disabled', 'false');\n",
       "        button.click(method_name, toolbar_event);\n",
       "        button.mouseover(tooltip, toolbar_mouse_event);\n",
       "\n",
       "        var icon_img = $('<span/>');\n",
       "        icon_img.addClass('ui-button-icon-primary ui-icon');\n",
       "        icon_img.addClass(image);\n",
       "        icon_img.addClass('ui-corner-all');\n",
       "\n",
       "        var tooltip_span = $('<span/>');\n",
       "        tooltip_span.addClass('ui-button-text');\n",
       "        tooltip_span.html(tooltip);\n",
       "\n",
       "        button.append(icon_img);\n",
       "        button.append(tooltip_span);\n",
       "\n",
       "        nav_element.append(button);\n",
       "    }\n",
       "\n",
       "    var fmt_picker_span = $('<span/>');\n",
       "\n",
       "    var fmt_picker = $('<select/>');\n",
       "    fmt_picker.addClass('mpl-toolbar-option ui-widget ui-widget-content');\n",
       "    fmt_picker_span.append(fmt_picker);\n",
       "    nav_element.append(fmt_picker_span);\n",
       "    this.format_dropdown = fmt_picker[0];\n",
       "\n",
       "    for (var ind in mpl.extensions) {\n",
       "        var fmt = mpl.extensions[ind];\n",
       "        var option = $(\n",
       "            '<option/>', {selected: fmt === mpl.default_extension}).html(fmt);\n",
       "        fmt_picker.append(option)\n",
       "    }\n",
       "\n",
       "    // Add hover states to the ui-buttons\n",
       "    $( \".ui-button\" ).hover(\n",
       "        function() { $(this).addClass(\"ui-state-hover\");},\n",
       "        function() { $(this).removeClass(\"ui-state-hover\");}\n",
       "    );\n",
       "\n",
       "    var status_bar = $('<span class=\"mpl-message\"/>');\n",
       "    nav_element.append(status_bar);\n",
       "    this.message = status_bar[0];\n",
       "}\n",
       "\n",
       "mpl.figure.prototype.request_resize = function(x_pixels, y_pixels) {\n",
       "    // Request matplotlib to resize the figure. Matplotlib will then trigger a resize in the client,\n",
       "    // which will in turn request a refresh of the image.\n",
       "    this.send_message('resize', {'width': x_pixels, 'height': y_pixels});\n",
       "}\n",
       "\n",
       "mpl.figure.prototype.send_message = function(type, properties) {\n",
       "    properties['type'] = type;\n",
       "    properties['figure_id'] = this.id;\n",
       "    this.ws.send(JSON.stringify(properties));\n",
       "}\n",
       "\n",
       "mpl.figure.prototype.send_draw_message = function() {\n",
       "    if (!this.waiting) {\n",
       "        this.waiting = true;\n",
       "        this.ws.send(JSON.stringify({type: \"draw\", figure_id: this.id}));\n",
       "    }\n",
       "}\n",
       "\n",
       "\n",
       "mpl.figure.prototype.handle_save = function(fig, msg) {\n",
       "    var format_dropdown = fig.format_dropdown;\n",
       "    var format = format_dropdown.options[format_dropdown.selectedIndex].value;\n",
       "    fig.ondownload(fig, format);\n",
       "}\n",
       "\n",
       "\n",
       "mpl.figure.prototype.handle_resize = function(fig, msg) {\n",
       "    var size = msg['size'];\n",
       "    if (size[0] != fig.canvas.width || size[1] != fig.canvas.height) {\n",
       "        fig._resize_canvas(size[0], size[1]);\n",
       "        fig.send_message(\"refresh\", {});\n",
       "    };\n",
       "}\n",
       "\n",
       "mpl.figure.prototype.handle_rubberband = function(fig, msg) {\n",
       "    var x0 = msg['x0'] / mpl.ratio;\n",
       "    var y0 = (fig.canvas.height - msg['y0']) / mpl.ratio;\n",
       "    var x1 = msg['x1'] / mpl.ratio;\n",
       "    var y1 = (fig.canvas.height - msg['y1']) / mpl.ratio;\n",
       "    x0 = Math.floor(x0) + 0.5;\n",
       "    y0 = Math.floor(y0) + 0.5;\n",
       "    x1 = Math.floor(x1) + 0.5;\n",
       "    y1 = Math.floor(y1) + 0.5;\n",
       "    var min_x = Math.min(x0, x1);\n",
       "    var min_y = Math.min(y0, y1);\n",
       "    var width = Math.abs(x1 - x0);\n",
       "    var height = Math.abs(y1 - y0);\n",
       "\n",
       "    fig.rubberband_context.clearRect(\n",
       "        0, 0, fig.canvas.width, fig.canvas.height);\n",
       "\n",
       "    fig.rubberband_context.strokeRect(min_x, min_y, width, height);\n",
       "}\n",
       "\n",
       "mpl.figure.prototype.handle_figure_label = function(fig, msg) {\n",
       "    // Updates the figure title.\n",
       "    fig.header.textContent = msg['label'];\n",
       "}\n",
       "\n",
       "mpl.figure.prototype.handle_cursor = function(fig, msg) {\n",
       "    var cursor = msg['cursor'];\n",
       "    switch(cursor)\n",
       "    {\n",
       "    case 0:\n",
       "        cursor = 'pointer';\n",
       "        break;\n",
       "    case 1:\n",
       "        cursor = 'default';\n",
       "        break;\n",
       "    case 2:\n",
       "        cursor = 'crosshair';\n",
       "        break;\n",
       "    case 3:\n",
       "        cursor = 'move';\n",
       "        break;\n",
       "    }\n",
       "    fig.rubberband_canvas.style.cursor = cursor;\n",
       "}\n",
       "\n",
       "mpl.figure.prototype.handle_message = function(fig, msg) {\n",
       "    fig.message.textContent = msg['message'];\n",
       "}\n",
       "\n",
       "mpl.figure.prototype.handle_draw = function(fig, msg) {\n",
       "    // Request the server to send over a new figure.\n",
       "    fig.send_draw_message();\n",
       "}\n",
       "\n",
       "mpl.figure.prototype.handle_image_mode = function(fig, msg) {\n",
       "    fig.image_mode = msg['mode'];\n",
       "}\n",
       "\n",
       "mpl.figure.prototype.updated_canvas_event = function() {\n",
       "    // Called whenever the canvas gets updated.\n",
       "    this.send_message(\"ack\", {});\n",
       "}\n",
       "\n",
       "// A function to construct a web socket function for onmessage handling.\n",
       "// Called in the figure constructor.\n",
       "mpl.figure.prototype._make_on_message_function = function(fig) {\n",
       "    return function socket_on_message(evt) {\n",
       "        if (evt.data instanceof Blob) {\n",
       "            /* FIXME: We get \"Resource interpreted as Image but\n",
       "             * transferred with MIME type text/plain:\" errors on\n",
       "             * Chrome.  But how to set the MIME type?  It doesn't seem\n",
       "             * to be part of the websocket stream */\n",
       "            evt.data.type = \"image/png\";\n",
       "\n",
       "            /* Free the memory for the previous frames */\n",
       "            if (fig.imageObj.src) {\n",
       "                (window.URL || window.webkitURL).revokeObjectURL(\n",
       "                    fig.imageObj.src);\n",
       "            }\n",
       "\n",
       "            fig.imageObj.src = (window.URL || window.webkitURL).createObjectURL(\n",
       "                evt.data);\n",
       "            fig.updated_canvas_event();\n",
       "            fig.waiting = false;\n",
       "            return;\n",
       "        }\n",
       "        else if (typeof evt.data === 'string' && evt.data.slice(0, 21) == \"data:image/png;base64\") {\n",
       "            fig.imageObj.src = evt.data;\n",
       "            fig.updated_canvas_event();\n",
       "            fig.waiting = false;\n",
       "            return;\n",
       "        }\n",
       "\n",
       "        var msg = JSON.parse(evt.data);\n",
       "        var msg_type = msg['type'];\n",
       "\n",
       "        // Call the  \"handle_{type}\" callback, which takes\n",
       "        // the figure and JSON message as its only arguments.\n",
       "        try {\n",
       "            var callback = fig[\"handle_\" + msg_type];\n",
       "        } catch (e) {\n",
       "            console.log(\"No handler for the '\" + msg_type + \"' message type: \", msg);\n",
       "            return;\n",
       "        }\n",
       "\n",
       "        if (callback) {\n",
       "            try {\n",
       "                // console.log(\"Handling '\" + msg_type + \"' message: \", msg);\n",
       "                callback(fig, msg);\n",
       "            } catch (e) {\n",
       "                console.log(\"Exception inside the 'handler_\" + msg_type + \"' callback:\", e, e.stack, msg);\n",
       "            }\n",
       "        }\n",
       "    };\n",
       "}\n",
       "\n",
       "// from http://stackoverflow.com/questions/1114465/getting-mouse-location-in-canvas\n",
       "mpl.findpos = function(e) {\n",
       "    //this section is from http://www.quirksmode.org/js/events_properties.html\n",
       "    var targ;\n",
       "    if (!e)\n",
       "        e = window.event;\n",
       "    if (e.target)\n",
       "        targ = e.target;\n",
       "    else if (e.srcElement)\n",
       "        targ = e.srcElement;\n",
       "    if (targ.nodeType == 3) // defeat Safari bug\n",
       "        targ = targ.parentNode;\n",
       "\n",
       "    // jQuery normalizes the pageX and pageY\n",
       "    // pageX,Y are the mouse positions relative to the document\n",
       "    // offset() returns the position of the element relative to the document\n",
       "    var x = e.pageX - $(targ).offset().left;\n",
       "    var y = e.pageY - $(targ).offset().top;\n",
       "\n",
       "    return {\"x\": x, \"y\": y};\n",
       "};\n",
       "\n",
       "/*\n",
       " * return a copy of an object with only non-object keys\n",
       " * we need this to avoid circular references\n",
       " * http://stackoverflow.com/a/24161582/3208463\n",
       " */\n",
       "function simpleKeys (original) {\n",
       "  return Object.keys(original).reduce(function (obj, key) {\n",
       "    if (typeof original[key] !== 'object')\n",
       "        obj[key] = original[key]\n",
       "    return obj;\n",
       "  }, {});\n",
       "}\n",
       "\n",
       "mpl.figure.prototype.mouse_event = function(event, name) {\n",
       "    var canvas_pos = mpl.findpos(event)\n",
       "\n",
       "    if (name === 'button_press')\n",
       "    {\n",
       "        this.canvas.focus();\n",
       "        this.canvas_div.focus();\n",
       "    }\n",
       "\n",
       "    var x = canvas_pos.x * mpl.ratio;\n",
       "    var y = canvas_pos.y * mpl.ratio;\n",
       "\n",
       "    this.send_message(name, {x: x, y: y, button: event.button,\n",
       "                             step: event.step,\n",
       "                             guiEvent: simpleKeys(event)});\n",
       "\n",
       "    /* This prevents the web browser from automatically changing to\n",
       "     * the text insertion cursor when the button is pressed.  We want\n",
       "     * to control all of the cursor setting manually through the\n",
       "     * 'cursor' event from matplotlib */\n",
       "    event.preventDefault();\n",
       "    return false;\n",
       "}\n",
       "\n",
       "mpl.figure.prototype._key_event_extra = function(event, name) {\n",
       "    // Handle any extra behaviour associated with a key event\n",
       "}\n",
       "\n",
       "mpl.figure.prototype.key_event = function(event, name) {\n",
       "\n",
       "    // Prevent repeat events\n",
       "    if (name == 'key_press')\n",
       "    {\n",
       "        if (event.which === this._key)\n",
       "            return;\n",
       "        else\n",
       "            this._key = event.which;\n",
       "    }\n",
       "    if (name == 'key_release')\n",
       "        this._key = null;\n",
       "\n",
       "    var value = '';\n",
       "    if (event.ctrlKey && event.which != 17)\n",
       "        value += \"ctrl+\";\n",
       "    if (event.altKey && event.which != 18)\n",
       "        value += \"alt+\";\n",
       "    if (event.shiftKey && event.which != 16)\n",
       "        value += \"shift+\";\n",
       "\n",
       "    value += 'k';\n",
       "    value += event.which.toString();\n",
       "\n",
       "    this._key_event_extra(event, name);\n",
       "\n",
       "    this.send_message(name, {key: value,\n",
       "                             guiEvent: simpleKeys(event)});\n",
       "    return false;\n",
       "}\n",
       "\n",
       "mpl.figure.prototype.toolbar_button_onclick = function(name) {\n",
       "    if (name == 'download') {\n",
       "        this.handle_save(this, null);\n",
       "    } else {\n",
       "        this.send_message(\"toolbar_button\", {name: name});\n",
       "    }\n",
       "};\n",
       "\n",
       "mpl.figure.prototype.toolbar_button_onmouseover = function(tooltip) {\n",
       "    this.message.textContent = tooltip;\n",
       "};\n",
       "mpl.toolbar_items = [[\"Home\", \"Reset original view\", \"fa fa-home icon-home\", \"home\"], [\"Back\", \"Back to  previous view\", \"fa fa-arrow-left icon-arrow-left\", \"back\"], [\"Forward\", \"Forward to next view\", \"fa fa-arrow-right icon-arrow-right\", \"forward\"], [\"\", \"\", \"\", \"\"], [\"Pan\", \"Pan axes with left mouse, zoom with right\", \"fa fa-arrows icon-move\", \"pan\"], [\"Zoom\", \"Zoom to rectangle\", \"fa fa-square-o icon-check-empty\", \"zoom\"], [\"\", \"\", \"\", \"\"], [\"Download\", \"Download plot\", \"fa fa-floppy-o icon-save\", \"download\"]];\n",
       "\n",
       "mpl.extensions = [\"eps\", \"jpeg\", \"pdf\", \"png\", \"ps\", \"raw\", \"svg\", \"tif\"];\n",
       "\n",
       "mpl.default_extension = \"png\";var comm_websocket_adapter = function(comm) {\n",
       "    // Create a \"websocket\"-like object which calls the given IPython comm\n",
       "    // object with the appropriate methods. Currently this is a non binary\n",
       "    // socket, so there is still some room for performance tuning.\n",
       "    var ws = {};\n",
       "\n",
       "    ws.close = function() {\n",
       "        comm.close()\n",
       "    };\n",
       "    ws.send = function(m) {\n",
       "        //console.log('sending', m);\n",
       "        comm.send(m);\n",
       "    };\n",
       "    // Register the callback with on_msg.\n",
       "    comm.on_msg(function(msg) {\n",
       "        //console.log('receiving', msg['content']['data'], msg);\n",
       "        // Pass the mpl event to the overriden (by mpl) onmessage function.\n",
       "        ws.onmessage(msg['content']['data'])\n",
       "    });\n",
       "    return ws;\n",
       "}\n",
       "\n",
       "mpl.mpl_figure_comm = function(comm, msg) {\n",
       "    // This is the function which gets called when the mpl process\n",
       "    // starts-up an IPython Comm through the \"matplotlib\" channel.\n",
       "\n",
       "    var id = msg.content.data.id;\n",
       "    // Get hold of the div created by the display call when the Comm\n",
       "    // socket was opened in Python.\n",
       "    var element = $(\"#\" + id);\n",
       "    var ws_proxy = comm_websocket_adapter(comm)\n",
       "\n",
       "    function ondownload(figure, format) {\n",
       "        window.open(figure.imageObj.src);\n",
       "    }\n",
       "\n",
       "    var fig = new mpl.figure(id, ws_proxy,\n",
       "                           ondownload,\n",
       "                           element.get(0));\n",
       "\n",
       "    // Call onopen now - mpl needs it, as it is assuming we've passed it a real\n",
       "    // web socket which is closed, not our websocket->open comm proxy.\n",
       "    ws_proxy.onopen();\n",
       "\n",
       "    fig.parent_element = element.get(0);\n",
       "    fig.cell_info = mpl.find_output_cell(\"<div id='\" + id + \"'></div>\");\n",
       "    if (!fig.cell_info) {\n",
       "        console.error(\"Failed to find cell for figure\", id, fig);\n",
       "        return;\n",
       "    }\n",
       "\n",
       "    var output_index = fig.cell_info[2]\n",
       "    var cell = fig.cell_info[0];\n",
       "\n",
       "};\n",
       "\n",
       "mpl.figure.prototype.handle_close = function(fig, msg) {\n",
       "    var width = fig.canvas.width/mpl.ratio\n",
       "    fig.root.unbind('remove')\n",
       "\n",
       "    // Update the output cell to use the data from the current canvas.\n",
       "    fig.push_to_output();\n",
       "    var dataURL = fig.canvas.toDataURL();\n",
       "    // Re-enable the keyboard manager in IPython - without this line, in FF,\n",
       "    // the notebook keyboard shortcuts fail.\n",
       "    IPython.keyboard_manager.enable()\n",
       "    $(fig.parent_element).html('<img src=\"' + dataURL + '\" width=\"' + width + '\">');\n",
       "    fig.close_ws(fig, msg);\n",
       "}\n",
       "\n",
       "mpl.figure.prototype.close_ws = function(fig, msg){\n",
       "    fig.send_message('closing', msg);\n",
       "    // fig.ws.close()\n",
       "}\n",
       "\n",
       "mpl.figure.prototype.push_to_output = function(remove_interactive) {\n",
       "    // Turn the data on the canvas into data in the output cell.\n",
       "    var width = this.canvas.width/mpl.ratio\n",
       "    var dataURL = this.canvas.toDataURL();\n",
       "    this.cell_info[1]['text/html'] = '<img src=\"' + dataURL + '\" width=\"' + width + '\">';\n",
       "}\n",
       "\n",
       "mpl.figure.prototype.updated_canvas_event = function() {\n",
       "    // Tell IPython that the notebook contents must change.\n",
       "    IPython.notebook.set_dirty(true);\n",
       "    this.send_message(\"ack\", {});\n",
       "    var fig = this;\n",
       "    // Wait a second, then push the new image to the DOM so\n",
       "    // that it is saved nicely (might be nice to debounce this).\n",
       "    setTimeout(function () { fig.push_to_output() }, 1000);\n",
       "}\n",
       "\n",
       "mpl.figure.prototype._init_toolbar = function() {\n",
       "    var fig = this;\n",
       "\n",
       "    var nav_element = $('<div/>')\n",
       "    nav_element.attr('style', 'width: 100%');\n",
       "    this.root.append(nav_element);\n",
       "\n",
       "    // Define a callback function for later on.\n",
       "    function toolbar_event(event) {\n",
       "        return fig.toolbar_button_onclick(event['data']);\n",
       "    }\n",
       "    function toolbar_mouse_event(event) {\n",
       "        return fig.toolbar_button_onmouseover(event['data']);\n",
       "    }\n",
       "\n",
       "    for(var toolbar_ind in mpl.toolbar_items){\n",
       "        var name = mpl.toolbar_items[toolbar_ind][0];\n",
       "        var tooltip = mpl.toolbar_items[toolbar_ind][1];\n",
       "        var image = mpl.toolbar_items[toolbar_ind][2];\n",
       "        var method_name = mpl.toolbar_items[toolbar_ind][3];\n",
       "\n",
       "        if (!name) { continue; };\n",
       "\n",
       "        var button = $('<button class=\"btn btn-default\" href=\"#\" title=\"' + name + '\"><i class=\"fa ' + image + ' fa-lg\"></i></button>');\n",
       "        button.click(method_name, toolbar_event);\n",
       "        button.mouseover(tooltip, toolbar_mouse_event);\n",
       "        nav_element.append(button);\n",
       "    }\n",
       "\n",
       "    // Add the status bar.\n",
       "    var status_bar = $('<span class=\"mpl-message\" style=\"text-align:right; float: right;\"/>');\n",
       "    nav_element.append(status_bar);\n",
       "    this.message = status_bar[0];\n",
       "\n",
       "    // Add the close button to the window.\n",
       "    var buttongrp = $('<div class=\"btn-group inline pull-right\"></div>');\n",
       "    var button = $('<button class=\"btn btn-mini btn-primary\" href=\"#\" title=\"Stop Interaction\"><i class=\"fa fa-power-off icon-remove icon-large\"></i></button>');\n",
       "    button.click(function (evt) { fig.handle_close(fig, {}); } );\n",
       "    button.mouseover('Stop Interaction', toolbar_mouse_event);\n",
       "    buttongrp.append(button);\n",
       "    var titlebar = this.root.find($('.ui-dialog-titlebar'));\n",
       "    titlebar.prepend(buttongrp);\n",
       "}\n",
       "\n",
       "mpl.figure.prototype._root_extra_style = function(el){\n",
       "    var fig = this\n",
       "    el.on(\"remove\", function(){\n",
       "\tfig.close_ws(fig, {});\n",
       "    });\n",
       "}\n",
       "\n",
       "mpl.figure.prototype._canvas_extra_style = function(el){\n",
       "    // this is important to make the div 'focusable\n",
       "    el.attr('tabindex', 0)\n",
       "    // reach out to IPython and tell the keyboard manager to turn it's self\n",
       "    // off when our div gets focus\n",
       "\n",
       "    // location in version 3\n",
       "    if (IPython.notebook.keyboard_manager) {\n",
       "        IPython.notebook.keyboard_manager.register_events(el);\n",
       "    }\n",
       "    else {\n",
       "        // location in version 2\n",
       "        IPython.keyboard_manager.register_events(el);\n",
       "    }\n",
       "\n",
       "}\n",
       "\n",
       "mpl.figure.prototype._key_event_extra = function(event, name) {\n",
       "    var manager = IPython.notebook.keyboard_manager;\n",
       "    if (!manager)\n",
       "        manager = IPython.keyboard_manager;\n",
       "\n",
       "    // Check for shift+enter\n",
       "    if (event.shiftKey && event.which == 13) {\n",
       "        this.canvas_div.blur();\n",
       "        // select the cell after this one\n",
       "        var index = IPython.notebook.find_cell_index(this.cell_info[0]);\n",
       "        IPython.notebook.select(index + 1);\n",
       "    }\n",
       "}\n",
       "\n",
       "mpl.figure.prototype.handle_save = function(fig, msg) {\n",
       "    fig.ondownload(fig, null);\n",
       "}\n",
       "\n",
       "\n",
       "mpl.find_output_cell = function(html_output) {\n",
       "    // Return the cell and output element which can be found *uniquely* in the notebook.\n",
       "    // Note - this is a bit hacky, but it is done because the \"notebook_saving.Notebook\"\n",
       "    // IPython event is triggered only after the cells have been serialised, which for\n",
       "    // our purposes (turning an active figure into a static one), is too late.\n",
       "    var cells = IPython.notebook.get_cells();\n",
       "    var ncells = cells.length;\n",
       "    for (var i=0; i<ncells; i++) {\n",
       "        var cell = cells[i];\n",
       "        if (cell.cell_type === 'code'){\n",
       "            for (var j=0; j<cell.output_area.outputs.length; j++) {\n",
       "                var data = cell.output_area.outputs[j];\n",
       "                if (data.data) {\n",
       "                    // IPython >= 3 moved mimebundle to data attribute of output\n",
       "                    data = data.data;\n",
       "                }\n",
       "                if (data['text/html'] == html_output) {\n",
       "                    return [cell, data, j];\n",
       "                }\n",
       "            }\n",
       "        }\n",
       "    }\n",
       "}\n",
       "\n",
       "// Register the function which deals with the matplotlib target/channel.\n",
       "// The kernel may be null if the page has been refreshed.\n",
       "if (IPython.notebook.kernel != null) {\n",
       "    IPython.notebook.kernel.comm_manager.register_target('matplotlib', mpl.mpl_figure_comm);\n",
       "}\n"
      ],
      "text/plain": [
       "<IPython.core.display.Javascript object>"
      ]
     },
     "metadata": {},
     "output_type": "display_data"
    },
    {
     "data": {
      "text/html": [
       "<img src=\"data:image/png;base64,iVBORw0KGgoAAAANSUhEUgAABQAAAAPACAYAAABq3NR5AAAAAXNSR0IArs4c6QAAQABJREFUeAHs3QecXVWdOPDzkknvCQmpEHrvIYAoWBAQEBQrrh3rrl0X3dW17Or+13X9r3X3b8G2FkQUQYq6KBaQTijSCQnJJIH0OpNMMvP+57yZN7kz82beZDLtzfseP2fuufeee+4535OPTH65954QJAIECBAgQIAAAQIECBAgQIAAAQIECBAgQIAAAQIECBAgQIAAAQIECBAgQIAAAQIECBAgQIAAAQIECBAgQIAAAQIECBAgQIAAAQIECBAgQIAAAQIECBAgQIAAAQIECBAgQIAAAQIECBAgQIAAAQIECBAgQIAAAQIECBAgQIAAAQIECBAgQIAAAQIECBAgQIAAAQIECBAgQIAAAQIECBAgQIAAAQIECBAgQIAAAQIECBAgQIAAAQIECBAgQIAAAQIECBAgQIAAAQIECBAgQIAAAQIECBAgQIAAAQIECBAgQIAAAQIECBAgQIAAAQIECBAgQIAAAQIECBAgQIAAAQIECBAgQIAAAQIECBAgQIAAAQIECBAgQIAAAQIECBAgQIAAAQIECBAgQIAAAQIECBAgQIAAAQIECBAgQIAAAQIECBAgQIAAAQIECBAgQIAAAQIECBAgQIAAAQIECBAgQIAAAQIECBAgQIAAAQIECBAgQIAAAQIECBAgQIAAAQIECBAgQIAAAQIECBAgQIAAAQIECBAgQIAAAQIECBAgQIAAAQIECBAgQIAAAQIECBAgQIAAAQIECBAgQIAAAQIECBAgQIAAAQIECBAgQIAAAQIECBAgQIAAAQIECBAgQIAAAQIECBAgQIAAAQIECBAgQIAAAQIECBAgQIAAAQIECBAgQIAAAQIECBAgQIAAAQIECBAgQIAAAQIECBAgQIAAAQIECBAgQIAAAQIECBAgQIAAAQIECBAgQIAAAQIECBAgQIAAAQIECBAgQIAAAQIECBAgQIAAAQIECBAgQIAAAQIECBAgQIAAAQIECBAgQIAAAQIECBAgQIAAAQIECBAgQIAAAQIECBAgQIAAAQIECBAgQIAAAQIECBAgQIAAAQIECBAgQIAAAQIECBAgQIAAAQIECBAgQIAAAQIECBAgQIAAAQIECBAgQIAAAQIECBAgQIAAAQIECBAgQIAAAQIECBAgQIAAAQIECBAgQIAAAQIECBAgQIAAAQIECBAgQIAAAQIECBAgQIAAAQIECBAgQIAAAQIECBAgQIAAAQIECBAgQIAAAQIECBAgQIAAAQIECBAgQIAAAQIECBAgQIAAAQIECBAgQIAAAQIECBAgQIAAAQIECBAgQIAAAQIECBAgQIAAAQIECBAgQIAAAQIECBAgQIAAAQIECBAgQIAAAQIECBAgQIAAAQIECBAgQIAAAQIECBAgQIAAAQIECBAgQIAAAQIECBAgQIAAAQIECBAgQIAAAQIECBAgQIAAAQIECBAgQIAAAQIECBAgQIAAAQIECBAgQIAAAQIECBAgQIAAAQIECBAgQIAAAQIECBAgQIAAAQIECBAgQIAAAQIECBAgQIAAAQIECBAgQIAAAQIECBAgQIAAAQIECBAgQIAAAQIECBAgQIAAAQIECBAgQIAAAQIECBAgQIAAAQIECBAgQIAAAQIECBAgQIAAAQIECBAgQIAAAQIECBAgQIAAAQIECBAgQIAAAQIECBAgQIAAAQIECBAgQIAAAQIECBAgQIAAAQIECBAgQIAAAQIECBAgQIAAAQIECBAgQIAAAQIECBAgQIAAAQIECBAgQIAAAQIECBAgQIAAAQIECBAgQIAAAQIECBAgQIAAAQIECBAgQIAAAQIECBAgQIAAAQIECBAgQIAAAQIECBAgQIAAAQIECBAgQIAAAQIECBAgQIAAAQIECBAgQIAAAQIECBAgQIAAAQIECBAgQIAAAQIECBAgQIAAAQIECBAgQIAAAQIECBAgQIAAAQIECBAgQIAAAQIECBAgQIAAAQIECBAgQIAAAQIECBAgQIAAAQIECBAgQIAAAQIECBAgQIAAAQIECBAgQIAAAQIECBAgQIAAAQIECBAgQIAAAQIECBAgQIAAAQIECBAgQIAAAQIECBAgQIAAAQIECBAgQIAAAQIECBAgQIAAAQIECBAgQIAAAQIECBAgQIAAAQIECBAgQIAAAQIECBAgQIAAAQIECBAgQIAAAQIECBAgQIAAAQIECBAgQIAAAQIECBAgQIAAAQIECBAgQIAAAQIECBAgQIAAAQIECBAgQIAAAQIECBAgQIAAAQIECBAgQIAAAQIECBAgQIAAAQIECBAgQIAAAQIECBAgQIAAAQIECBAgQIAAAQIECBAgQIAAAQIECBAgQIAAAQIECBAgQIAAAQIECBAgQIAAAQIECBAgQIAAAQIECBAgQIAAAQIECBAgQIAAAQIECBAgQIAAAQIECBAgQIAAAQIECBAgQIAAAQIECBAgQIAAAQIECBAgQIAAAQIECBAgQIAAAQIECBAgQIAAAQIECBAgQIAAAQIECBAgQIAAAQIECBAgQIAAAQIECBAgQIAAAQIECBAgQIAAAQIECBAgQIAAAQIECBAgQIAAAQIECBAgQIAAAQIECBAgQIAAAQIECBAgQIAAAQIECBAgQIAAAQIECBAgQIAAAQIECBAgQIAAAQIECBAgQIAAAQIECBAgQIAAAQIECBAgQIAAAQIECBAgQIAAAQIECBAgQIAAAQIECBAgQIAAAQIECBAgQIAAAQIECBAgQIAAAQIECBAgQIAAAQIECBAgQIAAAQIECBAgQIAAAQIECBAgQIAAAQIECBAgQIAAAQIECBAgQIAAAQIECBAgQIAAAQIECBAgQIAAAQIECBAgQIAAAQIECBAgQIAAAQIECBAgQIAAAQIECBAgQIAAAQIECBAgQIAAAQIECBAgQIAAAQIECBAgQIAAAQIECBAgQIAAAQIECBAgQIAAAQIECBAgQIAAAQIECBAgQIAAAQIECBAgQIAAAQIECBAgQIAAAQIECBAgQIAAAQIECBAgQIAAAQIECBAgQIAAAQIECBAgQIAAAQIECBAgQIAAAQIECBAgQIAAAQIECBAgQIAAAQIECBAgQIAAAQIECBAgQIAAAQIECBAgQIAAAQIECBAgQIAAAQIECBAgQIAAAQIECBAgQIAAAQIECBAgQIAAAQIECBAgQIAAAQIECBAgQIAAAQIECBAgQIAAAQIECBAgQIAAAQIECBAgQIAAAQIECBAgQIAAAQIECBAgQIAAAQIECBAgQIAAAQIECBAgQIAAAQIECBAgQIAAAQIECBAgQIAAAQIECBAgQIAAAQIECBAgQIAAAQIECBAgQIAAAQIECBAgQIAAAQIECBAgQIAAAQIECBAgQIAAAQIECBAgQIAAAQIECBAgQIAAAQIECBAgQIAAAQIECBAgQIAAAQIECBAgQIAAAQIECBAgQIAAAQIECBAgQIAAAQIECBAgQIAAAQIECBAgQIAAAQIECBAgQIAAAQIECBAgQIAAAQIECBAgQIAAAQIECBAgQIAAAQIECBAgQIAAAQJVJJCrorEa6uASGBW7c0xLl9bEbePg6p7eECBAgAABAgQIECBAgACBISEwPI5iestIHozbHUNiVAaxRwI1e1RbZQK9J5CCf3f1XnNaIkCAAAECBAgQIECAAAECBMoInBzP312mjtNDUGDYEByTIREgQIAAAQIECBAgQIAAAQIECBAg0CLgCUB/FAZKIL32W0h33nlnmDVrVnHXlgABAgQIECBAgAABAgQIEOglgVWrVoWFCxcWW2v9u3jxgG11CAgAVsc8D8ZRtn7zLwX/5s6dOxj7qE8ECBAgQIAAAQIECBAgQGAoCbT+XXwoDcpYygt4Bbi8kRoECBAgQIAAAQIECBAgQIAAAQIEKlZAALBip07HCRAgQIAAAQIECBAgQIAAAQIECJQXEAAsb6QGAQIECBAgQIAAAQIECBAgQIAAgYoVEACs2KnTcQIECBAgQIAAAQIECBAgQIAAAQLlBQQAyxupQYAAAQIECBAgQIAAAQIECBAgQKBiBQQAK3bqdJwAAQIECBAgQIAAAQIECBAgQIBAeQEBwPJGahAgQIAAAQIECBAgQIAAAQIECBCoWAEBwIqdOh0nQIAAAQIECBAgQIAAAQIECBAgUF5AALC8kRoECBAgQIAAAQIECBAgQIAAAQIEKlZAALBip07HCRAgQIAAAQIECBAgQIAAAQIECJQXEAAsb6QGAQIECBAgQIAAAQIECBAgQIAAgYoVEACs2KnTcQIECBAgQIAAAQIECBAgQIAAAQLlBQQAyxupQYAAAQIECBAgQIAAAQIECBAgQKBiBQQAK3bqdJwAAQIECBAgQIAAAQIECBAgQIBAeQEBwPJGahAgQIAAAQIECBAgQIAAAQIECBCoWAEBwIqdOh0nQIAAAQIECBAgQIAAAQIECBAgUF5AALC8kRoECBAgQIAAAQIECBAgQIAAAQIEKlZAALBip07HCRAgQIAAAQIECBAgQIAAAQIECJQXEAAsb6QGAQIECBAgQIAAAQIECBAgQIAAgYoVEACs2KnTcQIECBAgQIAAAQIECBAgQIAAAQLlBQQAyxupQYAAAQIECBAgQIAAAQIECBAgQKBiBQQAK3bqdJwAAQIECBAgQIAAAQIECBAgQIBAeQEBwPJGahAgQIAAAQIECBAgQIAAAQIECBCoWAEBwIqdOh0nQIAAAQIECBAgQIAAAQIECBAgUF5AALC8kRoECBAgQIAAAQIECBAgQIAAAQIEKlZAALBip07HCRAgQIAAAQIECBAgQIAAAQIECJQXEAAsb6QGAQIECBAgQIAAAQIECBAgQIAAgYoVEACs2KnTcQIECBAgQIAAAQIECBAgQIAAAQLlBQQAyxupQYAAAQIECBAgQIAAAQIECBAgQKBiBQQAK3bqdJwAAQIECBAgQIAAAQIECBAgQIBAeQEBwPJGahAgQIAAAQIECBAgQIAAAQIECBCoWAEBwIqdOh0nQIAAAQIECBAgQIAAAQIECBAgUF5AALC8kRoECBAgQIAAAQIECBAgQIAAAQIEKlZAALBip07HCRAgQIAAAQIECBAgQIAAAQIECJQXEAAsb6QGAQIECBAgQIAAAQIECBAgQIAAgYoVEACs2KnTcQIECBAgQIAAAQIECBAgQIAAAQLlBQQAyxupQYAAAQIECBAgQIAAAQIECBAgQKBiBQQAK3bqdJwAAQIECBAgQIAAAQIECBAgQIBAeQEBwPJGahAgQIAAAQIECBAgQIAAAQIECBCoWAEBwIqdOh0nQIAAAQIECBAgQIAAAQIECBAgUF5AALC8kRoECBAgQIAAAQIECBAgQIAAAQIEKlZAALBip07HCRAgQIAAAQIECBAgQIAAAQIECJQXEAAsb6QGAQIECBAgQIAAAQIECBAgQIAAgYoVEACs2KnTcQIECBAgQIAAAQIECBAgQIAAAQLlBQQAyxupQYAAAQIECBAgQIAAAQIECBAgQKBiBQQAK3bqdJwAAQIECBAgQIAAAQIECBAgQIBAeYGa8lXUIECAAAECBAgQIECAwG6B/M4HQ9jxx5BvuCeEXU+G0LQ+hNyIEIbNCGHkiSE35pUhN3LB7gt6UMrvuCPkN7xhz64csTAMm/bDDtc0rX5B7OOKDsc7HBg2Jw7h5g6H2x/IN9wb8nU/DqHh7tju2jjuiSHUHB7HfXHMF7Svbp8AAQIECAy4gADggE+BDhAgQIAAAQIECBCoHIGmda8LYWcMfLVP+Z0hNC4NoX5pyNf/IuRHvyzkJn025HIj29fsu/2aA/qu7ZaWm7Z8JYRt/xX3mnbfKwUBG26JAdGYt18bcpO/Gsc9avd5JQIECBAgMMACAoADPAFuT4AAAQIECBAgQKCiBJpWN3c3Pe03+iXNT/oNnxVCPgbEdi4K+W3fibGxZ0PY/suQD7tiMOz/9mx4I44JuWnXlb02v/mf433vLNTLjXl51/VHvSjkxn+w8zrpKcYuUr7uihj8+1pzjeH7hdy4d4Uw4tAY+Fwdnwj8QQwC3h6fjPxDyG/6h56Pu4v7O0WAAAECBHoqIADYUznXESBAgAABAgQIEKhGgZoDYxDtQzH4d058ym14W4GRx4cw5qKQX3dJDIotiUHA6+JTcZfEIOHJbet1Yy83bGx8tTYG17pI+abNMfh3X3ON4fvH+5zYRe14KjcxvqncdZudNZBv2hjyW77QfHrY7BicvDLkhk1t3k9xw1EvCPmNfxcDgL9vHveO14TcqFM6a85xAgQIECDQrwIWAelXbjcjQIAAAQIECBAgUNkCw6Z8M37n7ryOwb+WYaWgWG7Cx1oHmd/+69Zyrxe23xCbbCg0m4uBxz5NdT+LTzluab7XhI/sDv613DQFQ3MTPx33moOi+bpvt5yxIUCAAAECAy8gADjwc6AHBAgQIECAAAECBIaWwMjMk2+Ny/psbPn6X7a0nYtPJL6sz+6TGs7vuKm5/dz4eK+zS94rN3xmXATlOc3ndtwW34reWrKegwQIECBAoL8FBAD7W9z9CBAgQIAAAQIECAx5gean8pqH2e414V4ae35XDCzuvLe5tRELQq5mbi+13LGZfD6OZ+cDLfc6ocuFTXa/7pyu+WvHxhwhQIAAAQIDIOAbgAOA7pYECBAgQIAAAQIEhrRAQ/OiHIUx1hzUJ0PN11/d2m7ZxT+KNXfeFZrWXhi/T7g8PtLXGN/W3Scu4hEXGxl9QfyG31kxsBefJCyVdi2NR2P9lOI3ELtM2fONi2PVU7us7iQBAgQIEOgPAQHA/lB2DwIECBAgQIAAAQJVIpCPqwHnt32zdbS5uFJwb6d8Ph8X2ri2pdnR8ZXcc7t3i8batvXSfsz57TfGQGBcQGTyl0LhNd62teKqxs+0Hil5vvVsLKQVkVtSvnFV6CSkWKxiS4AAAQIE+kVAALBfmN2EAAECBAgQIECAQJUI1H139+uyo86Oq+4e3fsD33l381N8qeXRL44LcsTv8nWVcnGZ3lEviqsEnx4DfXEV4PQdv6a4oMfORSFf95NYXhXL94b8+reEUFjdd0Lb1vLbdu/n4urEXaXcmN1n83W7y0oECBAgQGAABQQABxDfrZsF8k0b4geSy/wiBYsAAQIECBAgQKBXBdJqvb2d8vHV3/yWLzY3O2xaXBX3M719i0J7+fprWtvNjSm/+Edu2lUxSDix9ZrWwqi4WMnY14f8xvfFxYRviUHFxSG/9aux3//YWqVQyO/I7MdgYpdp5O6z+e27y3tQyjet34PaqhIgQKBrgfR3bomAAKA/AwMukI/fYcmPLPeL1IB3UwcIECBAgAABAkNKIDfz8V4dT37nEyG/4e9im7tiHhVyk78SX6ed1qv3SI3lUzBu+6+b2x02Y/equ13cqWTwr6V+4enByV8O+TUvio1vDKH+ypCf8JG2C33kRmVa35kplyrGxT+KKRdfT+5Byq/23cAesLmEAIFOBPJry/3/VicXOjykBKwCPKSm02AIECBAgAABAgQI9L9AftfyGPyLr8/mN8WbD4/Bv/+Mr9ue3Dcd2f67eJ/NzW2PuTAG6vZ+leHcsPjK75jzmttMr+22X703N273WMq91puv31233OvCu2sqESBAgACBPhUQAOxTXo0TIECAAAECBAgQGNoC+cZnY/DvzfE7eqvjQHMhN+lf46q6Z/XZoPPbf9nadm50+dd/WyuXKeSGH7y7RtOzu8upNGxm636+cfeCIK0Hs4W48Ecx5TILghSP2RIgQIAAgYEQEAAcCHX3JECAAAECBAgQIDAEBNK36gpP/jUuL4wmN+GfQm7My/tsZPnGdSHsiN/qS6nmqLjASFzQo7dSrov1emvmx7u0PGm466mu75g9P/ygrus6S4AAAQIE+knANwD7CbqXbpO+XJzeTUjvUyyIeU7M02NOS43FD5aEh2O+IebLY46/HZVNL4k13hFzai+1sybmu2L+Zsw3xtwvKbfPtSE3Iw1FIkCAAAECBAgQqBSBfFxFN7/+0vjJvycLXc6Nj9/NG/f6vu3+9l/F9tM3BuOzht1Y/KNQsZs/8i3jKFRP3xbMpFxuZMiPOLawanBh5eB8Q9tvBGbq5hvSr9MpxcVAergCcm7G7c1N+EmAAIFeEMg1rIitxP8Pk6paQACwsqZ/YezuTzrpcgrgndmS/z5u029fv4m5VEpPfqYgX/yNrU1KUbiU07sU3475nTE3xdynKTdsSlyVrfdXoevTTmucAAECBAgQIFDFAvn4nbv8hrfHWNxDzQrj3h1y49O/K/dtytcXX/+NC8iNeWmv3SwFM0P99c3t5eK/rY84pkPbuVFnhfzORfH7g1vjIiS/jfe/oEOdwuvBDX9pPj7qtPg77vgOdbpzwO/G3VFShwCB7grkhtV1t6p6Q1jAK8CVN7nLY5d/EPP7Y7445tNiPj3m18T8s5gbY94n5mtjPi7mUulz8WAx+Bd/iwmXxJyCi2mb9lN6W8yfLZT8IECAAAECBAgQINAikI9PvxVW+915b/ORsW8KwyZ8cI998nW/CE3PHNqct3yl7PVpleGw6+HmeqOe1+1/QM7v+FNcOXh7p+3nm7bFxX/jr9ZpBeCUxryy9NN9Y18VHzucUKiS3/LFkG/aUCgXf+TzjXFtkk/H3fTreKw6Nv06LREgQIAAgcEh4AnAwTEP3e3FzbHifl1UvjKeS0/vXR1zfOcgfCrmFCTMpkPjzkdaDtwdt2fEXFyqLL2vkAKHf4w5vWKcniT8TsxPxiwRIECAAAECBAgQiHGyD4XQcEuzxMhT46u4r4xPxj3euUxuRMjVHND5+W6eyW9Pv+I2pz35zmB+a3zxZddHQn70i+PKxCfFT/nFX6fT6rzpSb6Ge0O+7or4zsvK5oaHHxCfZHxv8TZttrlhk0OY8PcxyPfJWH9FyK+LAcH45GNI3yFsXB3b+X5sr+XV3dEXhNyoU9pcb4cAAQIECAykgADgQOrv+b2b/zmx6+vSexGPxXxYzM8rUfUD8Vhx3tNvN8XgX7FqejY4Hb8t5lQv/XPu38UsESBAgAABAgQIEIiLcMTXX4spBrzy615a3Cu9HTYnfu85/Tt2z1M+3xR/a03/Th1TblIIo17QXO7uz/R0X/3PQj7mTtOIhSE3+T/ik4Ux0NdJyo19bUirHodt/xWDfstiMPAfOtYcdWbs4v/peNwRAgQIECAwgALFQNAAdsGt+0AgfsSkkEa3azsX9y9qOfZo3Hb2deF0vBhETPXfE3M+ZokAAQIECBAgQIBA/ws0xH+bblrdfN/R55V+RbeTXuUmfjQGLW9r/n7friWxnQ3xN9v463Iu/qqcFvsYcVx8ijF+z2/kc2O76dflrtOwCe8P+fgKcr7uR/GJv/hCTdPa2E5cq6/m8NjOK5rb6roJZwkQIECAQL8LCAD2O3mf3zA9+Xd8y11SkC+bDog7s1sO/DF7okQ5nU9tpUVB5sccf1uSCBAgQIAAAQIEql1g2MwuXvfdA5zc2Ivjm7jtv1ZTuoHcqNNDrof3zaUFPWLOlW66R0dzI0+MrxOf2KNrXUSAAAECBAZCwCIgA6He+/eMHzEJh8QcP8hS+H5fMbD7pXa3OjKz3z44mDlVKGbPH9H+pH0CBAgQIECAAAECBAgQIECAAIHKECgGiiqjt3qZFXhz3Plu9kC78r/F/R+3OzY3s1+bKZcqptWGi2lesbAH2+y9Sl02s9RBxwgQIECAAAECBAgQIECAAAECBHpXQACwdz0HQ2v3xU68I+a0om/7NCFzIC571mXaljk7PlPubjEbQOzuNeoRIECAAAECBAgQIECAAAECBAj0soBXgHsZtB+b+2W8V/ygSSEvjNtLYr465vT9v5/EHL9k3CHFLx23pobWUunCjszhMZmyIgECBAgQIECAAAECBAgQIECAQAUJeAKwgiarXVc3xv2Uiyk98XdFzG+I+fsxXxPzpTF/L+Zi2l4sxO3ITLlUcVTmYH2m3N1iudeG0yvApZ5S7G776hEgQIAAAQIECBAgQIAAAQIECHRDQACwG0gVVuV/Yn/T03+vjvlrMV8b8/qYU9rSvCn8LPda77hM3XKvC2eqthbLfWOwtaICAQIECBAgQIAAAQIECBAgQIBA3wl4BbjvbAey5fT0X0opiHduodT8IxuUK7dIR/YJPt/zyyAqEiBAgAABAgQIECBAgAABAgQqSUAAsJJmq/t9XZOpun+m/HCmfHimXKqYPf9IqQqOESBAgAABAgQIECBAgAABAgQIDH4BAcDBP0c96eGczEXZ13eXxOMrW86dmalTqnhGy8EVcbu0VAXHCBAgQIAAAQIECBAgQIAAAQIEBr+AAODgn6Oe9PBVmYsezJTzsVx8PTg94Xdq5ly2mI4XnwBM9dN1EgECBAgQIECAAAECBAgQIECAQAUKCABW1qS9OXZ3dJkufzCeP6+lTnri78/t6n8p7je2HPtq3I5pdz7tp+Mp7Yo51ZcIECBAgAABAgQIECBAgAABAgQqVMAqwJU1cZ+O3f1izD+P+ZaYF8ecXvGdEPMxMf9NzKfHnFJDzO+IuRjsS8dSejzmL8T8sZgXxHxrzJ+PObV1UMwfjfmEmFNK9Z4olPwgQIAAAQIECBAgQIAAAQIECBCoSAEBwMqbtqmxy29vyZ31Pq32+9aYb+qkwsfj8RktdVKw74oS9S6Pxz5R4rhDBAgQIECAAAECBAgQIECAAAECFSQgAFhBkxW7+qKYz4r5BTEfEfO+MU+LuT7m1THfF/N1MV8Zc13MnaWmeOLSmNOThOkpwZNj3ifmtTHfFfM3Yr4xZokAAQIECBAgQIAAAQIECBAgQKDCBQQAK2sC02u6KacAXW+kG2IjKUsECBAgQIAAAQIECBAgQIAAAQJDVMAiIEN0Yg2LAAECBAgQIECAAAECBAgQIECAQBIQAPTngAABAgQIECBAgAABAgQIECBAgMAQFhAAHMKTa2gECBAgQIAAAQIECBAgQIAAAQIEBAD9GSBAgAABAgQIECBAgAABAgQIECAwhAUEAIfw5BoaAQIECBAgQIAAAQIECBAgQIAAAQFAfwYIECBAgAABAgQIECBAgAABAgQIDGEBAcAhPLmGRoAAAQIECBAgQIAAAQIECBAgQEAA0J8BAgQIECBAgAABAgQIECBAgAABAkNYQABwCE+uoREgQIAAAQIECBAgQIAAAQIECBAQAPRngAABAgQIECBAgAABAgQIECBAgMAQFhAAHMKTa2gECBAgQIAAAQIECBAgQIAAAQIEBAD9GSBAgAABAgQIECBAgAABAgQIECAwhAUEAIfw5BoaAQIECBAgQIAAAQIECBAgQIAAAQFAfwYIECBAgAABAgQIECBAgAABAgQIDGEBAcAhPLmGRoAAAQIECBAgQIAAAQIECBAgQEAA0J8BAgQIECBAgAABAgQIECBAgAABAkNYQABwCE+uoREgQIAAAQIECBAgQIAAAQIECBAQAPRngAABAgQIECBAgAABAgQIECBAgMAQFhAAHMKTa2gECBAgQIAAAQIECBAgQIAAAQIEBAD9GSBAgAABAgQIECBAgAABAgQIECAwhAUEAIfw5BoaAQIECBAgQIAAAQIECBAgQIAAAQFAfwYIECBAgAABAgQIECBAgAABAgQIDGEBAcAhPLmGRoAAAQIECBAgQIAAAQIECBAgQEAA0J8BAgQIECBAgAABAgQIECBAgAABAkNYoGYIj83QCBAgQIAAAQIECBDoA4Fn6x8LS7fdGVbW/TWsb3g61DduCsPC8DCuZlqYNfbocNSkc8Ocscfs9Z1vX/P9cMe6/+lWO6+Y9x9h7rjju6xbv2tTuG/D1WHx1lvDlp3PFupOGLFvOGj86eH4qS8PY4ZP6vL64smVdQ+FBzZeG8f/YKhr3BBGDRsf9hl9YDhy0jnhsIkvLFazJUCAAAECg0ZAAHDQTIWOECBAgAABAgQIEBj8Aj97+oNhZf2DHTraGHaGjTtXhI2bVoRHNv0mHDHxxeFFsz4UhudGdKg7EAeeqX8k/Kr2UzFgt77N7dftWBJSfmjTjeGCOZ8JM8cc3uZ8+50UlLxz3Y9CPjS1nkpBwGXb7inkRzf9Lpw/51OhZtjI1vMKBAgQIEBgoAUEAAd6BtyfAAECBAgQIECAQAUJbNu1rtDb9LTfIRPODLPHHB0mjJhRCIitqn84LFp/Vdi6a214ZPP/hsawK7xk9sd7ZXR/c8C3umxn0oiZnZ7fsnN1uLb2n+KTihsLTyqeMPWV4YDxpxbqL9l6e6HPaVzX1n4iXDL/v+N4ppds68EN17U+kThpxOxw8rRLwrRRB4R0bXqysLbuvvhk5B3hf5/5Qq+Nu2RHHCRAgAABAnsoIAC4h2CqEyBAgAABAgQIEKhmgSkj54XnTH9rOHjC88Kw3PA2FLPGHFl48u/KZe8PGxtqw+Obbw7HTn5pfB342Db1erKzTwy09TT9Zc13CsG/dP25s/8xHDLxzNam0qvKM0YfEm5c+dlCndvWfDecPfuy1vPFwvbGzeGWNc1ByAk1M8Jr9v9qGFOz+5XhFFC8bsWnw5KttxXGfcyk88u+klxs25YAAQIECPS1gEVA+lpY+wQIECBAgAABAgSGkMBF8z4XDp34/A7Bv+IQU1DseTPeVdwNT2z5U2t5IArbdq0Pj23+feHW+49b0Cb4V+xPGk86l9Kjm2+KT/S1fU04Hf/rxhtDQ9O2VAynz3h7m+BfOpaCoS/Y930hF58xTOme9VcWtn4QIECAAIHBICAAOBhmQR8IECBAgAABAgQIDCGBeWOPax3NpoaVreWBKDy19S+t3+tLi3R0lo5oOZe+7ZeuaZ+eiguHpDRy2Nj49ONz258u7KdXh/cbd2KhvLxuUWhorCtZz0ECBAgQINDfAgKA/S3ufgQIECBAgAABAgSGuEBjfmfrCHPtXhNuPdFPhbRScTHNyQQmi8eK27mZ15RXxVV+symN55n6RwuH0mvOXS1sUnzdOV3z7PbHs80oEyBAgACBARPwDcABo3djAgQIECBAgAABAkNToLbugdaBTR25X2t5bwpXL/toWLNjcdjRuDWMGj4+pHb3H39yOGbyBWH08AmdNr2+YVnh3Mhh48K4mqmd1kuLmqSn+xqa6kLxmmLlDfF7hsVVf6eUGU/2/PqGp8O8cccXm7ElQIAAAQIDJuAJwAGjd2MCBAgQIECAAAECQ08gn28Kd6+7onVg2QU3Wg/2oLCs7p7CIh1NcWXhtJrvivoHwl/WXB6+t/gNYfGW5tdzSzW7deeawuEJNaVX9s1ekxb3SGlLyzXFc8U20v74mn2Kh0tus/fJXleysoMECBAgQKCfBDwB2E/QbkOAAAECBAgQIECgGgQWrf95fPW1+XXZg8Y/N+w7+tC9Gva0uPrvQeNPD/uOOTwG36aFpvyusKFheVys43dh2bZ7wo6mreH6FZ8JF879bJg/fmGHezU01ReOjRg2usO59gdqWurszDdfUzy/s6WNtD9i2Jji4ZLb7H2y15Ws7CABAgQIEOgnAQHAfoJ2m84F6ndtCnW7xndewRkCBAgQIECAAIFeFxhbM7nX26ytuz/cuubbhXbHDJ8cXjjz/Xt1jxOmviKcOv1NHdqYOeaIcMSks8ODG64Lv3/2S4XXc2965ovhzQf+T6gZNrJN/cZ8Q2F/WG5Em+Oldorf9tvVtKPN6V0tbaSDw3Nd/xWq2Eaqm70u7Xc31e3a2N2q6hEgQKCsQPo7t0Sg6/968SHQDwI/XvrOMHl7+X+R7YeuuAUBAgQIECBAoGoE3n/4Tb061nU7lobraj8d19BtjEGykeH8OZ8MY2um7NU90rf+ukrHTLkgPm34WHho041h26514cktfw6HT3pRm0tSX3blt8cnB3cvTNKmQmanuHhJzbBRmaMh1MQ2iqkxPoHYVSq2kepkr+vqmvbnvvXkK9sfsk+AAIEeC2x8ZnuPr3Xh0BHwDcChM5dGQoAAAQIECBAgQGBABDY1rApXL/9ofB13S8iFYeElsz8eiqvh9nWHjp58fustVsQnENunkS2v7O5sKv8X4F0tdUbk2r7mm33tt9xrvdn7ZK9r3y/7BAgQIECgPwUEAPtT270IECBAgAABAgQIDDGBrTvXxuDfZYUn8EIM/7141kfCQRNO77dRThu1f+u9tu5a21ouFsaPaF78Y8uu5sVAisdLbbfsWl04PKHlmmKdYhtpv9Q9ivXSNnuf7HXZOsoECBAgQKC/BQQA+1vc/QgQIECAAAECBAgMEYH0Xan05N+mnasKI3r+vu8pfJuvf4eX6/J2U0fuVzjf0LQtBinXd1o3vULc0FRXOF+8plh5ysi5hScb0/6GhmXFwyW32fNTR+4OTpas7CABAgQIEOgnAd8A7Cdot+lc4HXzvxHmzJ3TeQVnCBAgQIAAAQIEBp3Ajsat4ZfLPxbWNzxd6Nvp098WjptyUb/3c/2O5vunG4+LqwS3T7PHHh1XDG7+3mF6RfjQiS9oX6WwX1v3QOvxWWOPai2nQlrYY2ZchXhV/cOFnL7zl13sI1t5RUs76XxPV0B++8FXZZtUJkCAwF4JrBi9Inw6HL1Xbbi48gUEACt/Dit+BGNqJsUPRPf+KnQVD2MABAgQIECAAIFBKpC+c3dN7cfD6h1PFHp48rTXhQXTXjsgvX1w43Wt95079rjWcrFw4PjnhJvDVworBT+86TedBgAfiedSSt8wTNe0TweOP70Q/EtPCT655ZZwWIlA4pada8KybfcWLp039oQwcvjY9s10a9/vxt1iUokAgW4KjKnZ2s2aqg1lAa8AD+XZNTYCBAgQIECAAAECvSyQnn67bsWnYjDsoULLx0+5ODxn+lv3+C4Pb/xN+PKjZxXy7Wu+3+H6tdufChsbVnQ4nj2Qgn9pBeCUxg6fWvLbg+NqpsZg3QsLdZ7ednd4YvOfCuXsjyc2/zGkcykdPvGs+CTh1OzpQvnoyS8JI4eNK5RvXf3tUN+4qU2dpnxjuPnZ5kBjOnHS1Fe3OW+HAAECBAgMpIAnAAdS370JECBAgAABAgQIVJjAjSs+F59yu6fQ67nxKbejJp0b1u5Y0uko0quw6Rt6e5pWb38i3PTMF8PcsceH+eMXhmmjDghjhk8MKdCWvrP36ObftfYjPbX3opkfDJ2tupsClCnAV9+4Mfx65efCs9sfCweMP7XQpSVbbw+L1je/cjtm+ORw2vS3lOzq6Hjv505/e/j9s1+KC308G3669L0hPfm4T+xX+n7gog2/CLV19xWuTa8Zzx13fMl2HCRAgAABAgMhIAA4EOruSYAAAQIECBAgQKBCBRZvvaW157V1i8KPlr6jdb9UYULNvuGtB/+o1Kmyx/KhKSyvu7eQO6ucAnNnzfxwOHDCaZ1VCRNGzAgXzv2X8KvaT4W6xvXhnvU/LeTsBekJwpfO/Uys27xqcPZcsXzMlAviKsDrwp3rfhgXPlkZA5T/UTzVup0/bmF48cy/b91XIECAAAECg0FAAHAwzII+ECBAgAABAgQIECDQRiA99ZcCe2nhjTU7Foe6XRvC9sbN8Vt++TB6+IT45N1BYf64kwurDo8a3vxqbpsG2u3MHHNEeP0B3wr3xSf1Fm+9NWze+WyhxsQRM8NB8Zt/x0+9OD5hOKndVR13T5v+prD/uAXhgY3XhBV1DxaeKkyvBk+P/Tly8jmtrxt3vNIRAgQIECAwcAK5gbu1O1e5QHoPZHkyWL58eZg7d89fC6lyP8MnQIAAAQIECBAgQIAAAQJlBWpra8O8efOK9VKhtrhjWz0CFgGpnrk2UgIECBAgQIAAAQIECBAgQIAAgSoUEACswkk3ZAIECBAgQIAAAQIECBAgQIAAgeoREACsnrk2UgIECBAgQIAAAQIECBAgQIAAgSoUEACswkk3ZAIECBAgQIAAAQIECBAgQIAAgeoREACsnrk2UgIECBAgQIAAAQIECBAgQIAAgSoUEACswkk3ZAIECBAgQIAAAQIECBAgQIAAgeoREACsnrk2UgIECBAgQIAAAQIECBAgQIAAgSoUEACswkk3ZAIECBAgQIAAAQIECBAgQIAAgeoREACsnrk2UgIECBAgQIAAAQIECBAgQIAAgSoUEACswkk3ZAIECBAgQIAAAQIECBAgQIAAgeoREACsnrk2UgIECBAgQIAAAQIECBAgQIAAgSoUEACswkk3ZAIECBAgQIAAAQIECBAgQIAAgeoREACsnrk2UgIECBAgQIAAAQIECBAgQIAAgSoUEACswkk3ZAIECBAgQIAAAQIECBAgQIAAgeoREACsnrk2UgIECBAgQIAAAQIECBAgQIAAgSoUEACswkk3ZAIECBAgQIAAAQIECBAgQIAAgeoREACsnrk2UgIECBAgQIAAAQIECBAgQIAAgSoUEACswkk3ZAIECBAgQIAAAQIECBAgQIAAgeoREACsnrk2UgIECBAgQIAAAQIECBAgQIAAgSoUEACswkk3ZAIECBAgQIAAAQIECBAgQIAAgeoREACsnrk2UgIECBAgQIAAAQIECBAgQIAAgSoUEACswkk3ZAIECBAgQIAAAQIECBAgQIAAgeoREACsnrk2UgIECBAgQIAAAQIECBAgQIAAgSoUEACswkk3ZAIECBAgQIAAAQIECBAgQIAAgeoREACsnrk2UgIECBAgQIAAAQIECBAgQIAAgSoUEACswkk3ZAIECBAgQIAAAQIECBAgQIAAgeoREACsnrk2UgIECBAgQIAAAQIECBAgQIAAgSoUEACswkk3ZAIECBAgQIAAAQIECBAgQIAAgeoREACsnrk2UgIECBAgQIAAAQIECBAgQIAAgSoUEACswkk3ZAIECBAgQIAAAQIECBAgQIAAgeoREACsnrk2UgIECBAgQIAAAQIECBAgQIAAgSoUEACsvElfELv8yZh/G3NtzDti3hrz4zF/N+bnxrwn6SWx8tUxF9tK27SfjksECBAgQIAAAQIECBAgQIAAAQIVLlBT4f2vtu7/KQ74eSUGPTIeO6QlvzlufxDz22NuiLmzlIK/34z50nYV5sT9lF8W87djfmfMTTFLBAgQIECAAAECBAgQIECAAAECFSjgCcDKmrTZLd1dGbdfjvmVMS+M+bSYPxTziphTemPM30uFLtLn4rli8G9RLF8Sc2orbdN+Sm+L+bOFkh8ECBAgQIAAAQIECBAgQIAAAQIVKZCryF5Xb6evi0NPT/f9PObGEgz7xGO3xnxoy7kz4/ZPLeXsJp1/KOb0BOjdMZ8Rc33MxTQ2Fv4Y84KYd8V8RMxPxtybaW5sbHlqcPny5WHu3LQrESBAgAABAgQIECBAgAABAr0pUFtbG+bNm1dsMhVqizu21SPgCcDKmusLYnevjLlU8C+NZG3MH06FlpSeECyVPhAPpuBfSu+NORv8S8fqWo6ncqr3wVSQCBAgQIAAAQIECBAgQIAAAQIEKk9AALDy5qxcj2/OVDgoUy4W01OfF7XsPBq3txdPtNum44+1HEv1PS3aDsguAQIECBAgQIAAAQIECBAgQKASBAQAK2GW9qyPozLVSz0peEA8X/yWYHrNt6tUPJ8WBZnfVUXnCBAgQIAAAQIECBAgQIAAAQIEBqeAAODgnJe96VX67l8xPVIsZLZHZsrpCcCuUvZ8+g6gRIAAAQIECBAgQIAAAQIECBAgUGECxe/AVVi3dbcTgRTQ/VjmXPpeYPuUXW2j3Ic/C4t0tDTQ+sXQ9g12sp+9T6kqM0sddIwAAQIECBAgQIAAAQIECBAgQKB3BQQAe9dzoFtLi3UsbOnEL+L2nhIdmpA5tjVTLlXcljk4PlPuTjEbPOxOfXUIECBAgAABAgQqRODhTbXhL2seC/dveDos2bo6bGjYFmqGDQ/7jJoQjpuyf7hw7oJw/JT5ez2arTu3h1vWPBruXPdkeHTzyrCqfkPY3rgzTKgZHQ6asG947vTDC/eaMGJMl/e66A//HlZt39hlnXRy1ujJ4ZrnX1a23gNx3FctuyPct2FpWN+wNYyP/TlkwqxwwZwTwzmzjyt7vQoECBAgQKC/BQQA+1u87+6XXv39t5bmV8ftuzu51ejM8YZMuVRxR+Zg179VZSoqEiBAgAABAgQIDF2Bd9zxzULgq/0IdzY2huV16wr5uhX3hvNmnxA+fvTLw4hhPfsrRwowXrboR6GhaVf7W4WNO+vCPeuXFPIPl94S/uXYV4cF00qtf9fh0r0+8M0nbgrfWXxzaAr51rZSEPCOdU8U8q9X3Rf+7fjXhVHDR7SeVyBAgAABAgMt0LP/Gg90r92/vcBR8cDVMaf53B7zq2JOQcBSKZ0vppHFQifb7IIi9Z3U6exwuVeG0yvAd3V2seMECBAgQIAAAQKDU2Dtjs2Fjk0fNTG8aObRhSf9Zo6ZHBrzTeHBjcvCj5fcElbHOjesXBR25RvDZ497bY8GsikG+VLwb1jIhYX7HBxO2+fQ+JTdzJCe9lu9fVP49cr7wv8+82BYt2NL+NC9PwjfPuWd4dCJxbXuSt/yjBlHhHcf8uLSJ+PRmjLByl/Ep/6+vfj3hevnjp0a3nzg88PBsU9rtm8OVzz9lxiQfCrcGgOX//LXn/d43J12zgkCBAgQILAXAgKAe4E3SC49IPbjtzFPiTmt+pt+w/pTzJ2lLZkT5V7rHZepW+514UzVQrG2/QH7BAgQIECAAAEClS+w/7jpMYh2dnhhDP4Nz7VdU/CYyfsVnvx72+3fCMvq1obfrnogXDzvlHDi1PQr656lmtzw8PJ5C8NbDnx+SAHGbDosBvqeF4N5xz69f/jiI9cVXgv+z0dvCP+98G3Zah3KE2rGxFeH079D73na1FAXvvb4bwoXzoyvCn/n1HeHySNbfl2eFMJzZxweLrv3h+HPax4tjPvlcxeGk6YduOc3cgUBAgQIEOgDgbb/xe6DG2iyTwXSP3HeFHPapncQ3hrzNTF3lbKBuXILdWSf4vNNv65UnSNAgAABAgQIVInAf570pvDiWcd2CP4Vh5+CYu8//Lzibvj9M39tLe9JId3jH456WYfgX7aN1+z/nHDExDmFQ4viK8Eb47cI+ypdU3t32Lpre6H59xx2zu7gX8sNUzD0sqMuanX54dI/91VXtEuAAAECBPZYQABwj8kGzQX7xJ78b8zFf1Z8byz/oBu9ezhT5/BMuVQxe/6RUhUcI0CAAAECBAgQINBeYMHU4q+oIayoX9/+dK/un9Ryr/RNvpVxkZC+Sn9c3fxr9LiaUeEF+6Yv8HRM+46eFE5u+RbhXesWh227sp/U7ljfEQIECBAg0F8CAoD9Jd2794kvGYT0/sGRLc1+LG6/3lIut1kSK6xsqZQWDukqndFyckXcLu2qonMECBAgQIAAAQIEigLZhTvSN/z6MvXHvXbGbxGmlY9TSq85d7WwyYlTml93Tv16pOWavhy/tgkQIECAQHcEarpTSZ1BJTA29ub6mE9s6dXn4vbzLeXubNKrwuk14bRKcHrC79SYb4+5fUrHi08ApvrpOokAAQIECBAgQIBAWYF7N6R/c25O88fPKBb7ZFu8V/pm4Nxx07q8x6LYr7+59athRVytuDGfD1NHjQ9HTZobzp51XDgzflMwlysdrFy2bW1hkZPU+Pz4DcSu0v7jd59fum1Nv61O3FWfnCNAgAABAgKAlfVnIK3am1b7Pb2l21+O20+0lPdk86VY+R0xD4/5qzGnJ/2yq/yOaTkeN2FXzKm+RIAAAQIECBAgQKCsQFNcDfgHT/2xtd5ZM49pLfd24ZbVj4YntzxTaPbUfQ4J42tGd3mL9q8Ir4qvDKd8U1xN+LjJ+4fPHf/aMCO+xts+rY6r/BZTqfPFc2mbXgMupmfrNxWLtgQIECBAYEAFBAAHlH+Pb/6TeMXZLVf9Pm4vj/nolv1Sm4Z48PESJ9KxL8ScXh1eEPOtMaenCBfHfFDMH435hJhTSvWeKJT8IECAAAECBAgQIFBG4CdLbw0Ptbz6mr6Vd8Sk5kU6yly2x6fTqrxfePjawnVpAY53HnJWp23UDBsezohP+J0y7eC4CvC+hUDhlp3bw4Mbl4WfL78jPLt9U7h/49PhvXd9J1weV/cdP6JtIHFb4+5v+Y0Znv5NvvOUPV+Xua7zK5whQIAAAQJ9LyAA2PfGvXmHizONvTCWH8jslyo+HQ/OL3UiHvt4zOl9jLfGnIJ9V8TcPqUAY0+eMGzfTpf7abW2cQ1bu6zjJAECBAgQIECAQO8KTBk5vncbjK3du/6p8LXH06eqQ5gaVwP+6JEXFcq9/aMxPmX4yQeuDKu2byw0/ZYDnx8Omzi709t877S/DRNGpJdc2qaTph0YXrX/aeFji34c7lj3RFgSX9n91pO/Cx884vw2FRsa00sxzWlEDCZ2lUYO2/1XrB3xO4A9SRv8btwTNtcQINCJQF+ukN7JLR0ehAK7/+s0CDunS30q0BRbvzTmn8ecXgc+Oea0svDamO+K+Rsx3xhzn6fXx++wjJw+sc/v4wYECBAgQIAAAQK7Be4891937/RCafGWZ8Nli35U+FbeqBgE+9fjX1f4xl4vNN2hiX9/6Jpw29rmF12eO/3wcOnB6d/GO0+lgn/F2mlV3/9z/CXhZX/6Qti8sz78svau8J7Dzmmz0MfI4bv/2rSzqbF4acltdlGS5NCTdM7ve3duetIH1xAgMHQEGtbs/ozB0BmVkeypgFWA91RsYOunrxLvSZ7fje7eEOu8LOb0bsaolm3a75fgX7yPRIAAAQIECBAgUOECK+rWh/fd/d1CAC29jvvZ414bTpx6QJ+M6uuP/SZcHYN0KR0/ZX4MNF4S0j33JqVXfs+edWyhifrGhrh674o2zY0bnn5Nbk7pfFcpe35s5rqurnGOAAECBAj0tcDe/Zeyr3unfQIECBAgQIAAAQIEBrXAmrhAxnvit/PW7Ngc/6U6Fz5x9MXhzH2P7JM+fz8uLvL9JX8stH14fOX3/570xjB6+IheudcB43avVrw6jiWbZoze/bbK6vi9wK5S+p5gMe07ZveCIMVjtgQIECBAYCAEBAAHQt09CRAgQIAAAQIECAwBgfRdqffc/Z2won59YTQfOeKCcP6cE/tkZFctuz18veX7ggeMmx6+suAtZVf93ZOO5HLpRZvSab9x+7Q+Zbg0fiewq/T01t3n58d+SgQIECBAYDAI9OyjFIOh5/owZAR+ePp7w5y5fbM63JBBMhACBAgQIECAwCAT2BpX0U2v/S7ZurrQs7879JzCghp90c0bViyKK/7+qtD0nDFTw9dOvjRMjouM9GYqjiO1OX3U7if+0v6I+C2/IyfNLawanFYO3hkX90jHSqV7NywpHE6LgRwRr+lJ+s0L/7Enl7mGAAECJQVW1K4Ix4SvlzznYPUIlP6vVvWM30gHgUD65a0vVqEbBEPTBQIECBAgQIDAkBTYHr+D98F7vh8e3byyML63HPj88KYDz+yTsd78zF/Dv/z15yEf/zdj9KTw9Rj8m555Jbc3bpqCmb9d9UChqfRK8RGTOv7j9JkzjiwEALft2hFufvah+M3A4zrcOr3+e9e6xYXjJ087KKQFRnqS/G7cEzXXECDQmcC2Xv4Hk87u4/jgFvAK8OCeH70jQIAAAQIECBAgMKgE0tNvf3/vj8L9G58u9Ou1+z8nvPvQs/e4j9fV3hMW/vofC/mbT9xU8vrb1z4RPnH/TwsrC0+Nf4H9+oK3htljp5Ss29nB29Y8HrY37uzsdKiLAb1/uO8nYdPOukKdC+csCOnpvfbporkLWl85TguRbGxorl+s15hvCml14rRN6fXzn1c8ZUuAAAECBAZcoON/2Qa8SzpAgAABAgQIECBAgMBgFUgBuTvWPVHo3oKpB4YLY2Bs8ZZnOu1uTQym7R+/obenKb1qe9miH+zqr80AAEAASURBVIad+cZQkxsePnD4+WFXLHd1r/SE4IQRY9rcKi0c8k8P/DS8YN+jwnFx1eC5Y6eGscNHhq27tocHNiwLv1h+Z3hm+8bCNamfbz/4RW2uL+5MGjk2vCe+5vxvD18TVsX6b739v8JbDnxBOGjCvmHtji3hJ0tvDfesf6pQPa0ofNK0A4uX2hIgQIAAgQEXEAAc8CnQAQIECBAgQIAAAQKVI5Befy2mu2PA63W3fqW4W3I7a/TkcM3zLyt5rquD2Sf3UuDvkw9c2VX1wrlPHv2KcMHckzrU27yzPlxTe3chdzjZcuDEKQeEfz7u1SEF+jpLF+93SiHYd/nim0Nt3frCq8nt654+/bDwT7EfEgECBAgQGEwCAoCDaTb0hQABAgQIECBAgACBXhV43+EvKXyXLz1RuGzb2vjq7rawJT79l771lxb7OGrSvPg9v2PDqfscErpaCbjYqXccclah7s/iqsT3bVga1u/YGp86HB0OmTArXDDnpHDO7I7fBixea0uAAAECBAZKoPO17geqR+5bLQJpSbTlabDLly8Pc+f2bIW0asEyTgIECBAgQIAAAQIECBAg0BOB2traMG/evOKlqVBb3LGtHgGLgFTPXBspAQIECBAgQIAAAQIECBAgQIBAFQoIAFbhpBsyAQIECBAgQIAAAQIECBAgQIBA9QgIAFbPXBspAQIECBAgQIAAAQIECBAgQIBAFQoIAFbhpBsyAQIECBAgQIAAAQIECBAgQIBA9QgIAFbPXBspAQIECBAgQIAAAQIECBAgQIBAFQoIAFbhpBsyAQIECBAgQIAAAQIECBAgQIBA9QgIAFbPXBspAQIECBAgQIAAAQIECBAgQIBAFQoIAFbhpBsyAQIECBAgQIAAAQIECBAgQIBA9QgIAFbPXBspAQIECBAgQIAAAQIECBAgQIBAFQoIAFbhpBsyAQIECBAgQIAAAQIECBAgQIBA9QgIAFbPXBspAQIECBAgQIAAAQIECBAgQIBAFQoIAFbhpBsyAQIECBAgQIAAAQIECBAgQIBA9QgIAFbPXBspAQIECBAgQIAAAQIECBAgQIBAFQoIAFbhpBsyAQIECBAgQIAAAQIECBAgQIBA9QgIAFbPXBspAQIECBAgQIAAAQIECBAgQIBAFQoIAFbhpBsyAQIECBAgQIAAAQIECBAgQIBA9QgIAFbPXBspAQIECBAgQIAAAQIECBAgQIBAFQoIAFbhpBsyAQIECBAgQIAAAQIECBAgQIBA9QgIAFbPXBspAQIECBAgQIAAAQIECBAgQIBAFQoIAFbhpBsyAQIECBAgQIAAAQIECBAgQIBA9QgIAFbPXBspAQIECBAgQIAAAQIECBAgQIBAFQoIAFbhpBsyAQIECBAgQIAAAQIECBAgQIBA9QgIAFbPXBspAQIECBAgQIAAAQIECBAgQIBAFQoIAFbhpBsyAQIECBAgQIAAAQIECBAgQIBA9QgIAFbPXBspAQIECBAgQIAAAQIECBAgQIBAFQoIAFbhpBsyAQIECBAgQIAAAQIECBAgQIBA9QgIAFbPXBspAQIECBAgQIAAAQIECBAgQIBAFQoIAFbhpBsyAQIECBAgQIAAAQIECBAgQIBA9QgIAFbPXBspAQIECBAgQIAAAQIECBAgQIBAFQoIAFbhpBsyAQIECBAgQIAAAQIECBAgQIBA9QgIAFbPXBspAQIECBAgQIAAAQIECBAgQIBAFQoIAFbhpBsyAQIECBAgQIAAAQIECBAgQIBA9QgIAFbPXBspAQIECBAgQIAAAQIECBAgQIBAFQoIAFbhpBsyAQIECBAgQIAAAQIECBAgQIBA9QgIAFbPXBspAQIECBAgQIAAAQIECBAgQIBAFQoIAFbhpBsyAQIECBAgQIAAAQIECBAgQIBA9QgIAFbPXBspAQIECBAgQIAAAQIECBAgQIBAFQoIAFbhpBsyAQIECBAgQIAAAQIECBAgQIBA9QgIAFbPXBspAQIECBAgQIAAAQIECBAgQIBAFQoIAFbhpBsyAQIECBAgQIAAAQIECBAgQIBA9QjUVM9QjZQAAQIECBAgQIAAgd4QeODZZ8Ifli4Jd69cEZ5cvy6sr68PNcOHhRnjxoeTZs0Orz7q6HDy7Lm9cavWNq597JFw1cMPhUfXrQmbd+wI+4wdW7jHG449PpwY79mdtL6+Lnz//kXht4ufDCs2by5cMmfixHD2QQeHNx93YpgyZkx3mgn3rFoRfvjA/eGulbVhbV1dmDhqVDhin+nhFUccFS487IhutaESAQIECBDoT4Fcf97MvQhkBNJvhMvT/vLly8Pcub37C2LmPooECBAgQIAAAQK9KPCaq66Iga8VZVu8+PAjw7++6OwwcvjwsnW7qrB9187wtzf8qhBwLFVvWC4X3rvw1PD+U55T6nTrsfueWRXeed01YU3dttZj2cKMcePCN86/KBw3c1b2cIfyl27/S/jaXbeHpny+w7l04AXzDwz/dd5Lw6gaz1qUBHKQAIF+F6itrQ3z5s0r3jcVaos7ttUj4L9K1TPXRkqAAAECBAgQIEBgrwVWb2sOoO0bn/Z7ySGHxqfw5oTZEyaGpqamcG8Msl1+793hmW1bwy8efTjsjMe+fO75e3XPy276TWvw77S58wpP6s0YPz48tnZN+O+77wxPb9oYvnzHbYWnDy85+tiS91q5ZXN4+6+uDuvSk4rDhoW3nnBSeGEM1KX0+6VPhe8suiekcb3tV78M17729WHWhAkl2/nxg/eHr9x5W+Hc/pMmh3cvWBgOi0/+rd66NXzv/nvDbbXLw82xvdTnvR13yQ44SIAAAQIEeijgCcAewrlsrwU8AbjXhBogQIAAAQIECPS/wKXXXh3S033nHnxIGB6Dae1Tes32VT+7IizZuKFw6opXvCYsnNOztz3+snxZeP3VPyu086IDDgz/Lz6hl71nuteFV/wwrNyypfAa7h/f9LYwafTo9l0KH/7tjeHqGJBM6WsvuSCcd8hhbepc//hj4b2/vq5wLL3G+4UXn9vmfNrZuL0+nPm9y8OWhh0x4DmhECicOmZsa73GGOx81/XXhN8teapw7McXvzqcGgOWEgECBAZawBOAAz0Dg+P+Hf+LPTj6pRcECBAgQIAAAQIECAxCgcsvfHk4/9DD2gTist1MQbF/fN6ZrYdufPLx1vKeFr4VnyZMKT2198/PP6vDPdO9Pnr6GYU66buAP33owUI5+2NNfLLvmvj9wJTO2G9+h+BfOp7Gk86llAKF6Zr2KbWdgn8ppXtmg3/pWApMFvoYX0lO6Zv33lXY+kGAAAECBAaDgADgYJgFfSBAgAABAgQIECAwhAROm7tf62jSK7o9SVsbGsJt8QnAlE6ft1+nr+Wec9AhYfzIkYV6v138RGGb/XHTksWt3+t75ZFHZU+1Kb+i5Vz6tl+6pn3637hwSErpXumepVJ6dfj0efsXTqWnF9MYJAIECBAgMBgEBAAHwyzoAwECBAgQIECAAIEhJNDQuKt1NMNbnohrPdDNQlppuKGpsVC7q1eI0yIjJ7Qs3PHA6mfDzsbma4q3SSsVF9Mpczp/JfeUzGvK92SuSdc2xDbvj/1J6cSZs7tc2KTY13TNgy3XFC70gwABAgQIDKCAAOAA4rs1AQIECBAgQIAAgaEocMeK3QtMHjR1Wo+G+OT6da3XHTRlamu5VKF4flf8Dt/SjW2fOHyipZ0JI0eF6XGl387SjLioSfFJwic3rG9TLX3PsLFl1d8Dp5bpS+Z8+3baNGqHAAECBAj0o4AAYD9iuxUBAgQIECBAgACBoS6QXqH9f3F13mI6v92CG8Xj5bartm5prTJzfOlVeYsVsqv2Zq9L559paWdWXDm4XJrdcp9VcVGRbHoms1+unVmZvrZvJ9umMgECBAgQ6E8BAcD+1HYvAgQIECBAgAABAkNc4DuL7ml9XTZ9K++YGfv2aMTbMt/PGzdiRJdtjKnZfX7bzrbf3Su2M3ZE83cCu2poTMt96tq3kdkv187YTF/bt9PVvZ0jQIAAAQJ9KVDTl41rm0B3BDbU14cxdXXdqaoOAQIECBAgQIBALwlMGzu2l1ra3cwdtcvDv//lz4UD0+IKvf/ygrN2n9zD0o7Mt/xGxO/8dZXSdwCLaceu3d8fTMeK7YwYXv7Zh2I729u3sWv3dwVHxNV+u0rFNlKd9u10dV323Dq/G2c5lAkQ2EuB9HduiYAAoD8DAy5w/k9+EGomTx7wfugAAQIECBAgQKCaBJ5634d7dbiPr1sb3nX9tSF9h2/U8Jrw9fNeGvbZiyDjqExQr/3CHu07nhbcKKZRNW3/ipPaqY8BvZ2NTcUqnW6L7Yxu30bN7gDjzji+rlKxjVSnfTtdXZc9d/K3/zu7q0yAAIG9EtjV7tuoe9WYiytWoOt/vqrYYek4AQIECBAgQIAAAQL9JbB806bwpl/+PGzasT2kVX+/cu75obgabk/7MG7k7ld2t+3c2WUz9bt2nx/X7lXfYjvdeR23vuU+7V/zzbZZrp26TF/bt9PlIJwkQIAAAQJ9KCAA2Ie4miZAgAABAgQIECAw1AWe3bo1vOHqn4Vnt20NuTjYz591TnjxQQfv9bCzi2kUF/LorNHsYhvZ61L94gIiq2I/y6WVxQVDJrRddGRmZr9cO9lFSLKLk5S7t/MECBAgQKAvBQQA+1JX2wQIECBAgAABAgSGsMD6+rrwxl9eFZZt3lQY5afOfGG4+IijemXEB0+d1trO4g3rW8ulCsXzNfH7fPPbfVrmkJZ2tjTsCGu2bSt1eeHY6hjA3Nqy8MjBU6a2qXfA5CmFJxvTwafWl+lL5nz7dto0aocAAQIECPSjQNsPZPTjjd2KQFHg+kveGGbPmVPctSVAgAABAgQIEKgAgc07doQ3x9d+n1i/rtDby57zvPDG407otZ4fu+/MMHLY8NDQ1BjuXFEb3r3glJJtp2/uLXpmVeHcsXHF4fYLhiyYPSdc/ejDhfN3rFgeLjj08JLt3BHvUUwnxWuyKS3scVzsz73xPvc+szKke2YX+8jWTX1NKZ0/Jl7Tk3TX297dk8tcQ4AAgZICK1esCMd+6rMlzzlYPQICgNUz14N2pFPGjAl9sQrdoB2wjhEgQIAAAQIEKlwgfSvv0mt/Ef66ZnVhJH938inhXQsW9uqoxsdvAJ42b7/wx6eXhFuXLwvpNd9Sr9T+ZvETrU/unX3QIR36cNYBB4V/yt0UmvL5cNXDD3UaAPx5PJfSsPgNw3RN+5Rea04BwPSUYLrnS0sEElMfb13+dOHS58S+pzH0JPnduCdqriFAoDOB+vh3bomAV4D9GSBAgAABAgQIECBAoNsC6em3d11/Tbhn1crCNW8+/sTw4dOe2+3rixWveviv4cCvfLGQv3T7X4qH22zffuKCwn5aWfhTf/hdaGy3Am96Bfnzt/6pUGfiqFHhNUcd0+b6tDN93Lhw0WFHFI7/adnScMMTj3eoc8MTj4V0LqWXH35k4ZrCTuZHanvCyFGFI/9+65/Dhvr6zNlQ6Nsn/3BTaIyBxpTeceLJbc7bIUCAAAECAyngCcCB1HdvAgQIECBAgAABAhUm8P5fXx/+vKz5KbfT5u4XXn3k0eGxdWs7HcWI+F2+A9t9U6/Tyu1OpKfoLjj0sHDd44+Fm5YsLnxv8C0x4Dhj3PjCPf/rrjvCyvjUXUofPf2MMGn06HYtNO9++LTTw5/ik4TrYtDuA7+5Pjy4+pnwwgMOLJz8/ZKnwuWL7imUp8WnZD506ukl25g8eky8x/PCJ26+KazYsjlcfOWPw9/GJx8Pm7ZPSN8P/O5994bbapcXrk1PB546d17JdhwkQIAAAQIDIZAW6pIIDITA3HjTwm9Iy5cvD3Pnpl2JAAECBAgQIEBgsAukp/b2JM2ZMDH8+S1v73BJegLwspt+Uzj+voWnhQ+c+pwOddKB7bt2hr+94VfhD0uXlDyfXtl9z8mndnp98aL74uu777zumrCmrvRCINPHjgvfuOCicPzMWcVLSm7/8/Zbw9fuvD00P+fXscrz5x8Q/vu8C8OoGs9adNRxhACBgRCora0N8+a1/qNEKtQORD/cc2AF/FdpYP3dnQABAgQIECBAgACBLgRG14wI37nw4nDNY4+E9J2+R9auCVviAiTpO3knx4Xk3njsCeHEWbO7aKH5VArs3fg3bwzfu29R+O1TT4YVLSsXz504Kbz4wINDerIwfZu6XPpgfELwjP3nh/954L5wV/yw/rq6ujAhvn58xD7TwyuPPCpc2PK6cbl2nCdAgAABAv0p4AnA/tR2r6yAJwCzGsoECBAgQIAAAQIECBAgQKAPBDwB2AeoFdikRUAqcNJ0mQABAgQIECBAgAABAgQIECBAgEB3BQQAuyulHgECBAgQIECAAAECBAgQIECAAIEKFBAArMBJ02UCBAgQIECAAAECBAgQIECAAAEC3RUQAOyulHoECBAgQIAAAQIECBAgQIAAAQIEKlBAALACJ02XCRAgQIAAAQIECBAgQIAAAQIECHRXQACwu1KDp96M2JULYv7nmG+MeW3M+Zb8vbjd0/SSeMHVMdfGvKNlm/bTcYkAAQIECBAgQIAAAQIECBAgQKDCBWoqvP/V2P1ne2nQKfj7zZgvbdfenLif8sti/nbM74y5KWaJAAECBAgQIECAAAECBAgQIECgAgU8AViBk5bp8rJY/m1mf0+Kn4uVi8G/RbF8ScwLW7ZpP6W3xfzZQskPAgQIECBAgAABAgQIECBAgACBihTwBGDlTVt69feulpyeBpwf85KY9yQdGit/pOWCu+P2jJjrW/ZT29fG/MeYF8T89zF/J+YnY5YIECBAgAABAgQIECBAgAABAgQqTMATgBU2YbG7n4r5upj35lXgD8Tri8Hf98ZyMfgXi4VUF3+m4ymleh8slPwgQIAAAQIECBAgQIAAAQIECBCoOAEBwIqbsr3ucC62cFFLK4/G7e2dtJiOP9ZyLtVP10kECBAgQIAAAQIECBAgQIAAAQIVJiAAWGET1gvdPSC2MbulnfSab1epeD4tCjK/q4rOESBAgAABAgQIECBAgAABAgQIDE4BAcDBOS992asjM42nJwC7StnzR3RV0TkCBAgQIECAAAECBAgQIECAAIHBKVD8Dtzg7J1e9YXA3EyjtZlyqeLyzMF5mXJ3itn7lKo/s9RBxwgQIECAAAECBAgQIECAAAECBHpXQACwdz0robUJmU5uzZRLFbdlDo7PlLtTzAYPu1NfHQIECBAgQIAAAQIECBAgQIAAgT4Q8ApwH6AO8iZHZ/rXkCmXKu7IHByTKSsSIECAAAECBAgQIECAAAECBAhUiIAnACtkonqxm9szbY3MlEsVR2UO1mfK3SmWe2U4vQJ8V3caUocAAQIECBAgQIAAAQIECBAgQKDnAgKAPber1Cu3ZDpe7rXecZm65V4XzlQtFMt9X7B9ffsECBAgQIAAAQIECBAgQIAAAQJ9IOAV4D5AHeRNZgNz5RbqyD7F55t+g3xidY8AAQIECBAgQIAAAQIECBAgUEpAALCUytA+9nBmeIdnyqWK2fOPlKrgGAECBAgQIECAAAECBAgQIECAwOAWEAAc3PPTF71bEhtd2dLwmWVucEbL+RVxu7RMXacJECBAgAABAgQIECBAgAABAgQGoYAA4CCclD7uUj62f03LPdITfqd2cr90vPgEYKqfrpMIECBAgAABAgQIECBAgAABAgQqTEAAsMImrJe6+6XYTmNLW1+N2zHt2k376XhKu2JO9SUCBAgQIECAAAECBAgQIECAAIEKFLAKcOVN2nNjlw/OdHufTDkdf3NmPxW/124/7T4e8xdi/ljMC2K+NebPx7w45oNi/mjMJ8ScUqr3RKHkBwECBAgQIECAAAECBAgQIECAQMUJCABW3JSFt8Uuv6mTbp8ej6ecTd/L7mTKH4/lGTG/NeYU7Lsi5vbp8njgE+0P2idAgAABAgQIECBAgAABAgQIEKgcAa8AV85c9XZPm2KDl8Z8fszpG39pYZCGlm3aPy/mFGxM9SQCBAgQIECAAAECBAgQIECAAIEKFfAEYOVN3Jtjl1PurXRDbChliQABAgQIECBAgAABAgQIECBAYAgKeAJwCE6qIREgQIAAAQIECBAgQIAAAQIECBAoCggAFiVsCRAgQIAAAQIECBAgQIAAAQIECAxBAQHAITiphkSAAAECBAgQIECAAAECBAgQIECgKCAAWJSwJUCAAAECBAgQIECAAAECBAgQIDAEBQQAh+CkGhIBAgQIECBAgAABAgQIECBAgACBooAAYFHClgABAgQIECBAgAABAgQIECBAgMAQFBAAHIKTakgECBAgQIAAAQIECBAgQIAAAQIEigICgEUJWwIECBAgQIAAAQIECBAgQIAAAQJDUEAAcAhOqiERIECAAAECBAgQIECAAAECBAgQKAoIABYlbAkQIECAAAECBAgQIECAAAECBAgMQQEBwCE4qYZEgAABAgQIECBAgAABAgQIECBAoCggAFiUsCVAgAABAgQIECBAgAABAgQIECAwBAVqhuCYDIkAAQIECBAgQIAAgT4UWL+5Lvz16WfCQ0tTfjY8HMsbt20v3PGlpx4ZPvOmc/b67nc/vjy84z+v2qN2TjpkbvjWh17V4ZrzP355WLV+c4fj7Q/MmjoxXP+5S9sf7rB//+KV4co/3R8WPbkiJIsJY0eFQ+ZMDxeedmQ49+TDO9R3gAABAgQIDLSAAOBAz4D7EyBAgAABAgQIEKgwgbM++o1B2eP9953S5/36f9fdFr59wx2hKZ9vvde6GARct/npcPsjT4cb7nw0fOEdF4RRI/xVqxVIgQABAgQGXMB/lQZ8CnSAAAECBAgQIECAQOUKzJw6Iczfd2oh+NWbozhq/5nhyk+8oWyTn//pzeGeJ2oL9dLTh12l5x93UPjblz6n0yojaoZ3ei6duOrPD4RvXn97oc7c6ZPCW89dGA6ZvU9Ys2lb+PHvF4X01OItf10SPvOD34Z/vfS8LttykgABAgQI9KeAAGB/arsXAQIECBAgQIAAgSEg8PbzTglHzZ8Zjtp/3zBt4rj/z959gOtRlYkDPyGkhyadJNRI71WKgriACCpW4L8ooqDorrquFVdd7Kx1VXRRUFBkVVBhRaQoSBdCr6G3JEBIAgnpCQn/93y5383k5rZc5rt3vnt/53nezJmZM2fO/M7l4ebNlPT0jFnpyC/8otQrGzFsSBo/Zr1O+5w9b0G65/Fnam3Grb922mWrTTptv8aIYV322VEHs+IR5x9eeH1td056/vIzx6Z1Ro9obf7anbZInzzj4nTtPY+ly259ML39tTulPbce17pfhQABAgQI9KWAj4D0pb5zEyBAgAABAgQIEGhCgQ/HXXSv22nLWvKvL4d/+W0PpUUvLakN4Yh9tmvoUC684Z40Z/7C2jk+ftRrV0j+5Y2DV1stnXLswbEcVGvzq7/eVlv6gwABAgQIVEFAArAKs2AMBAgQIECAAAECBAisssAlN91fO2ZQ5NyOfE1jE4BX3/Vo7Vyjhw9NB+82vt2xbrjOGmnvbTet7ZvwwFNp7oJF7bazkQABAgQI9LaABGBvizsfAQIECBAgQIAAAQKvWGDStJnprseWPf672/gxaZN113rFfXbUweK4yzB/8TiXnbbcOHX2rsD8JeJc8p2J9z85tVb3BwECBAgQ6GsB7wDs6xlwfgIECBAgQIAAAQIEVlngzy13/+UDj+zi4x/1zm+Pj4Uc8/Vfp8mRPFy69OX0qjVH1t5l+MY9t0n5AyGD8q2E7ZQnp76QlkT7XPIHTzorm2+0fP/jzz6f9trGewA787KPAAECBHpHQAKwd5ydhQABAgQIECBAgACBkgRefvnldOmEB2q9DR+yejpk96271fOUGS+u0O7pWM/x13iX4K7xAZHTTjwibbD26BXa5JWpM+e0bttwnZX3t+6MykaF/VNfmF3cpU6AAAECBPpMQAKwz+idmAABAgQIECBAgACBngjc8ciUNHn6rNqhr991fBoV7+XrrAxZfbV04M5bptdst1kav8l6afSIoWl2fNDj7niE+PfX3p2ejUTdnY8+nT78gz+kcz5zTMpfCy6WeYV3+Y2MrxN3VoYPXb5/3sLFnTW1jwABAgQI9JqABGCvUTtRRwIz58xPo2bP62i37QQIECBAgAABAg0QWGeNkQ3otXe6vGTCxNYTHdGNj3+c+9lj0xojh7ceU6/sufW4dPRBu6ZP/+zP6aaJT6b8yO7PLrkpffKdB9ab1JYLX3qpdX311Qe31turDC3sX7ho+XHtte1o2wt+N+6IxnYCBHogkP/OrRCQAPQz0OcC+T0sQ0ev3efjMAACBAgQIECAwEASuP1/PtGUl7tw8Uvpb7c9XBv7+muNSvu0fHW3s4tpL/lXb5/vHvyvk45Ib/niL9KsuQvSH6+/J33sqANW+NDHsNWX/7Xppfi4R2clf/yjXoYNXX5cfVt3lm/4zE+700wbAgQIdEtg0ZyZ3WqnUf8W8BXg/j2/ro4AAQIECBAgQIBAvxK45u5Ha4/v5os6fO9t0+DVXvlfafIjv4fusU3NaX48ttv2670jC48Yd/VY74JFyx/77epx4X41MS6GAAECBCot8Mr/b1npyzM4AgQIECBAgAABAgT6k8Cfb1r++O+R+2xf2qVtufHyr/c+V/joRz7BhoUPg0x9YfkHQdo7+bOF/Ruus0Z7TWwjQIAAAQK9LiAB2OvkTkiAAAECBAgQIECAQE8Enn9xXrrp/idrh247boM0fsx6Pemm3WMGDRrU7va8cbMN14k7DZftf2Lq8x22yzueiPcI1ssWGy1PKta3WRIgQIAAgb4Q6NlLKfpipM7ZbwV++x/HpTFjxvTb63NhBAgQIECAAAEC5QhcessD6aWlS2udHdmNj3+sylkfe2ZGa/P11x7VWs+VIfFhjx0236j21eB74svBi+M9f3lbe+W2hyfXNuePgWy/2YbtNely25Xf+lCXbTQgQIBAdwWmTJmSdvr1V7rbXLt+KiAB2E8ntpkua+3RI1Izf4WumayNlQABAgQIECDQzAKX3Lzs8d/VB6+WDt9r29IuZfb8hemKWx+s9Tc8Ptyx/aYrJ+4O2mWrWgJwzoJF6ao7HkmH7bXsnYHFQUx9YXaa8MBTtU17x8dJ8gdGelL8btwTNccQINCRwNz4O7dCwCPAfgYIECBAgAABAgQIEOh1gT/94760+4e/X4sz/vyPLs//6NPT0wOTnqu122/7zbv9D8g33PdEWrDopQ77nxcJvc+eeUmaGV8AzuWo/XZMQ4esfJ/E2/bfKY2Oj4Xk8sOLrk8z58yv1et/LIk7E7/5m6vSkqUv1za995A96rssCRAgQIBAnwus/H+2Ph+SARAgQIAAAQIECBAgUGWBOx6ZkiZNm9k6xGIyLG/Pyb1iecu+OxRXe1S/+Kb7W49782u6//GPcy6/JX3h7EvTwbuOT7tutUkau/7aKX+dd878Remux55Ov7/u7vTs87NrfW8e7/r70JH7tp6nWFlr1PD0sbcdkL7xv1emZ55/Mb33W79JH3jjPunVY9ZN02bOTedddUe69aFJtUPeuOc2ac+txxUPVydAgAABAn0qIAHYp/xOToAAAQIECBAgQKD5BC664d5UTMgVr+DOR59OOYrllSYAl8ZddZdOeKDW5Zojh6XX7bxlsfsu67Pi7r4LY8w5Oip7vHps+vr7D0850ddReedrd45k35x01qU3p8nTZqUvn3vFSk0P2HGL9J/vPXSl7TYQIECAAIG+FJAA7Et95yZAgAABAgQIECBAoEuBCQ8+labNmltrd+ge23T4AY72OvrEO14b7+WblO5+/Jn0xNQXao/uzpm3MOV3/a239ui0U3zcI7/Pb9/tNkudfQm43veH37xfyo8gn3/NXSnfCTlj9ry0RjwavPXY9VJOdL6xxHcT1s9pSYAAAQIEXqlAx9+6f6U9O55A5wJjY3ftGYlJkyalsWPzqkKAAAECBAgQIECAAAECBAiUKTB58uQ0blzrawlyZXKZ/eurOQR8BKQ55skoCRAgQIAAAQIECBAgQIAAAQIECPRIQAKwR2wOIkCAAAECBAgQIECAAAECBAgQINAcAhKAzTFPRkmAAAECBAgQIECAAAECBAgQIECgRwISgD1icxABAgQIECBAgAABAgQIECBAgACB5hCQAGyOeTJKAgQIECBAgAABAgQIECBAgAABAj0SkADsEZuDCBAgQIAAAQIECBAgQIAAAQIECDSHgARgc8yTURIgQIAAAQIECBAgQIAAAQIECBDokYAEYI/YHESAAAECBAgQIECAAAECBAgQIECgOQQkAJtjnoySAAECBAgQIECAAAECBAgQIECAQI8EJAB7xOYgAgQIECBAgAABAgQIECBAgAABAs0hIAHYHPNklAQIECBAgAABAgQIECBAgAABAgR6JCAB2CM2BxEgQIAAAQIECBAgQIAAAQIECBBoDgEJwOaYJ6MkQIAAAQIECBAgQIAAAQIECBAg0CMBCcAesTmIAAECBAgQIECAAAECBAgQIECAQHMISAA2xzwZJQECBAgQIECAAAECBAgQIECAAIEeCUgA9ojNQQQIECBAgAABAgQIECBAgAABAgSaQ0ACsDnmySgJECBAgAABAgQIECBAgAABAgQI9EhAArBHbA4iQIAAAQIECBAgQIAAAQIECBAg0BwCEoDNMU9GSYAAAQIECBAgQIAAAQIECBAgQKBHAqv36Ki+OeiqXjjty3GON/TCeZyCAAECBAgQIECAAAECBAgQIECAQK8INFMC8KAQyQm6QQ2QqfeblwoBAgQIECBAgAABAgQIECBAgACBfiPQTAnAOvqtUZlbXylpOSr62bOkvnRDgAABAgQIECBAgAABAgQIECBAoDICzZgAfF/o3V+y4A7R3z0l96k7AgQIECBAgAABAgQIECBAgAABAn0u4CMgfT4FBkCAAAECBAgQIECAAAECBAgQIECgcQISgI2z1TMBAgQIECBAgAABAgQIECBAgACBPhdopkeAG5msvC9mopH99/lEGwABAgQIECBAgAABAgQIECBAgMDAFJD0Gpjz7qoJECBAgAABAgQIECBAgAABAgQGiIAE4ACZaJdJgAABAgQIECBAgAABAgQIECAwMAUkAAfmvLtqAgQIECBAgAABAgQIECBAgACBASIgAThAJtplEiBAgAABAgQIECBAgAABAgQIDEyBZvoISFcztF40+OeI10ZsGbFGxOCIzsrLsXOrzhrYR4AAAQIECBAgQIAAAQIECBAgQKCZBfpLAvDYmIT/ichJv1wGLVt0+WdOACoECBAgQIAAAQIECBAgQIAAAQIE+q1Af0gAHhyz8+uIetLvyajfHTEzYmmEQoAAAQIECBAgQIAAAQIECBAgQGDACvSHBODnYvZy8i8n/PIjwJdGKAQIECBAgAABAgQIECBAgAABAgQIhEB/+AjIXnEd+VHe/4yQ/AsEhQABAgQIECBAgAABAgQIECBAgEBdoD8kAOvXcEP9oiwJECBAgAABAgQIECBAgAABAgQIEFgmUE+eNbPHoy2DH9XMF2HsBAgQIECAAAECBAgQIECAAAECBBoh0B8SgL8NmPwOwMMaAaRPAgQIECBAgAABAgQIECBAgAABAs0s0B8SgD+JCbg/4t8i9mzmyTB2AgQIECBAgAABAgQIECBAgAABAmUL9IcE4JxAeVPEAxHXRnw9YueI4REKAQIECBAgQIAAAQIECBAgQIAAgQEtsHo/ufqn4jqOj7gq4nMtEYsuS/56cH8x6PJiNSBAgAABAgQIECBQhsALz89ND058Oj1w/5T00MRnavUXZ82vdX3Im3ZOn/nCW8o4TfrVWdekc39xXbf6+s7px6Vddt+807azZs5LF14wId147UNp6jMza2033HjttN/rtk5vf/feac21RnZ6fH3nffdMShf/4bZ0z11PpRdemJtGjx6ethy/YTo0rv3gQ3esN7MkQIAAAQKVEegvya+Ph+h3IvIdjfl9gAoBAgQIECBAgAABAg0SePeR329Qz43rduJ9U9Kpn7sgPT8jP0C0vDz+6HMpx6UX35m+fNq70rbbj1m+s51aTkqed871aenSfC/BspITordNeKwWV11xb/rS19+Zhg7rL3/Vql+lJQECBAg0s0B/+L9Sfvy3/hvI0qjnfyK8KyL/k15eVwgQIECAAAECBAgQaJDABhuumcZttl4t+dWgU9S6/dm5H+y0+402WbvD/c9NnZW+9OnfpZlxB+DgwauldxyzT3rN/q+utb/phofTH357c3p++pz0xU+fn35y9gfS+hus2W5ff77ottY7EjcZs0469vj90xZbbpBmTJ+dLjx/Qrrz9ifTzTc+kr7zjYvT57/8tnb7sJEAAQIECPSFQH9IAH66BW5KLHMy8J6+gGzyc24W4/9YxBER4yIWRjwacX7EjyPmRSgECBAgQIAAAQIEagLHvf+1aZvtNonYOK3zqtHp2Xic9j3vOL2hOltstUGP+z/7p1fXkn+5g1O+fFQ68ODtW/vaaddN09bbbpy+9sU/ppnxOO/ZP7u63UeYX3xxfjrrJ/mNQynlpOcPzzwhrbX2yNZ+9omE4qmnXJBuuv7h9Pe/3peOeOtuXT6S3HqwCgECBAgQaLBAf/gISP7gR77//ksRkn+r/gPz5jjk7oh/j9gmIv8Ws05E/qLytyLuiBgfoRAgQIAAAQIECBCoCRx/4oG1O+hy8q/qJT/ymx/LzWXPfbZcIflXH/uBb9i+ti+vX3nZPSs9Jpy3X/qnO9LcOfnfyVM68SNvWCH5l7flOws/9qnD02qDl72R6PzzbsqbFQIECBAgUAmB/pAAHNwieWclRJtrELvFcH8XkZ9xyC9D+Y+I/SLeEHFmRC5bR1wSsUZeUQgQIECAAAECBAg0k8A/rnuo9X19hx2xS4dDP/RNy/bld/vlY9qW/OGQXEaOGpYOOGjbtrtr6/nR4d333KJWv+O2x9O8ucsShu02tpEAAQIECPSiQH9IAD7c4pXvWlNWTeAH0XxExEsRh0Z8I+IfEfnZhvySlc9E5JKTgJ+s1fxBgAABAgQIECBAoIkE7r17Uutod94tv/mm/bLzbpu27shf+S2WxYuXpAcm5jcOpbT9jmPSkCH1exCKrZbV6+dYvGhJeuiBZ1ZuYAsBAgQIEOgDgf7wDsDfhNseEUdFLHspRx9ANuEp944xv7Zl3D+PZU78tS3fjQ0nRGwX8fGIr0csjlAIECBAgAABAgQI9KrAZz9+Xnrs4alpzpwFafTo4WnTLdZLe+2zVTriqN3TGmvmf9Nuvzz5xPTajlGjh6VXrdvxI8vrrrdG7e6+fNfeU0/MWKGzyU/NSEuX5LcOxQuz44MnnZVxm63buvupOPeue2zeuq5CgAABAgT6SqA/3AH4o8CbEPGhiPw+O6V7AjlhWi9n1yttlktj/Vct2/Jn1V7fZr9VAgQIECBAgAABAr0icPstj9c+5PHSS0try7vveCr9/Iy/p/e+68fpxmsf7HAM0597sbZv/fXb/7Jv8cANWr7+O63lmPq+6dNm16vxheDO34xT/IJw235aO1EhQIAAAQK9LNAf7gDcOMxOivhZxIUR+Z12OfJLOrrz9dqnot1ALAe0XPTcWN7WCcA1hX37R/2KwroqAQIECBAgQIAAgYYK5K//7ve6rdO2249J6643OuUEYL4j78rL7023TXgszZm9IH35P36fvvqto9Pe+6787br58xbVxjd85NAuxzl8xJBam/nzlx1TP2DevOXv8hs+ovN+ivvb9lPvz5IAAQIECPS2QH9IAD4RaMvux09pUNSPaYlYdFnycf3BoMsLbadBfqw3l0ci8jsAOyoPFHbUjylseuXVWTPnpdGjch5SIUCAAAECBAgQ6C2BtdcZ1Vun6vF53n70Pum98cXhtmW7HcakQw7fOf35otvSD751ae3x3O9985L0qwv+JQ0dtuKv94sWLftVd8jqXT/8VH+338KFK771ZtHC5b8u19u0HVN9fWjh/YALC8fV93dnOfMFvxt3x0kbAgS6J5D/zq0QWPH/js3rkRN/9VKs17dZrigwPFbrLy+ZvOKuldZeiC35N5D8G+K4lfZ2vGFsx7tqezaq7z/5+DPT8GFr1VctCRAgQIAAAQIEekHgrzd+oRfO8spOMXqN/Gtrx+XIo/ZID058Jl128Z1pxvTZ6bqrJ6Y3HLbTCgcMHbp6WrBgcVocdw52VfLHPnIZNmzZnYD19sWkYr1NfV/b5aKWPvL2YW2SkW3bdrT+riO+39Eu2wkQILDKAgsWzlrlYxzQ/wT6QwLwhP43LQ2/ouKLS+Z042z1BGDHb01euZMVP5228n5bCBAgQIAAAQIECLxigSPfunstAZg7yu8FbJsAHBGP/uYE4IKWR4E7O+GC+cvu/BvR5jHfkSOHtR62oM3jwa07WirF/W37advWOgECBAgQ6C2B/pAA/GVvYfWj8xT/KXXFF5y0f5H1l56MaH+3rQQIECBAgAABAgT6RiB/Dbheih/rqG9bLz7s8cLzc9O0acs+BlLf3t7yufoHQ1o+BlJvs976y//9fNpzyz8IUt9fXBY//FH8IEixjToBAgQIEOhtgf6QAOxts/5wvgWFi+j8LcbLGtb/yXN+4biuql09LpwfAb6lq07sJ0CAAAECBAgQINCZwKBBnb8BaLPN10sPP/BMmjtnYXp+xpz0qnXbf6glP0I8b+6yf/fedPN1Vzjl2E3XTasNHlR71+CkJ6evsK/tyqQnZ7Ru2jTOrRAgQIAAgSoISABWYRZ6fwzFf7Zs/zegFcdUf0N0dx4Xrh85uV7pannGL09KY8aM6aqZ/QQIECBAgAABAgRWEnjy8Wmt2/JXgtuWHXcel/522T21zXff8WQ66J92aNukZd9Trdt32GnFf8vOH/7Ydrsx6f57J0dMSfk9gB19DCSfI5chQwenrbfduLXPValccMknVqW5tgQIEOhUYMqUKWnHnb7TaRs7+7+ABGD/n+P2rjDfAZj/aTL/02ZXH+tYJ9rUE4ANea/fWmuPTM3wFbpwUAgQIECAAAECBComcMlFt7eOaOfdNmut1yv7vnbr9MPvxJeCl76cLr/krg4TgFf85a7aIautNijlY9qW/V63dS0BmO8SvP7qB9LrD1k5kZgf/7391sdrh+62xxZp5Kj6gzRte+t83e/GnfvYS4DAqgnMmTty1Q7Qul8KrNZEV/XeGGuONRsw5vwJ2nr/Dei+kl3e3zKq8bHsLBG8bWH0Ewt1VQIECBAgQIAAAQI9FsjJuEP2+1otfnXWNSv18/ijz6Upk59faXtxQ07+XRpfAM4lP9q7/4HbFHe3bj/40B1r9Vtvfixde9XKv9Jec9X9Ke/L5Q1v3Kndx4QPf8tuadToZQm9n//PVenFWfNq7et/LFmydFmiccnLtU3v/ufX1HdZEiBAgACBPhfoLPHT54NrM4BzYj3/3/TWiHryKqqllHwX3DkRSyN+FTEQyvVxka+NyHf37RFxc0R75cDCxhsKdVUCBAgQIECAAIEBKnDvXU9Fcu6F1qsvJsOejqRdTu4Vy2FH7FJc7Vb9oXhv3/dO+3PadffN016v2SptsdUGac21RqScaMvv2bvy8nvTbROWJe3y+/n+7bNvSh19dfeEDx2Ubr3p0TRz5rz0jf+8MOW+X7N//nfwlG664ZH0+9/cVKuvHU+mnPDBg2r1tn+sueaIdOJHDk4/+Nalaeqzs9JHTzw7HXv8/rVxzZg+J134u5vTnbcve/w33x24S4xbIUCAAAECVRFopgRgb5h1/gbh3hhB753jojjVKS2nOyGW7SUA8x2i+c7IXGZG/L1W8wcBAgQIECBAgMCAFvhL3HX317/c3a7BfXdPTjmKpScJwHz80rib7vZbHq9Fsb9iPScFP3nKkWnfA1Z+bLfeboMN10pf+fbR6dTPXVD7EMjvfn1jylEs+Q7CU097V+rsy71HHrVHysm+886+Lj095YX03W/8udhFrb73vuPTpz7/5pW220CAAAECBPpSoBkTgPlNuqvyMYru+G7SnUb9rM2EuJ7rIvJdgB+I+GXEPyKK5ZOxsl3Lhh/EcnFxpzoBAgQIECBAgACBRgnkRNonP39kuv+eyemRh6emmc/Picdu56eX45mgNeJuvC1fvUHaa5+t0qFxd+Gobrxrb7sdxqSfnfvBdOH5E9IN1z5Yu4svj32jjddO+8U7/95+9N5xh2HX78k6/sQD0577bJn+9Idb0z13TYpxzY1Hg4enLcdvkHKis/64caNc9EuAAAECBHoi0Ex3vOXHc/MjwI0q2SL3P7hRJ6hgv7vFmPJjvSMiclL1GxH5Lr+8fkzEByNyeShiz4jZeaWkkh+7rn1UZNKkSWns2K6+RVLSWXVDgAABAgQIECBAgAABAgQGkMDkyZPTuHGtXzfPlRVv0x5AFgP5UpvtDsBmSlg2w8/VHTHIoyN+HZE/rpITgG1LTv4dEVFm8q/tOawTIECAAAECBAgQIECAAAECBAg0SKCZEoAnNMhgoHd7cQDsHPHxiJzoy7fiLYp4JOKCiNMjVvzEWWxQCBAgQIAAAQIECBAgQIAAAQIEmkOgmRKAv2wO0qYc5ZMx6n9viaa8AIMmQIAAAQIECBAgQIAAAQIECBBoXyB/5VUhQIAAAQIECBAgQIAAAQIECBAgQKCfCkgA9tOJdVkECBAgQIAAAQIECBAgQIAAAQIEsoAEoJ8DAgQIECBAgAABAgQIECBAgAABAv1YQAKwH0+uSyNAgAABAgQIECBAgAABAgQIECAgAehngAABAgQIECBAgAABAgQIECBAgEA/FpAA7MeT69IIECBAgAABAgQIECBAgAABAgQISAD6GSBAgAABAgQIECBAgAABAgQIECDQjwUkAPvx5Lo0AgQIECBAgAABAgQIECBAgAABAhKAfgYIECBAgAABAgQIECBAgAABAgQI9GMBCcB+PLkujQABAgQIECBAgAABAgQIECBAgEB/SAB+KqZxA1NJgAABAgQIECBAgAABAgQIECBAgMDKAv0hAfituKxJERdGvDmiP1xTXIZCgAABAgQIECBAgAABAgQIECBA4JUL9Jdk2ZCgeEvERRFTIv4rYtsIhQABAgQIECBAgAABAgQIECBAgMCAFugPCcCdYgb/O2J6xKCIDSPyY8H3RdwY8YGI0REKAQIECBAgQIAAAQIECBAgQIAAgQEn0B8SgDnR9+8RYyLeHnFxxJKInAzcJ+JnEc9EnB3xugiFAAECBAgQIECAAAECBAgQIECAwIAR6A8JwPpkvRSV/AjwWyPGRnwmYmJETgSOinhvxN8jHoo4JWKTCIUAAQIECBAgQIAAAQIECBAgQIBAvxboTwnA4kQ9Fyvfidgx4jUR+S7AFyNyMnB8xNcinoz4S8Q7IvI7BBUCBAgQIECAAAECBAgQIECAAAEC/U6gvyYAixM1IVZOjtg4It8F+GxETgQOjjgs4vyI/OGQ0yI2ilAIECBAgAABAgQIECBAgAABAgQI9BuBgZAAzJO1WcRnI74SkT8S8nJELjkRmGO9iE9HPBrxiQiFAAECBAgQIECAAAECBAgQIECAQL8Q6M8JwOExQ8dFXBmRE3tfitg8Iif8Ho7ICcH8HsBDI34XkT8cMiIiPzqcj1MIECBAgAABAgQIECBAgAABAgQINL3A6k1/BStfwL6x6YSId0es0bI7J/3mR/w+4qyI6yLqJT8S/LeIrSLy/l0i8l2Av45QCBAgQIAAAQIECBAgQIAAAQIECDS1QH9JANbf7/e+mI2tW2YkJ/1yuSMiJ/3Oi8gfAumo5LsE812Bl0XU++iore0ECBAgQIAAAQIECBAgQIAAAQIEmkKgPyQA85d8D4nIjzPXk36zov6/ETnxlxOA3S2PtTQc2d0DtCNAgAABAgQIECBAgAABAgQIECBQZYH+kAB8YwE4P9qbk34XRCwobO9udV40vDai/pGQ7h6nHQECBAgQIECAAAECBAgQIECAAIFKCvSHBOBzIfvLiJz4yx/3eCXl6Tj4oFfSgWMJECBAgAABAgQIECBAgAABAgQIVEmgPyQAxwboS1VCNRYCBAgQIECAAAECBAgQIECAAAECVRHI781r9iL51+wzaPwECBAgQIAAAQIECBAgQIAAAQINE+gPCcCG4eiYAAECBAgQIECAAAECBAgQIECAQLMLSAA2+wwaPwECBAgQIECAAAECBAgQIECAAIFOBCQAO8GxiwABAgQIECBAgAABAgQIECBAgECzC0gANvsMGj8BAgQIECBAgAABAgQIECBAgACBTgQkADvBsYsAAQIECBAgQIAAAQIECBAgQIBAswtIADb7DBo/AQIECBAgQIAAAQIECBAgQIAAgU4EJAA7wbGLAAECBAgQIECAAAECBAgQIECAQLMLSAA2+wwaPwECBAgQIECAAAECBAgQIECAAIFOBCQAO8GxiwABAgQIECBAgAABAgQIECBAgECzC6ze7Bdg/AQIECBAgAABAgQI9K7AC8/NSg9OeCQ9MOHh9NCtj6YHb3k0vThjdm0Qhxx/YPrM2f9ayoDmzpqbbvrz7en2K+9Oj9z+eHr2iefSwnmL0ui1R6bNd9w07XPEHunwDxwc66M6Pd9xW3wkTX1yWqdt8s4NN1s//frxn3TZ7r4bH0wX/8/l6Z7rJqYXps6qjWfLXTZPhx5/UDr42AO6PF4DAgQIECDQ2wISgL0t7nwECBAgQIAAAQIEmlzg3Rud2PArmHDpHenUt387LV64eKVzzZo+O9119X21+P13/5ROOe/jadfX77hSu0Zs+NWp56fzvvb7tHTpy63d5yTgbVfcVYur/ve69KULPpmGDh/aul+FAAECBAj0tYAEYF/PgPMTIECAAAECBAgQaGKBDTZdL43bdkwt+VXmZeQ7CnPyb7XVBqXdD9k57XXYbmnLXTar3e03bfKMlBNtV//uxvT8szPTF998Wvr+9V9N43fdotMh7PfWvdL7vnpMh22GDO38r0d//ulf07lfuaB2/CZbbZiOPeXtaYudNk0znn4hXfjDS9Kdf78v3XzJ7ek7H/hJ+vx5/9bheewgQIAAAQK9LdD5/+F6ezTOR4AAAQIECBAgQIBA5QWO++I70zZ7jY/YKq2z4dq1R3Pfs+W/lDru1YcMTkd88JD0/z7/trTBpuuv0Pf43bZI+755z7TDftumH3/8F2nBvIXpp5/8Zfr2laeu0K7tyqh4dHiLeHS4J+XF52ensz7369qhOen5w398I6213pqtXe1z5O61OxZvuvi29Pff3JCOOOmQtMtBO7TuVyFAgAABAn0p4CMgfanv3AQIECBAgAABAgSaUOD4Lx+dXnPkHrXkX6OGf9DR+6d/O+ODKyX/iuc76qOHp6333Kq26e5r7k+zpr9Y3F1q/dKzrkpzZ82r9XniacetkPzLGwcPHpw+9uOT0mqDl/0V6/zv/F+p59cZAQIECBB4JQISgK9Ez7EECBAgQIAAAQIECPSpwC4Hbl87f34n37OPP9ewsdz4fxNqfY9cc0Q64O17t3ue9ceum3b/p51q++648t40b/b8dtvZSIAAAQIEeltAArC3xZ2PAAECBAgQIECAAIHSBBYvfKm1r/rdd60bSqosXrQ4vnj8SK237ffdOg0ZOqTDnnd+3bLHfvP7C/MXkhUCBAgQIFAFAe8ArMIsGAMBAgQIECBAgAABAj0SuPva+2vH5XcGbjJ+o077uOfaielDu30qPfPo1LR0ydJ4hHmttM3e49Prjzkg5Q+EDBo0qN3jJz/0TK193jlumzHttqlvHLftJvX4Et2yAABAAElEQVRqemrilF77OnHrSVUIECBAgEA7AhKA7aDYRIAAAQIECBAgQIBA9QVuvuS29NjdT9YGuudhu6ZRa47sdNBtHxF+9olp8QGTaema8/+Rdth/m/SF334irTdm3ZX6mB5fHa6X/JhvZ2X9ceu17p42aXprXYUAAQIECPSlgARgX+o7NwECBAgQIECAAAECPRLIX+X90b/+vHZsfvQ3f5iko7L60NXTvm/ZM+1xyC5p8x3HpVFrjUxzZ85L9//joXTxGZenaZNmpPtueDB99tCvph/e+PXYP2qFrubNXtC6Pnz08NZ6e5Xho4a1bp4/Z/lxrRtVCBAgQIBAHwhIAPYBulOuKDBrxotp9LBZK260RoAAAQIECBAg0FCBtddfq6H9N7LzJUuWpNOO+2Ga+uS02mn++T/ekcbvtkWHpzz95m+m0WuvmNTLjXc5aIf01n99Y/rKu76bbrvirtoju+d++YJ08vfet0JfixYsal0fEsnEzsrQYcvfD7hw/vLjOjum7b6Z0/xu3NbEOgECPRfIf+dWCHT+fy8+BHpB4ORdP52GD+r8cY1eGIZTECBAgAABAgQGlMBfl17QtNf7o4+clW657M7a+F9z5B7pn7/4jk6vpb3kX/2AkWuMSF/83SfSe7b61zT7+TnpkjP/lj5w2j+v8KGPocOH1punxYuWf3SkdWOhsig+/lEvw0YsP66+rTvLd214YneaaUOAAIFuCSx4eV632mnUvwV8Bbh/z6+rI0CAAAECBAgQINCvBH5+ynm1JF2+qJ1eu136QiTvBg8e/IquMT/ye9DR+9f6WDB3YXy997EV+hu5xvLHfhd08VhvPr5eRnTxuHC9nSUBAgQIEGi0gARgo4X1T4AAAQIECBAgQIBAKQK//a+LUo5cXr37FumrF38uDRux/J17r+Qkm20/tvXw6VOeb63nynqFD39MK3wQZIVGLSvFD38UPwjSXlvbCBAgQIBAbwlIAPaWtPMQIECAAAECBAgQINBjgT/95PKU7/7LZdPtxqRvXvaFLr/6uyonGzRoUIfNx269ccofGsll0oNTOmxX2//A06378zgVAgQIECBQBQHvAKzCLAzwMZxx57fTmE38cjTAfwxcPgECBAgQIECgQ4G/nntNOv2jy774u/GWG6b/+uuX0lrrrdlh+57sePL+Sa2HrbvJOq31XBkydEjadu/xta8G5y8HL160eIV3BBYb333tfbXVIfExkK333Kq4q9v1C6ae1e22GhIgQKArgSlPT0k77vqXrprZ388FJAD7+QQ3w+Wtte6aqZm/QtcMxsZIgAABAgQIEGhWgev+eHP6zvt/kl5++eW0fjyK+62/fSmtt8mrSr2cubPmpqt/d2Otz+Ejh7WbuNvvrXvXEoDzXpyfrv/jhPT6Y5a9M7A4kPx48O1/u6e2abc37JjyB0Z6Uvxu3BM1xxAg0JHAnIWzO9pl+wAS8AjwAJpsl0qAAAECBAgQIECgKgKXn/P3dMhq76rFr049v91h3XrFXemb/++/09IlS9PaG6wVd/59MW20+Qbttu1o4y2X3ZEWzl/+YY627ebPmZ++evT304szlv0F+Y3vPzgNjbv32pbDTzw4jVprZG1zfhS53r7ebsmSJemH/3Jmbax527s/9db6LksCBAgQINDnAu4A7PMpMAACBAgQIECAAAECzSVw7/UT05RHnm0d9IvTl99d8nRsz8m9Yjnsfa8vrnarfv9ND6Uvv/3b8bjtS2n1IYPTh793fHpp8ZL0+L1PdXh8vkNw9NqjVtifPxryzeN+mA542z5pxwO2TZtstWEaHl/nnTtrXrr/xofSn396RXruqem1Y8Zts0l6z6nvWuH4+sqar1ojnXjacekHH/5ZmvrktPTR15ySjv38O9IWO22aZjz9fLrwB5ekO/++7PHf1x+7f9rloB3qh1oSIECAAIE+F5AA7PMpMAACBAgQIECAAAECzSXwl59fmf76y2vaHfR9NzyYchRLTxKAt152Z1owb9mdeznxl5N4XZVP/eIjqb1zzX5+Tro0xpyjo7LzgdunU379sZQTfR2VIz90SC3Zd97X/pCefnRq+u4HfrJS073ftFv61M8/stJ2GwgQIECAQF8KSAD2pb5zEyBAgAABAgQIECDQUIEPfvu96Y4r70kT447CSQ8+nV6c/mKaM3NeGjZyaFo33iW47T7j431+B6Q9D90ldfYl4Pogj//y0WnPw3ZNf/rJZeme6yammVNnpVFx1+GWu2xWSz4efOwB9aaWBAgQIECgMgIdf+u+MkM0kH4qMDauq/aptUmTJqWxY/OqQoAAAQIECBAgQIAAAQIECJQpMHny5DRu3Lh6l7kyub5iOXAEfARk4My1KyVAgAABAgQIECBAgAABAgQIEBiAAhKAA3DSXTIBAgQIECBAgAABAgQIECBAgMDAEZAAHDhz7UoJECBAgAABAgQIECBAgAABAgQGoIAE4ACcdJdMgAABAgQIECBAgAABAgQIECAwcAQkAAfOXLtSAgQIECBAgAABAgQIECBAgACBASggATgAJ90lEyBAgAABAgQIECBAgAABAgQIDBwBCcCBM9eulAABAgQIECBAgAABAgQIECBAYAAKSAAOwEl3yQQIECBAgAABAgQIECBAgAABAgNHQAJw4My1KyVAgAABAgQIECBAgAABAgQIEBiAAhKAA3DSXTIBAgQIECBAgAABAgQIECBAgMDAEZAAHDhz7UoJECBAgAABAgQIECBAgAABAgQGoIAE4ACcdJdMgAABAgQIECBAgAABAgQIECAwcAQkAAfOXLtSAgQIECBAgAABAgQIECBAgACBASggATgAJ90lEyBAgAABAgQIECBAgAABAgQIDBwBCcCBM9eulAABAgQIECBAgAABAgQIECBAYAAKSAAOwEl3yQQIECBAgAABAgQIECBAgAABAgNHQAJw4My1KyVAgAABAgQIECBAgAABAgQIEBiAAhKAA3DSXTIBAgQIECBAgAABAgQIECBAgMDAEZAAbL65Hh1Dfl3EpyLOj3g84uWWeCKWq1p2jAN+GvFoxPyIaRHXRZwcsXqEQoAAAQIECBAgQIAAAQIECBAg0MQCEjzNN3kXx5APKmnYJ0U/p0cMLfQ3POoHtMQJsTwiYnqEQoAAAQIECBAgQIAAAQIECBAg0IQC7gBsvkkbVBjy81G/ImJOYVt3q2+KhmdE5OTf1IiPRewTcXjEHyNy2TviwojBeUUhQIAAAQIECBAgQIAAAQIECBBoPgF3ADbfnP1vDDk/sntLxCMtw38ilvnR4O6WIdHwRxE5AfxixP4R+RHgerksKj+O+EhEvhvwPRHnRCgECBAgQIAAAQIECBAgQIAAAQJNJuAOwCabsBjuzyJ+E1FP/vXkCt4WB23ZcuA3Y1lM/tX7+3RUXmhZyXWFAAECBAgQIECAAAECBAgQIECgCQUkAJtw0koY8lGFPs4p1IvVebGSPzKSy/YRW9dq/iBAgAABAgQIECBAgAABAgQIEGgqAQnAppqu0gabH+vN5cGIZ2u19v+4prA5PyasECBAgAABAgQIECBAgAABAgQINJmABGCTTVgJw83vChzX0s8DXfRX3L9dF23tJkCAAAECBAgQIECAAAECBAgQqKCAj4BUcFIaPKSxhf4nF+rtVScVNtaThoVNnVaL52mv4UbtbbSNAAECBAgQIECAAAECBAgQIECgXAEJwHI9m6G3NQqDnFOot1edW9i4Kl8ZzocVk4eFblQJECBAgAABAgQIECBAgAABAgR6U8AjwL2pXY1zDS8MY1Gh3l51YWHjiEJdlQABAgQIECBAgAABAgQIECBAoEkE3AHYmIl6uYRuT4g+zimhn7ZdLChsGFqot1cdVtg4v1DvTrWrR4bzI8C3dKcjbQgQIECAAAECBAgQIECAAAECBHouIAHYc7tmPXJ2YeBdPdY7qtC2q8eFC01r1a7eL9i2vXUCBAgQIECAAAECBAgQIECAAIEGCEgANgA1uizji7nPNGZoaUqh364+1FG8i887/QpwqgQIECBAgAABAgQIECBAgACBZhGQAGzMTD3QmG5L6TXfAZiTeTm5t20XPRb3T+yird0ECBAgQIAAAQIECBAgQIAAAQIVFPARkApOSi8M6fqWc2wTy/wuvo7KgYUdNxTqqgQIECBAgAABAgQIECBAgAABAk0iIAHYJBNV8jAvKvT3vkK9WB0ZK+9u2XB/LB8q7lQnQIAAAQIECBAgQIAAAQIECBBoDgEJwOaYp7JHeWF0+FhLp6fEcqt2TvDt2LZOy/ZcVwgQIECAAAECBAgQIECAAAECBJpQwDsAm2/SxseQD2gz7PrXfPPyfW32XRbrz7bZtjjWPxpxccSaEfnx3q9FTIjISb+TIt4RkUt+XPjcWs0fBAgQIECAAAECBAgQIECAAAECTScgAdh0U1ZL/p3dwbDXje1t970+trVNAObD/xJxcsTpERtG/CiibckJwbdFLGm7wzoBAgQIECBAgAABAgQIECBAgEBzCHgEuDnmqVGjPDM63iMiL/MjwQsiZkTku/4+HLF/xPQIhQABAgQIECBAgAABAgQIECBAoEkF3AHYfBN3Tgw5R1nl3ujog2V1ph8CBAgQIECAAAECBAgQIECAAIFqCbgDsFrzYTQECBAgQIAAAQIECBAgQIAAAQIEShWQACyVU2cECBAgQIAAAQIECBAgQIAAAQIEqiUgAVit+TAaAgQIECBAgAABAgQIECBAgAABAqUKSACWyqkzAgQIECBAgAABAgQIECBAgAABAtUSkACs1nwYDQECBAgQIECAAAECBAgQIECAAIFSBSQAS+XUGQECBAgQIECAAAECBAgQIECAAIFqCUgAVms+jIYAAQIECBAgQIAAAQIECBAgQIBAqQISgKVy6owAAQIECBAgQIAAAQIECBAgQIBAtQQkAKs1H0ZDgAABAgQIECBAgAABAgQIECBAoFQBCcBSOXVGgAABAgQIECBAgAABAgQIECBAoFoCEoDVmg+jIUCAAAECBAgQIECAAAECBAgQIFCqgARgqZw6I0CAAAECBAgQIECAAAECBAgQIFAtAQnAas2H0RAgQIAAAQIECBAgQIAAAQIECBAoVUACsFROnREgQIAAAQIECBAgQIAAAQIECBColoAEYLXmw2gIECBAgAABAgQIECBAgAABAgQIlCogAVgqp84IECBAgAABAgQIECBAgAABAgQIVEtAArBa82E0BAgQIECAAAECBAgQIECAAAECBEoVkAAslVNnBAgQIECAAAECBAgQIECAAAECBKolIAFYrfkwGgIECBAgQIAAAQIECBAgQIAAAQKlCkgAlsqpMwIECBAgQIAAAQIECBAgQIAAAQLVEpAArNZ8GA0BAgQIECBAgAABAgQIECBAgACBUgUkAEvl1BkBAgQIECBAgAABAgQIECBAgACBaglIAFZrPoyGAAECBAgQIECAAAECBAgQIECAQKkCEoClcuqMAAECBAgQIECAAAECBAgQIECAQLUEJACrNR9GQ4AAAQIECBAgQIAAAQIECBAgQKBUAQnAUjl1RoAAAQIECBAgQIAAAQIECBAgQKBaAhKA1ZoPoyFAgAABAgQIECBAgAABAgQIECBQqoAEYKmcOiNAgAABAgQIECBAgAABAgQIECBQLQEJwGrNh9EQIECAAAECBAgQIECAAAECBAgQKFVAArBUTp0RIECAAAECBAgQIECAAAECBAgQqJaABGC15sNoCBAgQIAAAQIECBAgQIAAAQIECJQqIAFYKqfOCBAgQIAAAQIECBAgQIAAAQIECFRLQAKwWvNhNAQIECBAgAABAgQIECBAgAABAgRKFZAALJVTZwQIECBAgAABAgQIECBAgAABAgSqJSABWK35MBoCBAgQIECAAAECBAgQIECAAAECpQpIAJbKqTMCBAgQIECAAAECBAgQIECAAAEC1RKQAKzWfBgNAQIECBAgQIAAAQIECBAgQIAAgVIFJABL5dQZAQIECBAgQIAAAQIECBAgQIAAgWoJSABWaz6MhgABAgQIECBAgAABAgQIECBAgECpAhKApXLqjAABAgQIECBAgAABAgQIECBAgEC1BCQAqzUfRkOAAAECBAgQIECAAAECBAgQIECgVAEJwFI5dUaAAAECBAgQIECAAAECBAgQIECgWgISgNWaD6MhQIAAAQIECBAgQIAAAQIECBAgUKqABGCpnDojQIAAAQIECBAgQIAAAQIECBAgUC0BCcBqzYfRECBAgAABAgQIECBAgAABAgQIEChVQAKwVE6dESBAgAABAgQIECBAgAABAgQIEKiWgARgtebDaAgQIECAAAECBAgQIECAAAECBAiUKiABWCqnzggQIECAAAECBAgQIECAAAECBAhUS0ACsFrzYTQECBAgQIAAAQIECBAgQIAAAQIEShWQACyVU2cECBAgQIAAAQIECBAgQIAAAQIEqiUgAVit+TAaAgQIECBAgAABAgQIECBAgAABAqUKSACWyqkzAgQIECBAgAABAgQIECBAgAABAtUSkACs1nwYDQECBAgQIECAAAECBAgQIECAAIFSBSQAS+XUGQECBAgQIECAAAECBAgQIECAAIFqCUgAVms+jIYAAQIECBAgQIAAAQIECBAgQIBAqQISgKVy6owAAQIECBAgQIAAAQIECBAgQIBAtQQkAKs1H0ZDgAABAgQIECBAgAABAgQIECBAoFQBCcBSOXVGgAABAgQIECBAgAABAgQIECBAoFoCEoDVmg+jIUCAAAECBAgQIECAAAECBAgQIFCqgARgqZw6I0CAAAECBAgQIECAAAECBAgQIFAtAQnAas2H0RAgQIAAAQIECBAgQIAAAQIECBAoVUACsFROnREgQIAAAQIECBAgQIAAAQIECBColoAEYLXmw2gIECBAgAABAgQIECBAgAABAgQIlCogAVgqp84IECBAgAABAgQIECBAgAABAgQIVEtAArBa82E0BAgQIECAAAECBAgQIECAAAECBEoVkAAslVNnBAgQIECAAAECBAgQIECAAAECBKolIAFYrfkwGgIECBAgQIAAAQIECBAgQIAAAQKlCkgAlsqpMwIECBAgQIAAAQIECBAgQIAAAQLVEpAArNZ8GA0BAgQIECBAgAABAgQIECBAgACBUgUkAEvl1BkBAgQIECBAgAABAgQIECBAgACBaglIAFZrPoyGAAECBAgQIECAAAECBAgQIECAQKkCEoClcuqMAAECBAgQIECAAAECBAgQIECAQLUEJACrNR9GQ4AAAQIECBAgQIAAAQIECBAgQKBUAQnAUjl1RoAAAQIECBAgQIAAAQIECBAgQKBaAhKA1ZoPoyFAgAABAgQIECBAgAABAgQIECBQqoAEYKmcOiNAgAABAgQIECBAgAABAgQIECBQLQEJwGrNh9EQIECAAAECBAgQIECAAAECBAgQKFVAArBUzl7pbPM4y0cj/hDxcMS8iAURkyMuijgmYvWI7pYdo+FPIx6NmB8xLeK6iJMjVqWfaK4QIECAAAECBAgQIECAAAECBAhUTUCCp2oz0vl4vhq7/yNiUDvNxsS2HG+N+PeId0Y8FdFZOSl2nh4xtNBoeNQPaIkTYnlExPQIhQABAgQIECBAgAABAgQIECBAoAkF3AHYXJO2cQw3J//mRvw6IifocrJuz4j3RNwSkcteEX+LGJ1XOihviu1nROTk39SIj0XsE3F4xB8jctk74sKIwXlFIUCAAAECBAgQIECAAAECBAgQaD4BdwA215zNiOF+NuJ/Ima3Gfptsf6biP+NeHfEqyPynYBfiWhbhsSGH0XkBPCLEftH5EeA6+WyqPw44iMROcGYk4vnRCgECBAgQIAAAQIECBAgQIAAAQJNJuAOwOaasJz8+1ZE2+Rf/SqWRCUn7Ra1bMiPAbdX3hYbt2zZ8c1YFpN/9fafjsoLLSu5rhAgQIAAAQIECBAgQIAAAQIECDShgARgE05aF0POdwne3dJmqw7aHlXYfk6hXqzmj4uc37Jh+1huXdypToAAAQIECBAgQIAAAQIECBAg0BwCEoDNMU+rOsphLQfkOwLbK/mx3lwejHi2Vmv/j2sKm/NjwgoBAgQIECBAgAABAgQIECBAgECTCUgANtmEdWO4G0Sb7VraTWynff4wyLiW7Q+0s7+4qbi/3mdxvzoBAgQIECBAgAABAgQIECBAgEDFBXwEpOIT1IPh5ff11ee1/ghvsZuxhZXJhXp71UmFjfWkYWFTp9XiedpruFF7G20jQIAAAQIECBAgQIAAAQIECBAoV6CeKCq3V731lcA+ceJ/azl5Tu7lrwW3LWsUNswp1Nurzi1szHcOrkopJg9X5ThtCRAgQIAAAQIECBAgQIAAAQIEShTwCHCJmH3c1YZx/t9H5KTuyxHHR+QPebQtwwsb6l8LLmxaobqwsDaiUFclQIAAAQIECBAgQIAAAQIECBBoEgF3ADZmonIC7pWWE6KDc7rZSb6r75KI+mO3n4v6VR0cu6CwfWih3l61/jGRvG9+ew062dbVI8P5EeBbOjneLgIECBAgQIAAAQIECBAgQIAAgRIEJABLQOzjLvIdff8XsUfLOL4Ty2+11NtbzC5s7Oqx3lGFtl09LlxoWqvmR5AVAgQIECBAgAABAgQIECBAgACBPhaQAGzMBJTxxdxnujG0PH/5Qx+vb2l7VizzR0A6K1MKO+t3DBY2rVAt3sXnnX4r0FghQIAAAQIECBAgQIAAAQIECDSHgARgY+bpgcZ0u0Kv+f2N50a8uWXr72L5oZZ6Z4t8B2BO5uXk3radNWyzf2IXbe0mQIAAAQIECBAgQIAAAQIECBCooICPgFRwUro5pJ9Gu2Na2l4cy+Milrasd7W4vqXBNrHM7+LrqBxY2HFDoa5KgAABAgQIECBAgAABAgQIECDQJAISgE0yUW2G+b1YP7Fl25WxfFfESy3r3VlcVGj0vkK9WB0ZK+9u2XB/LB8q7lQnQIAAAQIECBAgQIAAAQIECBBoDgEJwOaYp+IoT42VT7RsuDGWb41Y2LLe3cWF0fCxlsanxHKrdg78dmxbp2V7risECBAgQIAAAQIECBAgQIAAAQJNKOAdgM01aR+N4f5ny5Dzxzw+E7FFy3pHiwdjx+I2O/N67is/OrxmRH6892sREyJy0u+kiHdE5JIfF87vGlQIECBAgAABAgQIECBAgAABAgSaUEACsLkmrZ6Uy6MeE5GTc12VnCB8op1Gf4ltJ0ecHrFhxI8i2pacEHxbxJK2O6wTIECAAAECBAgQIECAAAECBAg0h4BHgJtjnho1yjOj4z0i8jI/ErwgYkZETix+OGL/iOkRCgECBAgQIECAAAECBAgQIECAQJMKuAOwuSbuoAYM997o84MN6FeXBAgQIECAAAECBAgQIECAAAECFRBwB2AFJsEQCBAgQIAAAQIECBAgQIAAAQIECDRKQAKwUbL6JUCAAAECBAgQIECAAAECBAgQIFABAQnACkyCIRAgQIAAAQIECBAgQIAAAQIECBBolIAEYKNk9UuAAAECBAgQIECAAAECBAgQIECgAgISgBWYBEMgQIAAAQIECBAgQIAAAQIECBAg0CgBCcBGyeqXAAECBAgQIECAAAECBAgQIECAQAUEJAArMAmGQIAAAQIECBAgQIAAAQIECBAgQKBRAhKAjZLVLwECBAgQIECAAAECBAgQIECAAIEKCEgAVmASDIEAAQIECBAgQIAAAQIECBAgQIBAowQkABslq18CBAgQIECAAAECBAgQIECAAAECFRCQAKzAJBgCAQIECBAgQIAAAQIECBAgQIAAgUYJSAA2Sla/BAgQIECAAAECBAgQIECAAAECBCogIAFYgUkwBAIECBAgQIAAAQIECBAgQIAAAQKNEpAAbJSsfgkQIECAAAECBAgQIECAAAECBAhUQEACsAKTYAgECBAgQIAAAQIECBAgQIAAAQIEGiUgAdgoWf0SIECAAAECBAgQIECAAAECBAgQqICABGAFJsEQCBAgQIAAAQIECBAgQIAAAQIECDRKQAKwUbL6JUCAAAECBAgQIECAAAECBAgQIFABAQnACkyCIRAgQIAAAQIECBAgQIAAAQIECBBolIAEYKNk9UuAAAECBAgQIECAAAECBAgQIECgAgISgBWYBEMgQIAAAQIECBAgQIAAAQIECBAg0CgBCcBGyeqXAAECBAgQIECAAAECBAgQIECAQAUEJAArMAmGQIAAAQIECBAgQIAAAQIECBAgQKBRAhKAjZLVLwECBAgQIECAAAECBAgQIECAAIEKCEgAVmASDIEAAQIECBAgQIAAAQIECBAgQIBAowQkABslq18CBAgQIECAAAECBAgQIECAAAECFRCQAKzAJBgCAQIECBAgQIAAAQIECBAgQIAAgUYJSAA2Sla/BAgQIECAAAECBAgQIECAAAECBCogIAFYgUkwBAIECBAgQIAAAQIECBAgQIAAAQKNEpAAbJSsfgkQIECAAAECBAgQIECAAAECBAhUQEACsAKTYAgECBAgQIAAAQIECBAgQIAAAQIEGiUgAdgoWf0SIECAAAECBAgQIECAAAECBAgQqICABGAFJsEQCBAgQIAAAQIECBAgQIAAAQIECDRKQAKwUbL6JUCAAAECBAgQIECAAAECBAgQIFABAQnACkyCIRAgQIAAAQIECBAgQIAAAQIECBBolIAEYKNk9UuAAAECBAgQIECAAAECBAgQIECgAgISgBWYBEMgQIAAAQIECBAgQIAAAQIECBAg0CgBCcBGyeqXAAECBAgQIECAAAECBAgQIECAQAUEJAArMAmGQIAAAQIECBAgQIAAAQIECBAgQKBRAhKAjZLVLwECBAgQIECAAAECBAgQIECAAIEKCEgAVmASDIEAAQIECBAgQIAAAQIECBAgQIBAowQkABslq18CBAgQIECAAAECBAgQIECAAAECFRCQAKzAJBgCAQIECBAgQIAAAQIECBAgQIAAgUYJSAA2Sla/BAgQIECAAAECBAgQIECAAAECBCogIAFYgUkwBAIECBAgQIAAAQIECBAgQIAAAQKNEpAAbJSsfgkQIECAAAECBAgQIECAAAECBAhUQEACsAKTYAgECBAgQIAAAQIECBAgQIAAAQIEGiUgAdgoWf0SIECAAAECBAgQIECAAAECBAgQqICABGAFJsEQCBAgQIAAAQIECBAgQIAAAQIECDRKQAKwUbL6JUCAAAECBAgQIECAAAECBAgQIFABAQnACkyCIRAgQIAAAQIECBAgQIAAAQIECBBolIAEYKNk9UuAAAECBAgQIECAAAECBAgQIECgAgISgBWYBEMgQIAAAQIECBAgQIAAAQIECBAg0CgBCcBGyeqXAAECBAgQIECAAAECBAgQIECAQAUEJAArMAmGQIAAAQIECBAgQIAAAQIECBAgQKBRAhKAjZLVLwECBAgQIECAAAECBAgQIECAAIEKCEgAVmASDIEAAQIECBAgQIAAAQIECBAgQIBAowQkABslq18CBAgQIECAAAECBAgQIECAAAECFRCQAKzAJBgCAQIECBAgQIAAAQIECBAgQIAAgUYJSAA2Sla/BAgQIECAAAECBAgQIECAAAECBCogIAFYgUkwBAIECBAgQIAAAQIECBAgQIAAAQKNEpAAbJSsfgkQIECAAAECBAgQIECAAAECBAhUQEACsAKTYAgECBAgQIAAAQIECBAgQIAAAQIEGiUgAdgoWf0SIECAAAECBAgQIECAAAECBAgQqICABGAFJsEQCBAgQIAAAQIECBAgQIAAAQIECDRKQAKwUbL6JUCAAAECBAgQIECAAAECBAgQIFABAQnACkyCIRAgQIAAAQIECBAgQIAAAQIECBBolIAEYKNk9UuAAAECBAgQIECAAAECBAgQIECgAgISgBWYBEMgQIAAAQIECBAgQIAAAQIECBAg0CgBCcBGyeqXAAECBAgQIECAAAECBAgQIECAQAUEJAArMAmGQIAAAQIECBAgQIAAAQIECBAgQKBRAhKAjZLVLwECBAgQIECAAAECBAgQIECAAIEKCEgAVmASDIEAAQIECBAgQIAAAQIECBAgQIBAowQkABslq18CBAgQIECAAAECBAgQIECAAAECFRCQAKzAJBgCAQIECBAgQIAAAQIECBAgQIAAgUYJSAA2Sla/BAgQIECAAAECBAgQIECAAAECBCogIAFYgUlYxSEcEe1PjbgkYmLE9IjFES9E3Bbx3YhtIrpbdoyGP414NGJ+xLSI6yJOjlg9QiFAgAABAgQIECBAgAABAgQIEGhigUFNPPaBOPSckMvJvq5KbvOliNO6aHhS7D89YmgH7SbE9pxwzEnGssvY6HBS7nTSpElp7Ni8qhAgQIAAAQIECBAgQIAAAQJlCkyePDmNGzeu3mWuTK6vWA4cAXd4Nd9cz4ohXx1xc8RjEc9EzIvYJOKgiPdHrBXxzYiZEWdEtFfeFBvzvnwX6NSIr0fkPl8VkRODb4/YO+LCiIMilkQoBAgQIECAAAECBAgQIECAAAECTSbgDsAmm7AY7uCIzpJxW8T+/CjwOhH5cd6NI9q2HxLbHojYMuLFiN0jHo0olh/HykdaNpwQy3Na6mUt3AFYlqR+CBAgQIAAAQIECBAgQIBABwLuAOwAZoBtznd/Kc0l0DaZ13b0j8eG81s2rh/Lbds2iPW3ReTkXy75TsG2yb+8/dMR+b2CueS6QoAAAQIECBAgQIAAAQIECBAg0IQCEoBNOGndGPLsQpvhhXq9elS9EstzCvViNT9WXE8kbh/1rYs71QkQIECAAAECBAgQIECAAAECBJpDQAKwOeZpVUY5Ihq/teWApbF8qJ2DD2jZ9mAsn21nf33TNfVKLPcv1FUJECBAgAABAgQIECBAgAABAgSaREACsEkmqoth5nf6bRpxTMSNEa+OyOUXEcW7AfO20RHjciVKfg9gZ6W4f7vOGtpHgAABAgQIECBAgAABAgQIECBQTQFfAa7mvHRnVJtHo/y+v47K5bHjk+3szB/fqJeuPv09qd4wlvWkYWFTp9XiedpruFF7G20jQIAAAQIECBAgQIAAAQIECBAoV0ACsFzPKvQ2PQbxLxF/iGjvgyFrFAY5p1Bvrzq3sDHfObgqpZg8XJXjtCVAgAABAgQIECBAgAABAgQIEChRQAKwRMxe7mpKnG+nlnPmeRwT8caID0ScEbFVRP7Cb9tS/CjIorY726wvLKzndwsqBAgQIECAAAECBAgQIECAAAECTSYgAdiYCXu5hG5PiD7O6aSfxbHv3sL+O6N+ScSZEX+P+EZEfhfg+yOKZUFhZWih3l51WGHj/EK9O9WuHhnOjwDf0p2OtCFAgAABAgQIECBAgAABAgQIEOi5gARgz+2qeuTdMbAvRPwkIicRfxtxRUS9FD8K0tVjvaPqB8Wyq8eFC01r1cltN1gnQIAAAQIECBAgQIAAAQIECBDofQEJwMaYl/HF3GdewdD+L47NCcBc3hlRTADmR4frpasPdRTv4vNOv7qaJQECBAgQIECAAAECBAgQIECgiQQkABszWQ80pttu9zqt0HKzQj1X8x2AOZmXk3vbRnRWivsndtbQPgIECBAgQIAAAQIECBAgQIAAgWoKrFbNYRnVKxTIHwSpl/Ye3b2+Zec2sczv4uuoHFjYcUOhrkqAAAECBAgQIECAAAECBAgQINAkAhKATTJRqzjMdxXa31Oo16sX1SuxfF+hXqyOjJV3t2y4P5YPFXeqEyBAgAABAgQIECBAgAABAgQINIeABGBzzFN9lEdFZeP6SgfL18X2L7XseymWv2mn3YWx7bGW7afEcqt22nw7tq3Tsj3XFQIECBAgQIAAAQIECBAgQIAAgSYU8A7A5pq0nAD8XcQlEVdG3BcxM2JYRE7ivTki37VXT+x+JeoPRrQti2PDRyMujlgzIj/e+7WICRE56XdSxDsicsmPC59bq/mDAAECBAgQIECAAAECBAgQIECg6QQkAJtuytLQGPLbWqKj0c+PHV+I+F5HDWL7XyJOjjg9YsOIH0W0LTkhmM+1pO0O6wQIECBAgAABAgQIECBAgAABAs0hIAHYHPNUH+WnopITdwdH7B6RP+CxQcTSiOcj8h2BV0X8KuKZiK7KmdHgHxEfi3hDxCYRcyPyF3/PizgrIj9GrBAgQIAAAQIECBAgQIAAAQIECDSpgARgc03c9Bju+S1R1sjvjY4+WFZn+iFAgAABAgQIECBAgAABAgQIEKiWQP1dcdUaldEQIECAAAECBAgQIECAAAECBAgQIFCKgARgKYw6IUCAAAECBAgQIECAAAECBAgQIFBNAQnAas6LUREgQIAAAQIECBAgQIAAAQIECBAoRUACsBRGnRAgQIAAAQIECBAgQIAAAQIECBCopoAEYDXnxagIECBAgAABAgQIECBAgAABAgQIlCIgAVgKo04IECBAgAABAgQIECBAgAABAgQIVFNAArCa82JUBAgQIECAAAECBAgQIECAAAECBEoRkAAshVEnBAgQIECAAAECBAgQIECAAAECBKopIAFYzXkxKgIECBAgQIAAAQIECBAgQIAAAQKlCEgAlsKoEwIECBAgQIAAAQIECBAgQIAAAQLVFJAArOa8GBUBAgQIECBAgAABAgQIECBAgACBUgQkAEth1AkBAgQIECBAgAABAgQIECBAgACBagpIAFZzXoyKAAECBAgQIECAAAECBAgQIECAQCkCEoClMOqEAAECBAgQIECAAAECBAgQIECAQDUFJACrOS9GRYAAAQIECBAgQIAAAQIECBAgQKAUAQnAUhh1QoAAAQIECBAgQIAAAQIECBAgQKCaAhKA1ZwXoyJAgAABAgQIECBAgAABAgQIECBQioAEYCmMOiFAgAABAgQIECBAgAABAgQIECBQTQEJwGrOi1ERIECAAAECBAgQIECAAAECBAgQKEVAArAURp0QIECAAAECBAgQIECAAAECBAgQqKaABGA158WoCBAgQIAAAQIECBAgQIAAAQIECJQiIAFYCqNOCBAgQIAAAQIECBAgQIAAAQIECFRTQAKwmvNiVAQIECBAgAABAgQIECBAgAABAgRKEZAALIVRJwQIECBAgAABAgQIECBAgAABAgSqKSABWM15MSoCBAgQIECAAAECBAgQIECAAAECpQhIAJbCqBMCBAgQIECAAAECBAgQIECAAAEC1RSQAKzmvBgVAQIECBAgQIAAAQIECBAgQIAAgVIEJABLYdQJAQIECBAgQIAAAQIECBAgQIAAgWoKSABWc16MigABAgQIECBAgAABAgQIECBAgEApAhKApTDqhAABAgQIECBAgAABAgQIECBAgEA1BSQAqzkvRkWAAAECBAgQIECAAAECBAgQIECgFAEJwFIYdUKAAAECBAgQIECAAAECBAgQIECgmgISgNWcF6MiQIAAAQIECBAgQIAAAQIECBAgUIqABGApjDohQIAAAQIECBAgQIAAAQIECBAgUE0BCcBqzotRESBAgAABAgQIECBAgAABAgQIEChFQAKwFEadECBAgAABAgQIECBAgAABAgQIEKimgARgNefFqAgQIECAAAECBAgQIECAAAECBAiUIiABWAqjTggQIECAAAECBAgQIECAAAECBAhUU0ACsJrzYlQECBAgQIAAAQIECBAgQIAAAQIEShGQACyFUScECBAgQIAAAQIECBAgQIAAAQIEqikgAVjNeTEqAgQIECBAgAABAgQIECBAgAABAqUISACWwqgTAgQIECBAgAABAgQIECBAgAABAtUUkACs5rwYFQECBAgQIECAAAECBAgQIECAAIFSBCQAS2HUCQECBAgQIECAAAECBAgQIECAAIFqCkgAVnNejIoAAQIECBAgQIAAAQIECBAgQIBAKQISgKUw6oQAAQIECBAgQIAAAQIECBAgQIBANQUkAKs5L0ZFgAABAgQIECBAgAABAgQIECBAoBQBCcBSGHVCgAABAgQIECBAgAABAgQIECBAoJoCEoDVnBejIkCAAAECBAgQIECAAAECBAgQIFCKgARgKYw6IUCAAAECBAgQIECAAAECBAgQIFBNAQnAas6LUREgQIAAAQIECBAgQIAAAQIECBAoRUACsBRGnRAgQIAAAQIECBAgQIAAAQIECBCopoAEYDXnxagIECBAgAABAgQIECBAgAABAgQIlCIgAVgKo04IECBAgAABAgQIECBAgAABAgQIVFNAArCa82JUBAgQIECAAAECBAgQIECAAAECBEoRkAAshVEnBAgQIECAAAECBAgQIECAAAECBKopIAFYzXkxKgIECBAgQIAAAQIECBAgQIAAAQKlCEgAlsKoEwIECBAgQIAAAQIECBAgQIAAAQLVFJAArOa8GBUBAgQIECBAgAABAgQIECBAgACBUgQkAEth1AkBAgQIECBAgAABAgQIECBAgACBagqsXs1hGdUAEBhcv8ZnnnmmXrUkQIAAAQIECBAgQIAAAQIEShRo83fu1r+Ll3gKXTWBwKAmGKMh9k+BPeOybumfl+aqCBAgQIAAAQIECBAgQIBAJQX2ilHdWsmRGVRDBTwC3FBenRMgQIAAAQIECBAgQIAAAQIECBDoWwF3APat/0A++7C4+J1aAKbFcslAxujja98ozl+/GzP/a9CzfTwep+9bAT8PfetfxbP7majirPTdmPw89J19Fc/s56GKs9K3Y/Iz0bf+VTu7n4fqzEh+7Hf9luHcE8uF1RmakRAgQIBAbwmMjRO93BK5rgxsAT8PA3v+27t6PxPtqQzcbX4eBu7ct3flfh7aUxnY2/xMDOz5b3v1fh7ailgn0IcCHgHuQ3ynJkCAAAECBAgQIECAAAECBAgQINBoAQnARgvrnwABAgQIECBAgAABAgQIECBAgEAfCkgA9iG+UxMgQIAAAQIECBAgQIAAAQIECBBotIAEYKOF9U+AAAECBAgQIECAAAECBAgQIECgDwUkAPsQ36kJECBAgAABAgQIECBAgAABAgQINFpAArDRwvonQIAAAQIECBAgQIAAAQIECBAg0IcCEoB9iO/UBAgQIECAAAECBAgQIECAAAECBAgQIECAAAECBAgQIECAAAECBAgQIECAAAECBAgQIECAAAECBAgQIECAAAECBAgQIECAAAECBAgQIECAAAECBAgQIECAAAECBAgQIECAAAECBAgQIECAAAECBAgQIECAAAECBAgQIECAAAECBAgQIECAAAECBAgQIECAAAECBAgQIECAAAECBAgQIECAAAECBAgQIECAAAECBAgQIECAAAECBAgQIECAAAECBAgQIECAAAECBAgQIECAAAECBAgQIECAAAECBAgQIECAAAECBAgQIECAAAECBAgQIECAAAECBAgQIECAAAECBAgQIECAAAECBAgQIECAAIEmFDgixnxqxCUREyOmRyyOeCHitojvRmwT0d2yYzT8acSjEfMjpkVcF3FyxOoRSrUFNo/hfTTiDxEPR8yLWBAxOeKiiGMiVmUe/TwEWBOX0TH210V8KuL8iMcjXm6JJ2K5qsXPw6qKVa/9ZjGk/P+FByLmRjwfcUvEpyNGRijNL7BBXMKREV+JuDRiekT9v/tzor6q5fA44MKI/P+RhS3LvJ63K9UX2DOG+KWIKyLqczgn6g9FnB1xQMSqFD8Pq6JVrbZrxnDy74H5/wHXRDwSMStiUcRzEVdHfCZi3YjuFD8L3VHShgABAgQIlCSQEzn1X+o7W+b/sX+uG+c8KdrkX+476uvm2LdeN/rRpG8EvhqnXRrR0fzVt0+INpt2Y4h+HrqBVPEmf4/x1ee97fKJVRy7n4dVBKtg8zfHmPJf9tr+LNTXH4x94ys4bkNaNYH6fLa3PGcVulot2p4V0V4/9W1nxv7cTqmmwLUxrPpcdbb8ZbQb2sUl+HnoAqgJdv9TjLGzn4P6vvyP/4d1cj1+FjrBsYsAAQIECDRKICcAZ0bkO7tOiTg6It/tk/+19y0R34vI++v/Q8938XVU3hQ7lkTkts9GfDRi74g3Rvwhot5HvhtwcIRSPYH6X9Tyv+yfG/G+iP0j9og4LiIn/urzmP/lP98d1lHx89CRTHNtvzqGW5/zGVG/PGJ2y7YnYtnd4uehu1LVbbdbDC3fEZx/HvLPwOcj9o04OOJnEfWfk5wEXCNCaV6B+lzm5ZMR+b/7+rZzot7d8s1oWD/u9qjnO4f2alnm9fq+b0RdqaZAvsMrz9OUiP+O+P/t3XuQLFddB/BCwiNBjAjFU2AhEEQSiYRKQJGEAgGhKIJKiKiwSikiPggvQ5WWodQkglqWRULQKFcskoAQUeGPiFqXgC8kKhQkAUGvJPjgDZIQIAG/P+lzaYaentnlZmd693OqfrfPnHNm+tefPndmtme65wcStQ8fkjg9cU2i7ccLUx8r5sOYzjT66gDgBxN1wPfnEk9K1Fz4rsSpidcmbkjUnPhc4oGJoWIuDKloI0CAAAECOyCw6GDcvZLDxxP1Yv7hxND4W6S9TvmtMfXtkKMSs+XcNLQ3iZuznW6vhcCvJ4s6dWPeH++171+TaPuxTgkaKubDkMo0234yaf9Q4j699A+kXnOglssU82EZpfUfc1lSrP1el4h46EC6dQpwe244c6Bf03QEXpxU6xTgO3Upb2TZ9u2+rm3R4ugMqLlS96tTxA9P9MsRuVHtbU71n2P649RXK/DGrL4O7Ay996vM6qyO9yba/KgPkYeK+TCkMr22efOgvyWn5EabD5f0O7q6uTCAookAAQIECKyTwPlJpr2YP2AgsXpz2PrPGOivpnqz3w4kvmfOGM3rL3D7pFif6tb+ftecdM2HOTC7pPlAtqP2fy2XKebDMkrrPeaEpNee4+v1YKjUKV1XJGpcXUO2Dvwqu0NgI5vR9v++JTfpvN596htCQ6Xa2+PWh4TKNAXqYHHbj78zZxPMhzkwu7T5qm5O1KnAs8VcmBVxmwABAgQIrJnAS5NPe3N3/EBuF/b67zzQ35rO742rTwCVaQq0b21cOyd982EOzC5pPpDtqOeDWi5TzIdllNZ7zFlJr70GnDiS6hm9cY8eGadrWgIbSbft/31LpH6zjPlQd58rF4xvBwrqVNK6nzI9gdsk5TY/3jSQvvkwgLLLm9r7xLpcRL+YC30NdQIrEqhPbBUCBAjME6jTdp7YdX4xy7r222x5WNdQp4HU9f/mlbf0Ouracso0BW7VpV3XfBwq5sOQyt5tMx+mv+/bPqyD/pePbI7n+BGcPdR1r2zrXbvt7c+JIYLWf7d0bgwN0Lb2Au09QSU69L7AfFj7XXhIE7xfHu247hHrAH+/mAt9DXUCKxJwAHBF8FZLYI0F6tSteyROS/xt4r6JKn+QmP00r34I4u7VmTL7Qv/l1q/82++//1ea1SYkcMfk2vbd0Dc7zIcJ7cwdSNV82AHkHVhF+z///qzrhpH1eY4fwdlDXd/e29b+nOg1H6z2+9s8O9ipMgmBk3pZDr0vMB96QLu0Wpf5qb8Vnpuog/qHJarUD8f0i7nQ11AnsCKB9h90Rau3WgIE1kRgI3n8+0gul6bveQP939prq1N4xsrVvc520LDXpDoBgRckx/a68dqBfM2HAZQ93GQ+TH/n3zqbUBf6r7LoOb6u/VffEqxTAj3HB2GPFv/v986Ory+SnNHbXO8Lehi7vLqZ7XvlyDaek766BEi/eG7oa6gTWJGAbwCuCN5qCUxE4KPJ8ymJxyc+PZBz/xdjPzPQ32+qPwxbqW8GKdMSODHpPqdLuQ4EvHwgffNhAGUPN5kP09/5W9mHtbXted5z/PT3/Xa3YCtzps2XWpc5s13x1d3v9Kz6hG719Yuvlw+kYj4MoOzipn/JttWceFGirg3ZL+ZCX0OdwIoE2jc5VrR6qyVAYE0E6oLdx3a51PNCXY/nsYlnJM5PHJU4OzFb6tshrXy+VeYs69djWzm8VSwnIXCnZPm6RM2NekP39MR1idliPsyK7O3b5sP09/9W9mFtbXue9xw//X2/3S3Yypxp86XWZc5sV3w19zspqz2nW/WHs3zWnDTMhzkwE29+Q/J/R7cN9X+3/k44NfGkxEWJ+sD4jYl+MRf6GuoEViTgG4ArgrdaAlsQqAMuX29sLljfF9L/7i7q07s3JX428ZBErbt+BbKuAThbru813LJXH6r2LxT92aEB2pYS+HrnQt1/c6k1fXlQfWJb86GdulGn+/z1l7u+5l/z4WtIbvKGnZ4PW9kg82ErWus5div7sLagPc97jl/P/bkTWW1lzrT5UnmZMzuxdw7NOh6Qh/mTRH0oWPv7yYk6CDhUzIchlem3fTKb0P5uqF/9vTjx/YmnJe6d+NPEZqJfzIW+hjqBFQk4ALgieKslMBGBdyXPX+xy/bEsHz2Td/9HQRadvlPXhWpl0enCbZzlagXq09p6E3d8l8ZvZPmSrj60MB+GVPZum/kw/X2/lX1YW9ue5z3HT3/fb3cLtjJn2nypdZkz2xXf2fvVL7n+ReJ2ifrV39MSlyXmFfNhnszubP+jbNYfJ+oYw8sS35JoxVxoEpYEVijgFOAV4ls1gSUF7r/kuLFh/zXWuaCvDgCd1435wSzrjV8rdepwK+0bYu327LJ/UfirZzvdXlpgp+ZDvT7UBb0f0WV2QZYv6OrzFubDPJmbrn2n5sN2tsB82I7aet2nvrHxscTtE4ue4+uAQDug4zk+GHu0XNPb7kVzxvuCHtYEqndNjn+ZqGV9+/zHE/UecayYD2M6u7Ov5kSdDlyvB49NtB8DMReCoRBYtUD9gacQILDeAletOL2P9NZ/z169qvVpXv2hV2/ivy0xVvr9V44N1DcqsBPzoT65rU9xn9Bl8posn9nVxxbmw5jOTdO3E/Nhu5mbD9uVW6/7XZF0vidxn0S9b7whMVQ8xw+p7L22mi+t9OdEa+sv+/3eF/Rl1q9+h6T05sS9u9TqMjGv6upjC/NhTGd39s37u8Fc2J3721YRIECAwC4T2Mj2tOuMvX5g2+qTvdZ/54H+1nR+b9zRrdFyLQV+r7ev/iz1rXxYZD6s5S49ZEkdyCPV//daLlPMh2WU1nvMWUmvPcefOJLqGb1xjx4Zp2taAhtJt+3/fUukfrOMqW//1n0WHdSr/hp3TaLup6ynwJFJ6/JEmwe/sIU0zYctYO2SoZvZjjZX6kBxK+ZCk7AkQIAAAQJrLFCnfbYX8jMH8jy1119/AA6VI9L48UQ9znuGBmhbG4HfSiZtf9epPv2LtC+TpPmwjNJ0xxxI6jU/arlMMR+WUVrvMSckvfacUB/kDJX61vAViRr3icQtEsruENjIZrT9v2/JTTqvd5+HzLlPtbfHPXfOGM2rF6j3b29LtH31q9tIyXzYBtqE7/Km3nw5eWY7zIUZEDcJECBAgMBOCZySFd1lwcoenv46ja/e+NUvBd8vMVvqD70PJGrMpxJHJWZLvblvbx43ZzvdXhuBM5NJ209/k3q7ntdWEjQftqI1vbEHknLNkVouU8yHZZTWf8xlSbH2e70OPHQg3Rd0/TXmzIF+TdMV2Ejq7XVh35KbcXTG1anidb9/TBye6Je6Xe1tTt2336m+NgK3TCaXJtr+/+1tZmY+bBNuze62mXxuvSCn09Pf5su/pX7zmfHmwgyImwQIECBAYKcE9mVFn0tcknh24uTEcYk6xeupiYsSNybaC/kvpT6vPC4dbex/p/4ziRMSj0m8LtEe462pz74ZSJOyBgJ1mkbbT3U61ncnjlkQdXBnqJgPQyrTa7tPUt6ciY/mds2TWm7OxJ1ze6iYD0Mq02r7zqR7XaL2fX0o9KJEfYPrEYlXJNpzx3tTv21CB53k1wAACq9JREFUma7Aw5L6Zi+en3rbv2/rtbcxaRosZ6e13e+fUn9K4sHdsm63vrNSV9ZT4PVJq+2nv0r92MTY+4I6uDOvmA/zZKbTfiCpfizxu4mnJep94gMT9ZzxrEQ9P7T5Un9fPCoxVMyFIRVtBAgQIEDgJhbYl8dvL9Rjy/qj77lL5PITGVMv+PMe6x/SVxeRVtZTYH/Smrfv5rVvjGyK+TCCM5GuzeQ5b98PtZ88sl3mwwjORLqekDzrW95D+77a6uBfHTRWpi2wL+nP28dD7fO2tk4L//0Fj3VB+mucsp4CQ/t7rO3AyGaYDyM4E+mq/Tu2/1vf1Rn3vSPbZC6M4OgiQIAAAQI3lUAdjDs1cX7i7YkPJq5P1AG/axKXJupCz3dJLFvqk+H6ZPADic8m6ltCb038VOKwhLK+AvuTWnvztuxyY8HmmA8LgNa8ezP5LTsXatzJibFiPozpTKPvnkmzrhNaB/uuTdT1/upUzhcmjkgo0xfYl03Yyv/7RVtc3wB+Q+JDic91y7r9fQllvQW2Mg9q7IElNsd8WAJpTYcclbyembg48c5EnfFTl4X4dOL9idclNhPLvhaYC8FSCBAgQIAAAQIECBAgQIAAAQIECBAgQIAAAQIECBAgQIAAAQIECBAgQIAAAQIECBAgQIAAAQIECBAgQIAAAQIECBAgQIAAAQIECBAgQIAAAQIECBAgQIAAAQIECBAgQIAAAQIECBAgQIAAAQIECBAgQIAAAQIECBAgQIAAAQIECBAgQIAAAQIECBAgQIAAAQIECBAgQIAAAQIECBAgQIAAAQIECBAgQIAAAQIECBAgQIAAAQIECBAgQIAAAQIECBAgQIAAAQIECBAgQIAAAQIECBAgQIAAAQIECBAgQIAAAQIECBAgQIAAAQIECBAgQIAAAQIECBAgQIAAAQIECBAgQIAAAQIECBAgQIAAAQIECBAgQIAAAQIECBAgQIAAAQIECBAgQIAAAQIECBAgQIAAAQIECBAgQIAAAQIECBAgQIAAAQIECBAgQIAAAQIECBAgQIAAAQIECBAgQIAAAQIECBAgQIAAAQIECBAgQIAAAQIECBAgQIAAAQIECBAgQIAAAQIECBAgQGCPCGxmO780ENW+6jKU1/5VJ2X9BAgQIECAAIEpCHzDFJKUIwECBAgQIECAAAECBAgQIECAAAEC2xM4bHt3cy8CBAgQIECAAIFdLvCYbN9/dtt4zRps67G9HF6Z+oN7t1UJECBAgAABAgRGBBwAHMHRRYAAAQIECBDYwwLvy7YfWKPtf3cvl2t7dVUCBAgQIECAAIEFAk4BXgCkmwABAgQIECBAgAABAgQIECBAgMCUBRwAnPLekzsBAgQIECBAgAABAgQIECBAgACBBQIOAC4A0k2AAAECBAgQWAOBpyaH9iu4543kc4/0faIbe2WWh4+M/Xq7NvMALaeN1G+ZeG7iHYlPJT6e2J94fKJfbpsbL0z8c+LTiU8m3px4ZEIhQIAAAQIECBAgQIAAAQIECBAgsGcFXp0tbwfcZg+qFUp9sLs/UWM+n3hQYqtlM3do69hYcOf+2O/I2L9PtPvOLk/vHqsOUNa1/Gb76/YXEz+cWKbsz6C6Ty0VAgQIECBAgAABAgQIECBAgAABArtC4MhsxX8k6sDX/yTumOiXM3KjHVir+nbKZu7UHmNjwQP0x9bBvy8kzk08KnF84hmJDyXq8W5MHJOobwdelzg7cVKifsn35xP1LcAaV98InN2uNH1N2Z+WGl9LhQABAgQIECBAgAABAgQIECBAgMCuEXh4tqQOptXBrz/vbVUdcKtv/VX7WxLbvczLZvcY9TgbibGymc4aV1Hf3jslMVvqm4Et3w+nfn3ixNlBuf24RHus9m3BgWEHm/Z342upECBAgAABAgQIECBAgAABAgQIENhVAmdla9rBsmelfkTiqq6tvkl3z8R2y2bu2B57Y8GD9MdePDK2Dki2xzxnZNyBbtwlI2Na1/5ubC0VAgQIECBAgACBBQLb/XR4wcPqJkCAAAECBAgQuIkEfjmPe3n32L+Z5YWJ+3W3n51lnSa802XsAOA7e8mMjXtXN+7evfGqBAgQIECAAAECh0DAAcBDgOghCBAgQIAAAQI7KFDX2qsfy6hr6dWv/D4xUeWiRP1QyCrK+0ZWWt9KbGWZcfUrwQoBAgQIECBAgMAhFHAA8BBieigCBAgQIECAwA4JvDfreWlvXR9J/ad7t3e6Wgcj55W6PmAry4y7eRtsSYAAAQIECBAgcGgEHAA8NI4ehQABAgQIECCwkwLflJU9vbfCO6T+oN5tVQIECBAgQIAAAQIHBRwAPEihQoAAAQIECBCYjMDLkulGl+3/ZnmzxL7ENycUAgQIECBAgAABAl8l4ADgV3G4QYAAAQIECBBYe4EnJ8Mf7bK8IMundvW7Z/nyrm5BgAABAgQIECBA4KCAA4AHKVQIECBAgAABAmsvcLdk+Iouy3/N8jmJNybO79pOy7J+IEQhQIAAAQIECBAgcFDAAcCDFCoECBAgQIAAgbUWqNN8/zBxu8QNiR9JXJuo8rxE/TBIlXMT9/j/mn8IECBAgAABAgQIRMABQNOAAAECBAgQIDANgdOT5iO7VH8ly7f30q5f160Dgl9IHJl4VcL7vCAoBAgQIECAAAEC3hiaAwQIECBAgACBKQgcmyTP6hL9uyx/bSDpd6TtxV37SVk+f2CMJgIECBAgQIAAgT0o4JPhPbjTbTIBAgQIECAwKYFbJdtXJ2r5mUT9AMiNiaFyThrf1nXUtwSPGxqkjQABAgQIECBAgAABAgQIECBAgACBvSmwmc3+UhcbWa5r2Z/EKs9aKgQIECBAgAABAgsEDlvQr5sAAQIECBAgQGBvChydzf7GbtOvyfKTK2Y4prf+2/TqqgQIECBAgAABAgQIECBAgAABAgQILCmwmXHtG4D9ZbWvuvTzafX9q07K+gkQIECAAAECUxBwDcAp7CU5EiBAgAABAgQIECBAgAABAgQIECBAgAABAgQIECBAgAABAgQIECBAgAABAgQIECBAgAABAgQIECBAgAABAgQIECBAgAABAgQIECBAgAABAgQIECBAgAABAgQIECBAgAABAgQIECBAgAABAgQIECBAgAABAgQIECBAgAABAgQIECBAgAABAgQIECBAgAABAgQIECBAgAABAgQIECBAgAABAgQIECBAgAABAgQIECBAgAABAgQIECBAgAABAgQIECBAgAABAgQIECBAgAABAgQIECBAgAABAgQIECBAgAABAgQIECBAgAABAgQIECBAgAABAgQIECBAgAABAgQIECBAgAABAgQIECBAgAABAgQIECBAgAABAgQIECBAgAABAgQIECBAgAABAgQIECBAgAABAgQIECBAgAABAgQIECBAgAABAgQIECBAgAABAgQIECBAgAABAgQIECBAgAABAgQIECBAgAABAgQIECBAgAABAgQIECBAgAABAgQIECBAgAABAgQIECBAgAABAgQIECBAgAABAgQIECBAgAABAgQIECBAgAABAgQIECBAgAABAgQIECBAgAABAgQIECBAgAABAgQIECBAgAABAgQIECBAgAABAgQIECBAgAABAgQIECBAgAABAgQIECDwFYH/A97oKGqUAtzJAAAAAElFTkSuQmCC\" width=\"640\">"
      ],
      "text/plain": [
       "<IPython.core.display.HTML object>"
      ]
     },
     "metadata": {},
     "output_type": "display_data"
    },
    {
     "data": {
      "text/plain": [
       "<a list of 7 text.Text objects>"
      ]
     },
     "execution_count": 45,
     "metadata": {},
     "output_type": "execute_result"
    }
   ],
   "source": [
    "plt.xlabel('x [m]')\n",
    "plt.ylabel('y [m]')\n",
    "#plt.title(\"Contours (%d in total) of the head in layer %d with inactive section\" % (nc, layer))\n",
    "CS = plt.contour(xm, ym, Phi[layer])\n",
    "plt.clabel(CS, inline=1, fontsize=10)"
   ]
  },
  {
   "cell_type": "markdown",
   "metadata": {},
   "source": [
    "* The white area is the aquifer part that was defined as inactive (impervious).\n",
    "* The red trough is the well location.\n",
    "* The two flanks and the front sides are closed (no FQ and no fixed head).\n",
    "* The head at the back side is prescribed and maintained at zero."
   ]
  },
  {
   "cell_type": "markdown",
   "metadata": {
    "collapsed": true
   },
   "source": [
    "## Conclusion"
   ]
  },
  {
   "cell_type": "markdown",
   "metadata": {},
   "source": [
    "In this chapter we have developed, from scratch, a full 3D finite difference model for which fixed heads, fixed flows and inactive subareas are be prescribed. While developing we also computed a concrete example of which the head contours were finally shown.\n",
    "\n",
    "To turn this model into a general Python function that can compute arbitrary 3D steady-state models of this kind, we only have to gather the developed lines and put them under a function definition, add some help strings (a doc string) and add error checking for convenience, while the data for this specific case, like the grid dimensions (`x`,`y`,`z`) the conductivities (`kx`,`ky`,`kz`), the prescribed flows `FQ` and initial heads `HI` plus the boundary array `IBOUND` that tells which cells have fixed heads and which are inactive, are to be passed as in user-given arguments at the function call like so:\n",
    "\n",
    "Phi = fdm3(x,y,z,kx,ky,kz,FQ,IH,IBOUND) # function that solves arbitrary 3D steady steate finite difference model\n"
   ]
  }
 ],
 "metadata": {
  "anaconda-cloud": {},
  "kernelspec": {
   "display_name": "Python [conda root]",
   "language": "python",
   "name": "conda-root-py"
  },
  "language_info": {
   "codemirror_mode": {
    "name": "ipython",
    "version": 3
   },
   "file_extension": ".py",
   "mimetype": "text/x-python",
   "name": "python",
   "nbconvert_exporter": "python",
   "pygments_lexer": "ipython3",
   "version": "3.6.2"
  }
 },
 "nbformat": 4,
 "nbformat_minor": 1
}
